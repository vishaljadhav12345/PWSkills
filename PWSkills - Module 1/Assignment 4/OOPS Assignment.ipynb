{
  "nbformat": 4,
  "nbformat_minor": 0,
  "metadata": {
    "colab": {
      "provenance": []
    },
    "kernelspec": {
      "name": "python3",
      "display_name": "Python 3"
    },
    "language_info": {
      "name": "python"
    }
  },
  "cells": [
    {
      "cell_type": "markdown",
      "source": [
        "# **Python OOPs Questions**"
      ],
      "metadata": {
        "id": "_NuCfbODjD5y"
      }
    },
    {
      "cell_type": "markdown",
      "source": [
        "1. What is Object-Oriented Programming (OOP)?\n",
        "\n",
        "- OOP is a programming paradigm based on the concept of \"objects\", which contain data (attributes) and code (methods).\n",
        "\n",
        "- Helps in modeling real-world systems, promotes reusability, and makes code modular."
      ],
      "metadata": {
        "id": "8S7Q0OUyjNJb"
      }
    },
    {
      "cell_type": "markdown",
      "source": [
        "2. What is a class in OOP?\n",
        "\n",
        "- A class is a blueprint for creating objects. It defines properties (attributes) and methods (functions) that its objects will have.\n",
        "\n",
        "- Example:"
      ],
      "metadata": {
        "id": "N3hc7qFwkDEB"
      }
    },
    {
      "cell_type": "code",
      "source": [
        "class Car:\n",
        "    def drive(self):\n",
        "        print(\"Driving\")\n",
        "car = Car()\n",
        "car.drive()"
      ],
      "metadata": {
        "colab": {
          "base_uri": "https://localhost:8080/"
        },
        "id": "R165SisZjurW",
        "outputId": "3672d21d-3e85-4289-e438-57db435b08bf"
      },
      "execution_count": 2,
      "outputs": [
        {
          "output_type": "stream",
          "name": "stdout",
          "text": [
            "Driving\n"
          ]
        }
      ]
    },
    {
      "cell_type": "markdown",
      "source": [
        "3. What is an object in OOP?\n",
        "\n",
        "- An object is an instance of a class. It represents a specific entity with the properties and behaviors defined by its class.\n",
        "\n",
        "- Example:"
      ],
      "metadata": {
        "id": "g8sSnSQllBbi"
      }
    },
    {
      "cell_type": "code",
      "source": [
        "my_car = Car()\n",
        "my_car.drive()  # Output: Driving"
      ],
      "metadata": {
        "colab": {
          "base_uri": "https://localhost:8080/"
        },
        "id": "NbmtOypolTje",
        "outputId": "0272c251-d110-467f-faa6-90d38c647c28"
      },
      "execution_count": 3,
      "outputs": [
        {
          "output_type": "stream",
          "name": "stdout",
          "text": [
            "Driving\n"
          ]
        }
      ]
    },
    {
      "cell_type": "markdown",
      "source": [
        "4. What is the difference between abstraction and encapsulation?\n",
        "\n",
        "- Abstraction hides implementation details and shows only functionality to the user.\n",
        "\n",
        "- Encapsulation wraps data and methods into a single unit and restricts direct access to some components.\n",
        "\n",
        "- Example:"
      ],
      "metadata": {
        "id": "GGJvsHBdlhDV"
      }
    },
    {
      "cell_type": "code",
      "source": [
        "class Car:\n",
        "    def __init__(self):\n",
        "        self._speed = 0  # Encapsulation: _speed is a protected variable\n",
        "\n",
        "    def drive(self):     # Abstraction: hiding the implementation details\n",
        "        print(\"Driving the car at speed:\", self._speed)\n",
        "\n",
        "# Creating an object of the Car class\n",
        "car = Car()\n",
        "\n",
        "# Calling the drive method\n",
        "car.drive()"
      ],
      "metadata": {
        "colab": {
          "base_uri": "https://localhost:8080/"
        },
        "id": "dtuoSQABlpBh",
        "outputId": "93270df5-b608-45b8-a914-473807ed8a15"
      },
      "execution_count": 5,
      "outputs": [
        {
          "output_type": "stream",
          "name": "stdout",
          "text": [
            "Driving the car at speed: 0\n"
          ]
        }
      ]
    },
    {
      "cell_type": "markdown",
      "source": [
        "5. What are dunder methods in Python?\n",
        "\n",
        "- Dunder (\"double underscore\") methods are special methods with names like __init__, __str__, __add__, etc. They enable operator overloading, object construction, and more.\n",
        "\n",
        "- Example:"
      ],
      "metadata": {
        "id": "WkRdh1Dnm7Bg"
      }
    },
    {
      "cell_type": "code",
      "source": [
        "class Book:\n",
        "    def __init__(self, title):\n",
        "        self.title = title\n",
        "\n",
        "    def __str__(self):\n",
        "        return f\"Book: {self.title}\"\n",
        "\n",
        "# Create an instance of the Book class\n",
        "my_book = Book(\"The Great Gatsby\")\n",
        "\n",
        "# Print the book object\n",
        "print(my_book)"
      ],
      "metadata": {
        "colab": {
          "base_uri": "https://localhost:8080/"
        },
        "id": "-uiAlu4wnJ_X",
        "outputId": "5115f4db-f177-40db-c158-7b44e3386684"
      },
      "execution_count": 6,
      "outputs": [
        {
          "output_type": "stream",
          "name": "stdout",
          "text": [
            "Book: The Great Gatsby\n"
          ]
        }
      ]
    },
    {
      "cell_type": "markdown",
      "source": [
        "6. Explain the concept of inheritance in OOP?\n",
        "\n",
        "- Inheritance allows a class (child/derived) to acquire properties and methods of another class (parent/base).\n",
        "\n",
        "- Example:"
      ],
      "metadata": {
        "id": "7v0ptcmBm65v"
      }
    },
    {
      "cell_type": "code",
      "source": [
        "class Animal:\n",
        "    def speak(self):\n",
        "        print(\"Animal speaks\")\n",
        "\n",
        "class Dog(Animal):\n",
        "    pass\n",
        "\n",
        "d = Dog()\n",
        "d.speak()  # Output: Animal speaks"
      ],
      "metadata": {
        "colab": {
          "base_uri": "https://localhost:8080/"
        },
        "id": "FREGfvTknsBb",
        "outputId": "ecaa558a-3dd4-4e1e-f99d-70196c96bb5a"
      },
      "execution_count": 7,
      "outputs": [
        {
          "output_type": "stream",
          "name": "stdout",
          "text": [
            "Animal speaks\n"
          ]
        }
      ]
    },
    {
      "cell_type": "markdown",
      "source": [
        "7. What is polymorphism in OOP?\n",
        "\n",
        "- Polymorphism allows objects of different classes to be treated as objects of a common superclass. It enables the same interface to have different implementations.\n",
        "\n",
        "- Example:"
      ],
      "metadata": {
        "id": "VdwzAoSvn1M4"
      }
    },
    {
      "cell_type": "code",
      "source": [
        "class Cat:\n",
        "    def speak(self):\n",
        "      print(\"Meow\")\n",
        "class Dog:\n",
        "    def speak(self):\n",
        "      print(\"Woof\")\n",
        "\n",
        "def animal_sound(animal):\n",
        "    animal.speak()\n",
        "\n",
        "animal_sound(Cat())  # Meow\n",
        "animal_sound(Dog())  # Woof"
      ],
      "metadata": {
        "colab": {
          "base_uri": "https://localhost:8080/"
        },
        "id": "0CSkgpJQoA65",
        "outputId": "76eb250f-fe1d-444f-b5c0-f99ff899ac5b"
      },
      "execution_count": 8,
      "outputs": [
        {
          "output_type": "stream",
          "name": "stdout",
          "text": [
            "Meow\n",
            "Woof\n"
          ]
        }
      ]
    },
    {
      "cell_type": "markdown",
      "source": [
        "8. How is encapsulation achieved in Python?\n",
        "\n",
        "- By using private (__var) or protected (_var) variables and providing getter/setter methods.\n",
        "\n",
        "- Example:"
      ],
      "metadata": {
        "id": "I5iuoSUCoS2h"
      }
    },
    {
      "cell_type": "code",
      "source": [
        "class Person:\n",
        "    def __init__(self, name):\n",
        "        self.__name = name  # private variable\n",
        "\n",
        "    def get_name(self):\n",
        "        return self.__name  # public method to access the private variable\n",
        "\n",
        "# Create an instance of Person\n",
        "person = Person(\"Vishal\")\n",
        "\n",
        "# Access the name using the getter method\n",
        "print(\"Person's name is:\", person.get_name())"
      ],
      "metadata": {
        "colab": {
          "base_uri": "https://localhost:8080/"
        },
        "id": "ztTieX8Sof7P",
        "outputId": "8ce11a01-2260-4ced-98aa-15a495d10a07"
      },
      "execution_count": 9,
      "outputs": [
        {
          "output_type": "stream",
          "name": "stdout",
          "text": [
            "Person's name is: Vishal\n"
          ]
        }
      ]
    },
    {
      "cell_type": "markdown",
      "source": [
        "9. What is a constructor in Python?\n",
        "\n",
        "- A constructor is a special method (__ init__) called when an object is created, used to initialize attributes.\n",
        "\n",
        "- Example:"
      ],
      "metadata": {
        "id": "YxtadaGZo5kB"
      }
    },
    {
      "cell_type": "code",
      "source": [
        "class User:\n",
        "    def __init__(self, name):\n",
        "        self.name = name\n",
        "\n",
        "# Create an instance of the User class\n",
        "user1 = User(\"Vishal\")\n",
        "\n",
        "# Access and print the name attribute\n",
        "print(\"User's name is:\", user1.name)"
      ],
      "metadata": {
        "colab": {
          "base_uri": "https://localhost:8080/"
        },
        "id": "knzroBirpMZ2",
        "outputId": "074c479f-a133-4e57-eab4-fd21295bdf16"
      },
      "execution_count": 10,
      "outputs": [
        {
          "output_type": "stream",
          "name": "stdout",
          "text": [
            "User's name is: Vishal\n"
          ]
        }
      ]
    },
    {
      "cell_type": "markdown",
      "source": [
        "10. What are class and static methods in Python?\n",
        "\n",
        "- Class methods use @classmethod and receive the class as the first argument (cls).\n",
        "\n",
        "- Static methods use @staticmethod and do not receive an implicit first argument.\n",
        "\n",
        "- Example:"
      ],
      "metadata": {
        "id": "C_-4Tsd3ptew"
      }
    },
    {
      "cell_type": "code",
      "source": [
        "class Example:\n",
        "    count = 0  # class variable\n",
        "\n",
        "    @classmethod\n",
        "    def increment(cls):\n",
        "        cls.count += 1  # modify class-level data\n",
        "\n",
        "    @staticmethod\n",
        "    def greet():\n",
        "        print(\"Hello\")  # does not depend on class or instance data\n",
        "\n",
        "# Call static method\n",
        "Example.greet()\n",
        "\n",
        "# Call class method to increment count\n",
        "Example.increment()\n",
        "Example.increment()\n",
        "\n",
        "# Print the updated count\n",
        "print(\"Count:\", Example.count)"
      ],
      "metadata": {
        "colab": {
          "base_uri": "https://localhost:8080/"
        },
        "id": "Kyte4-ygp2IU",
        "outputId": "b664e2cb-eebe-41f8-e295-3cea669dd52c"
      },
      "execution_count": 12,
      "outputs": [
        {
          "output_type": "stream",
          "name": "stdout",
          "text": [
            "Hello\n",
            "Count: 2\n"
          ]
        }
      ]
    },
    {
      "cell_type": "markdown",
      "source": [
        "11. What is method overloading in Python?\n",
        "\n",
        "- Python does not support traditional method overloading. You can achieve similar behavior using default arguments or variable arguments.\n",
        "\n",
        "- Example:"
      ],
      "metadata": {
        "id": "RY7vTis7qWI6"
      }
    },
    {
      "cell_type": "code",
      "source": [
        "class Demo:\n",
        "    def show(self, a=None, b=None):\n",
        "        if a is not None and b is not None:\n",
        "            print(a, b)\n",
        "        elif a is not None:\n",
        "            print(a)\n",
        "        else:\n",
        "            print(\"No args\")\n",
        "\n",
        "# Create an instance of Demo\n",
        "d = Demo()\n",
        "\n",
        "# Call the method with different arguments (simulating overloading)\n",
        "d.show()          # No arguments\n",
        "d.show(10)        # One argument\n",
        "d.show(10, 20)    # Two arguments"
      ],
      "metadata": {
        "colab": {
          "base_uri": "https://localhost:8080/"
        },
        "id": "1GjGJzf8qdbY",
        "outputId": "7b04a00b-1b92-4e41-a8a8-c601f2cfb19b"
      },
      "execution_count": 13,
      "outputs": [
        {
          "output_type": "stream",
          "name": "stdout",
          "text": [
            "No args\n",
            "10\n",
            "10 20\n"
          ]
        }
      ]
    },
    {
      "cell_type": "markdown",
      "source": [
        "12. What is method overriding in OOP?\n",
        "\n",
        "- A child class provides a specific implementation of a method already defined in its parent class.\n",
        "\n",
        "- Example:"
      ],
      "metadata": {
        "id": "vONbUIyIrI3l"
      }
    },
    {
      "cell_type": "code",
      "source": [
        "class Parent:\n",
        "    def greet(self):\n",
        "        return \"Hello\"\n",
        "\n",
        "class Child(Parent):\n",
        "    def greet(self):\n",
        "        return \"Hi\"\n",
        "\n",
        "# Create instances of Parent and Child\n",
        "parent_obj = Parent()\n",
        "child_obj = Child()\n",
        "\n",
        "# Call the greet method on both\n",
        "print(\"Parent says:\", parent_obj.greet())\n",
        "print(\"Child says:\", child_obj.greet())"
      ],
      "metadata": {
        "colab": {
          "base_uri": "https://localhost:8080/"
        },
        "id": "0R-du6snrRRW",
        "outputId": "99b5cc2a-0313-4021-c9b5-74b9d04ca495"
      },
      "execution_count": 15,
      "outputs": [
        {
          "output_type": "stream",
          "name": "stdout",
          "text": [
            "Parent says: Hello\n",
            "Child says: Hi\n"
          ]
        }
      ]
    },
    {
      "cell_type": "markdown",
      "source": [
        "13. What is a property decorator in Python?\n",
        "\n",
        "- @property allows a method to be accessed like an attribute for controlled access.\n",
        "\n",
        "- Example:"
      ],
      "metadata": {
        "id": "qHiFpqiHr1jA"
      }
    },
    {
      "cell_type": "code",
      "source": [
        "class Circle:\n",
        "    def __init__(self, radius):\n",
        "        self._radius = radius  # protected variable\n",
        "\n",
        "    @property\n",
        "    def area(self):\n",
        "        return 3.14 * self._radius ** 2  # computed property\n",
        "\n",
        "# Create a Circle object\n",
        "c = Circle(5)\n",
        "\n",
        "# Access the area property\n",
        "print(\"Area of circle:\", c.area)"
      ],
      "metadata": {
        "colab": {
          "base_uri": "https://localhost:8080/"
        },
        "id": "K2D147oGr-PZ",
        "outputId": "58855368-9db4-49a6-8c69-e027d1d302fd"
      },
      "execution_count": 16,
      "outputs": [
        {
          "output_type": "stream",
          "name": "stdout",
          "text": [
            "Area of circle: 78.5\n"
          ]
        }
      ]
    },
    {
      "cell_type": "markdown",
      "source": [
        "14. Why is polymorphism important in OOP?\n",
        "\n",
        "- It enables code reusability and flexibility by allowing the same interface to work with different types of objects.\n",
        "\n",
        "- Code Reusability -\n",
        " - We can write general code that works with different types of objects.\n",
        "\n",
        "  - For example, a function can accept any object that implements a draw() method — whether it's a Circle, Rectangle, or Triangle."
      ],
      "metadata": {
        "id": "a_FC_oaMsYsW"
      }
    },
    {
      "cell_type": "markdown",
      "source": [
        "15. What is an abstract class in Python?\n",
        "\n",
        "- An abstract class cannot be instantiated and may contain abstract methods that must be implemented by subclasses. Use abc module.\n",
        "\n",
        "- Example:"
      ],
      "metadata": {
        "id": "6KcwcRG04_vG"
      }
    },
    {
      "cell_type": "code",
      "source": [
        "from abc import ABC, abstractmethod\n",
        "\n",
        "# Abstract base class\n",
        "class Shape(ABC):\n",
        "    @abstractmethod\n",
        "    def area(self):\n",
        "        pass\n",
        "\n",
        "# Concrete subclass implementing the abstract method\n",
        "class Rectangle(Shape):\n",
        "    def __init__(self, width, height):\n",
        "        self.width = width\n",
        "        self.height = height\n",
        "\n",
        "    def area(self):\n",
        "        return self.width * self.height\n",
        "\n",
        "# Create an instance of the Rectangle class\n",
        "rect = Rectangle(5, 3)\n",
        "\n",
        "# Call the area method\n",
        "print(\"Area of rectangle:\", rect.area())"
      ],
      "metadata": {
        "colab": {
          "base_uri": "https://localhost:8080/"
        },
        "id": "l-NnCiX95J6z",
        "outputId": "e79fcf4f-67ac-44ed-bb04-4553023b64f4"
      },
      "execution_count": 17,
      "outputs": [
        {
          "output_type": "stream",
          "name": "stdout",
          "text": [
            "Area of rectangle: 15\n"
          ]
        }
      ]
    },
    {
      "cell_type": "markdown",
      "source": [
        "16. What are the advantages of OOP?\n",
        "\n",
        "- Key Advantages of OOP:\n",
        "  1. Modularity\n",
        "\n",
        "  - (Separation of Concerns)\n",
        "Code is organized into classes, making it easy to manage and understand.\n",
        "  Each class is responsible for its own behavior and data.\n",
        "  - Example: A Car class can manage only car-related properties, while a Person class manages person-related details.\n",
        "\n",
        "  2. Reusability\n",
        "\n",
        "  - Classes can be reused in multiple programs or modules.\n",
        "\n",
        "  - Inheritance allows new classes to use the properties and behaviors of existing ones.\n",
        "\n",
        "  3. Scalability and Maintainability\n",
        "\n",
        "  - Changes can be made in one class without affecting the whole program.\n",
        "\n",
        "  - Easier to debug, test, and upgrade.\n",
        "\n",
        "  4. Encapsulation\n",
        "\n",
        " - Data is protected from outside access and accidental modification.\n",
        "\n",
        " - Only specific methods (getters/setters) are used to interact with internal data.\n",
        "\n"
      ],
      "metadata": {
        "id": "7q4wYA5I6Jvh"
      }
    },
    {
      "cell_type": "markdown",
      "source": [
        "17. What is multiple inheritance in Python?\n",
        "\n",
        "- Multiple Inheritance is a feature in Python where a class can inherit from more than one parent class. This means the child class gets access to attributes and methods from all its parent classes.\n",
        "\n",
        "- To combine functionality from multiple classes into one.\n",
        "\n",
        "- Useful when a class needs capabilities from more than one source.\n",
        "\n",
        "- Example -"
      ],
      "metadata": {
        "id": "42LPuKbk7xun"
      }
    },
    {
      "cell_type": "code",
      "source": [
        "class Parent1:\n",
        "    def method1(self):\n",
        "        print(\"Method from Parent1\")\n",
        "\n",
        "class Parent2:\n",
        "    def method2(self):\n",
        "        print(\"Method from Parent2\")\n",
        "\n",
        "class Child(Parent1, Parent2):  # Multiple Inheritance\n",
        "    def method3(self):\n",
        "        print(\"Method from Child\")\n",
        "\n",
        "# Create an object of Child class\n",
        "c = Child()\n",
        "\n",
        "c.method1()  # Inherited from Parent1\n",
        "c.method2()  # Inherited from Parent2\n",
        "c.method3()  # Defined in Child"
      ],
      "metadata": {
        "colab": {
          "base_uri": "https://localhost:8080/"
        },
        "id": "XVIfquM98Zk8",
        "outputId": "999a95e7-9755-41b0-af3f-1e91843b662a"
      },
      "execution_count": 18,
      "outputs": [
        {
          "output_type": "stream",
          "name": "stdout",
          "text": [
            "Method from Parent1\n",
            "Method from Parent2\n",
            "Method from Child\n"
          ]
        }
      ]
    },
    {
      "cell_type": "markdown",
      "source": [
        "18. What is the difference between a class variable and an instance variable?\n",
        "\n",
        "- In Object-Oriented Programming, Python distinguishes between class variables and instance variables based on where and how they're defined and accessed.\n",
        "\n",
        "1. Class Variable :\n",
        " - Defined inside the class but outside any method.\n",
        " - Belongs to Class itself.\n",
        " - Shared by All instances the same value.\n",
        " - Accessed Via\tClass name or instance\n",
        " - Common property shared among all objects.\n",
        "2. Instance Variable :\n",
        " - Defined inside the constructor (__init__) using self.\n",
        " - Belongs to Each object (instance).\n",
        " - Shared by Each instance has its own copy.\n",
        " - Accessed via Only through instance (self.variable).\n",
        " - Properties unique to each object.\n",
        "- Example :"
      ],
      "metadata": {
        "id": "GVeapKpk8-6W"
      }
    },
    {
      "cell_type": "code",
      "source": [
        "class Dog:\n",
        "    species = \"Canine\"  # Class variable (shared by all dogs)\n",
        "\n",
        "    def __init__(self, name, age):\n",
        "        self.name = name        # Instance variable (unique)\n",
        "        self.age = age          # Instance variable (unique)\n",
        "\n",
        "# Create instances\n",
        "dog1 = Dog(\"Buddy\", 3)\n",
        "dog2 = Dog(\"Max\", 5)\n",
        "\n",
        "# Accessing class and instance variables\n",
        "print(dog1.name, \"-\", dog1.species)  # Buddy - Canine\n",
        "print(dog2.name, \"-\", dog2.species)  # Max - Canine\n",
        "\n",
        "# Changing class variable via class name\n",
        "Dog.species = \"Domestic Canine\"\n",
        "\n",
        "print(dog1.name, \"-\", dog1.species)  # Buddy - Domestic Canine\n",
        "print(dog2.name, \"-\", dog2.species)  # Max - Domestic Canine"
      ],
      "metadata": {
        "colab": {
          "base_uri": "https://localhost:8080/"
        },
        "id": "R3ahUhs9-j_1",
        "outputId": "8cadedc7-7222-4f4d-bbe1-5ebcf561d044"
      },
      "execution_count": 19,
      "outputs": [
        {
          "output_type": "stream",
          "name": "stdout",
          "text": [
            "Buddy - Canine\n",
            "Max - Canine\n",
            "Buddy - Domestic Canine\n",
            "Max - Domestic Canine\n"
          ]
        }
      ]
    },
    {
      "cell_type": "markdown",
      "source": [
        "19. Explain the purpose of '__ str__' and ‘__ repr__’  methods in Python?\n",
        "\n",
        "- Purpose of __str__ and __repr__ Methods in Python :\n",
        "\n",
        " - Both __str__ and __repr__ are special (dunder) methods used to define how an object should be represented as a string. They serve different but related purposes:\n",
        "\n",
        "- __ str__ → User-Friendly Display :\n",
        "\n",
        " - Called by the built-in str() function or when using print(object).\n",
        "\n",
        " - Intended for end users — gives a readable and clean representation.\n",
        "\n",
        "- __ repr__ → Developer-Friendly Display :     \n",
        "\n",
        " - Called by the built-in repr() function or when inspecting the object in a console (e.g., just typing object).\n",
        "\n",
        " - Intended for developers — should return a string that can recreate the object (if possible), or give a precise representation.\n",
        "\n",
        "- Example :     "
      ],
      "metadata": {
        "id": "qKjhGx-m-w-J"
      }
    },
    {
      "cell_type": "code",
      "source": [
        "class Book:\n",
        "    def __init__(self, title, author):\n",
        "        self.title = title\n",
        "        self.author = author\n",
        "\n",
        "    def __str__(self):\n",
        "        return f\"'{self.title}' by {self.author}\"\n",
        "\n",
        "    def __repr__(self):\n",
        "        return f\"Book('{self.title}', '{self.author}')\"\n",
        "\n",
        "# Create a book object\n",
        "b = Book(\"1984\", \"George Orwell\")\n",
        "\n",
        "# str() or print()\n",
        "print(str(b))     # Output: '1984' by George Orwell\n",
        "print(b)          # Same as above\n",
        "\n",
        "# repr()\n",
        "print(repr(b))    # Output: Book('1984', 'George Orwell')"
      ],
      "metadata": {
        "colab": {
          "base_uri": "https://localhost:8080/"
        },
        "id": "9nSApL71ARER",
        "outputId": "0224d1f4-2521-4bff-bedd-0174f241862b"
      },
      "execution_count": 20,
      "outputs": [
        {
          "output_type": "stream",
          "name": "stdout",
          "text": [
            "'1984' by George Orwell\n",
            "'1984' by George Orwell\n",
            "Book('1984', 'George Orwell')\n"
          ]
        }
      ]
    },
    {
      "cell_type": "markdown",
      "source": [
        "20. What is the significance of the ‘super()’ function in Python?\n",
        "\n",
        "- Significance of super() Function in Python :\n",
        "\n",
        " - The super() function in Python is used to call methods from a parent (or superclass) inside a child (subclass). It's especially important in the context of inheritance, including multiple inheritance.\n",
        " - super() is dynamic and works well with multiple inheritance and MRO.\n",
        "\n",
        " - Directly calling ParentClass.__init__() is hardcoded and breaks flexibility.\n",
        "\n",
        "- Example :   "
      ],
      "metadata": {
        "id": "2Vi6EEGKAaQn"
      }
    },
    {
      "cell_type": "code",
      "source": [
        "class Parent:\n",
        "    def greet(self):\n",
        "        print(\"Hello from Parent\")\n",
        "\n",
        "class Child(Parent):\n",
        "    def greet(self):\n",
        "        super().greet()  # call parent method\n",
        "        print(\"Hello from Child\")\n",
        "\n",
        "c = Child()\n",
        "c.greet()"
      ],
      "metadata": {
        "colab": {
          "base_uri": "https://localhost:8080/"
        },
        "id": "GEmpjE6_BNOt",
        "outputId": "e5abfd35-6e0b-40e2-8a4a-f364150baf5b"
      },
      "execution_count": 21,
      "outputs": [
        {
          "output_type": "stream",
          "name": "stdout",
          "text": [
            "Hello from Parent\n",
            "Hello from Child\n"
          ]
        }
      ]
    },
    {
      "cell_type": "markdown",
      "source": [
        "21. What is the significance of the __del__ method in Python?\n",
        "\n",
        "- Significance of the __del__() Method in Python :    \n",
        "\n",
        " - The __del__() method is a special (dunder) method in Python known as the destructor. It's called when an object is about to be destroyed (i.e., garbage collected).\n",
        "\n",
        "- Purpose of __del__() :\n",
        "\n",
        " - Used to clean up resources when an object is deleted.\n",
        "\n",
        "- Commonly used for:\n",
        "\n",
        " - Closing files\n",
        "\n",
        " - Releasing network connections\n",
        "\n",
        " - Cleaning up memory or temporary data\n",
        "\n",
        "- Example :       "
      ],
      "metadata": {
        "id": "RkeowDadBTeZ"
      }
    },
    {
      "cell_type": "code",
      "source": [
        "class FileHandler:\n",
        "    def __init__(self, filename):\n",
        "        self.filename = filename\n",
        "        print(f\"Opened file: {self.filename}\")\n",
        "\n",
        "    def __del__(self):\n",
        "        print(f\"Closed file: {self.filename}\")\n",
        "\n",
        "# Create and delete the object\n",
        "f = FileHandler(\"data.txt\")\n",
        "del f  # Explicitly deleting the object"
      ],
      "metadata": {
        "colab": {
          "base_uri": "https://localhost:8080/"
        },
        "id": "jKcx2nX4B9hJ",
        "outputId": "88531a9d-89fc-41f6-c9d0-fffca893597e"
      },
      "execution_count": 22,
      "outputs": [
        {
          "output_type": "stream",
          "name": "stdout",
          "text": [
            "Opened file: data.txt\n",
            "Closed file: data.txt\n"
          ]
        }
      ]
    },
    {
      "cell_type": "markdown",
      "source": [
        "22. What is the difference between @staticmethod and @classmethod in Python?\n",
        "\n",
        "- Difference Between @staticmethod and @classmethod in Python :    \n",
        "\n",
        " - Both @staticmethod and @classmethod are decorators used to define methods that are not regular instance methods, but they serve different purposes and behave differently.\n",
        "\n",
        "1. @staticmethod :    \n",
        " - No default first argument\n",
        " - Cannot access or modify class/state\n",
        " - The class (not the instance)\n",
        " - Utility methods, logic not tied to class state\n",
        "\n",
        "\n",
        "2. @classmethod :    \n",
        " - First argument is cls (refers to the class)\n",
        " - Can access or modify class variables/state\n",
        " - The class (not the instance)\n",
        " - Factory methods, modifying shared class state\n",
        "\n",
        "- Example:"
      ],
      "metadata": {
        "id": "2sWBZS6JCOXU"
      }
    },
    {
      "cell_type": "code",
      "source": [
        "class MathTools:\n",
        "    count = 0\n",
        "\n",
        "    @staticmethod\n",
        "    def add(x, y):\n",
        "        return x + y\n",
        "\n",
        "    @classmethod\n",
        "    def increment_count(cls):\n",
        "        cls.count += 1\n",
        "        return cls.count\n",
        "\n",
        "# Using static method (no access to class or instance)\n",
        "print(\"Sum:\", MathTools.add(3, 5))  # Output: Sum: 8\n",
        "\n",
        "# Using class method (modifies class variable)\n",
        "print(\"Count:\", MathTools.increment_count())  # Output: Count: 1\n",
        "print(\"Count:\", MathTools.increment_count())  # Output: Count: 2"
      ],
      "metadata": {
        "colab": {
          "base_uri": "https://localhost:8080/"
        },
        "id": "HQXw2cvdDg_J",
        "outputId": "7e547552-20c2-4dbe-f1aa-fa86feae54ed"
      },
      "execution_count": 23,
      "outputs": [
        {
          "output_type": "stream",
          "name": "stdout",
          "text": [
            "Sum: 8\n",
            "Count: 1\n",
            "Count: 2\n"
          ]
        }
      ]
    },
    {
      "cell_type": "markdown",
      "source": [
        "23. How does polymorphism work in Python with inheritance?\n",
        "\n",
        "- How Polymorphism Works in Python with Inheritance :    \n",
        "\n",
        " - Polymorphism in Python allows objects of different derived (child) classes to be treated as objects of a common base (parent) class, while still exhibiting behavior specific to their own class.\n",
        "\n",
        "- How It Works With Inheritance :\n",
        "\n",
        " - When a child class overrides a method from the parent class, and you call that method on a base class reference, Python will execute the method of the actual object’s class — not necessarily the one defined in the parent.\n",
        "\n",
        " - This is called runtime polymorphism or dynamic method dispatch.\n",
        "\n",
        "- Example :     \n",
        "\n"
      ],
      "metadata": {
        "id": "DtIu3q-xDqOe"
      }
    },
    {
      "cell_type": "code",
      "source": [
        "class Animal:\n",
        "    def speak(self):\n",
        "        return \"Some sound\"\n",
        "\n",
        "class Dog(Animal):\n",
        "    def speak(self):\n",
        "        return \"Bark\"\n",
        "\n",
        "class Cat(Animal):\n",
        "    def speak(self):\n",
        "        return \"Meow\"\n",
        "\n",
        "# Polymorphism in action\n",
        "animals = [Dog(), Cat(), Animal()]\n",
        "\n",
        "for animal in animals:\n",
        "    print(animal.speak())"
      ],
      "metadata": {
        "colab": {
          "base_uri": "https://localhost:8080/"
        },
        "id": "jZTiGWwLEu3v",
        "outputId": "54287d35-1be6-4842-d43f-db275ece66ac"
      },
      "execution_count": 24,
      "outputs": [
        {
          "output_type": "stream",
          "name": "stdout",
          "text": [
            "Bark\n",
            "Meow\n",
            "Some sound\n"
          ]
        }
      ]
    },
    {
      "cell_type": "markdown",
      "source": [
        "24. What is method chaining in Python OOP?\n",
        "\n",
        "- Method Chaining in Python OOP is a technique where multiple methods are called sequentially on the same object, using a single line of code.\n",
        "\n",
        "- It works by having each method return the object itself (usually self), so the next method can be called on that same object.\n",
        "\n",
        "- Example :     "
      ],
      "metadata": {
        "id": "ktNnvasTE1TZ"
      }
    },
    {
      "cell_type": "code",
      "source": [
        "class Person:\n",
        "    def __init__(self, name):\n",
        "        self.name = name\n",
        "        self.age = None\n",
        "        self.city = None\n",
        "\n",
        "    def set_age(self, age):\n",
        "        self.age = age\n",
        "        return self  # returns the object\n",
        "\n",
        "    def set_city(self, city):\n",
        "        self.city = city\n",
        "        return self  # returns the object\n",
        "\n",
        "    def show(self):\n",
        "        print(f\"{self.name}, {self.age} years old, lives in {self.city}\")\n",
        "        return self\n",
        "\n",
        "# Method chaining in action\n",
        "person = Person(\"Vishal\")\n",
        "person.set_age(25).set_city(\"Pune\").show()"
      ],
      "metadata": {
        "colab": {
          "base_uri": "https://localhost:8080/"
        },
        "id": "L9HhGNYHFYhb",
        "outputId": "b2d377c2-2aa6-4984-9e60-534d08a7f1e0"
      },
      "execution_count": 25,
      "outputs": [
        {
          "output_type": "stream",
          "name": "stdout",
          "text": [
            "Vishal, 25 years old, lives in Pune\n"
          ]
        },
        {
          "output_type": "execute_result",
          "data": {
            "text/plain": [
              "<__main__.Person at 0x7b3619185e90>"
            ]
          },
          "metadata": {},
          "execution_count": 25
        }
      ]
    },
    {
      "cell_type": "markdown",
      "source": [
        "25. What is the purpose of the __call__ method in Python?\n",
        "\n",
        "- Purpose of the __call__ Method in Python :     \n",
        "\n",
        " - The __call__ method in Python allows an instance of a class to be called like a function. That is, if a class defines the __call__() method, then its objects can be \"called\" using parentheses (), just like a regular function.\n",
        "- Example :    "
      ],
      "metadata": {
        "id": "_pjTL6gkFiVG"
      }
    },
    {
      "cell_type": "code",
      "source": [
        "class Greeter:\n",
        "    def __init__(self, name):\n",
        "        self.name = name\n",
        "\n",
        "    def __call__(self):\n",
        "        print(f\"Hello, {self.name}!\")\n",
        "\n",
        "# Create an object\n",
        "g = Greeter(\"Vishal\")\n",
        "\n",
        "# Call the object like a function\n",
        "g()  # Output: Hello, Vishal!"
      ],
      "metadata": {
        "colab": {
          "base_uri": "https://localhost:8080/"
        },
        "id": "u622I_6uGDYt",
        "outputId": "3263ce25-b2e9-4252-8d4e-a3272e6d08ad"
      },
      "execution_count": 26,
      "outputs": [
        {
          "output_type": "stream",
          "name": "stdout",
          "text": [
            "Hello, Vishal!\n"
          ]
        }
      ]
    },
    {
      "cell_type": "markdown",
      "source": [
        "# **Practical Questions**"
      ],
      "metadata": {
        "id": "iHlelxbZGMys"
      }
    },
    {
      "cell_type": "markdown",
      "source": [
        "1. Create a parent class Animal with a method speak() that prints a generic message. Create a child class Dog that overrides the speak() method to print \"Bark!\"."
      ],
      "metadata": {
        "id": "pxfq-euaGebw"
      }
    },
    {
      "cell_type": "code",
      "source": [
        "class Animal:\n",
        "    def speak(self):\n",
        "        print(\"Animal sound\")\n",
        "\n",
        "class Dog(Animal):\n",
        "    def speak(self):\n",
        "        print(\"Bark!\")\n",
        "\n",
        "d = Dog()\n",
        "d.speak()"
      ],
      "metadata": {
        "colab": {
          "base_uri": "https://localhost:8080/"
        },
        "id": "9aFfe92oHvdv",
        "outputId": "cc4c5c57-7f2b-409a-9943-69352bb4098f"
      },
      "execution_count": 27,
      "outputs": [
        {
          "output_type": "stream",
          "name": "stdout",
          "text": [
            "Bark!\n"
          ]
        }
      ]
    },
    {
      "cell_type": "markdown",
      "source": [
        "2. Write a program to create an abstract class Shape with a method area(). Derive classes Circle and Rectangle from it and implement the area() method in both."
      ],
      "metadata": {
        "id": "4otF3ZuJIi3E"
      }
    },
    {
      "cell_type": "code",
      "source": [
        "from abc import ABC, abstractmethod\n",
        "\n",
        "class Shape(ABC):\n",
        "    @abstractmethod\n",
        "    def area(self):\n",
        "        pass\n",
        "\n",
        "class Circle(Shape):\n",
        "    def __init__(self, radius):\n",
        "        self.radius = radius\n",
        "\n",
        "    def area(self):\n",
        "        return 3.14 * self.radius ** 2\n",
        "\n",
        "class Rectangle(Shape):\n",
        "    def __init__(self, width, height):\n",
        "        self.width = width\n",
        "        self.height = height\n",
        "\n",
        "    def area(self):\n",
        "        return self.width * self.height\n",
        "\n",
        "c = Circle(5)\n",
        "r = Rectangle(4, 6)\n",
        "print(\"Circle Area:\", c.area())\n",
        "print(\"Rectangle Area:\", r.area())"
      ],
      "metadata": {
        "colab": {
          "base_uri": "https://localhost:8080/"
        },
        "id": "jskWpV1gIxfi",
        "outputId": "6011f0e6-e021-4be1-918e-e285f61dad2c"
      },
      "execution_count": 28,
      "outputs": [
        {
          "output_type": "stream",
          "name": "stdout",
          "text": [
            "Circle Area: 78.5\n",
            "Rectangle Area: 24\n"
          ]
        }
      ]
    },
    {
      "cell_type": "markdown",
      "source": [
        "3. Implement a multi-level inheritance scenario where a class Vehicle has an attribute type. Derive a class Car and further derive a class ElectricCar that adds a battery attribute."
      ],
      "metadata": {
        "id": "WxFln9D2I6NW"
      }
    },
    {
      "cell_type": "code",
      "source": [
        "class Vehicle:\n",
        "    def __init__(self, vtype):\n",
        "        self.type = vtype\n",
        "\n",
        "class Car(Vehicle):\n",
        "    def __init__(self, vtype, brand):\n",
        "        super().__init__(vtype)\n",
        "        self.brand = brand\n",
        "\n",
        "class ElectricCar(Car):\n",
        "    def __init__(self, vtype, brand, battery):\n",
        "        super().__init__(vtype, brand)\n",
        "        self.battery = battery\n",
        "\n",
        "e = ElectricCar(\"Electric\", \"Tesla\", \"85kWh\")\n",
        "print(e.type, e.brand, e.battery)"
      ],
      "metadata": {
        "colab": {
          "base_uri": "https://localhost:8080/"
        },
        "id": "xPM2fUT8I-7i",
        "outputId": "37d6d51d-022a-47f5-887d-92d2078b222b"
      },
      "execution_count": 29,
      "outputs": [
        {
          "output_type": "stream",
          "name": "stdout",
          "text": [
            "Electric Tesla 85kWh\n"
          ]
        }
      ]
    },
    {
      "cell_type": "markdown",
      "source": [
        "4. Demonstrate polymorphism by creating a base class Bird with a method fly(). Create two derived classes Sparrow and Penguin that override the fly() method."
      ],
      "metadata": {
        "id": "BQgg1pszJGwA"
      }
    },
    {
      "cell_type": "code",
      "source": [
        "class Bird:\n",
        "    def fly(self):\n",
        "        print(\"Bird flying\")\n",
        "\n",
        "class Sparrow(Bird):\n",
        "    def fly(self):\n",
        "        print(\"Sparrow flying\")\n",
        "\n",
        "class Penguin(Bird):\n",
        "    def fly(self):\n",
        "        print(\"Penguin can't fly\")\n",
        "\n",
        "b1 = Sparrow()\n",
        "b2 = Penguin()\n",
        "b1.fly()\n",
        "b2.fly()"
      ],
      "metadata": {
        "colab": {
          "base_uri": "https://localhost:8080/"
        },
        "id": "UB5Ya7YtJLJf",
        "outputId": "9ed4bb3c-d99c-47a0-fa10-432dcf7ebbfe"
      },
      "execution_count": 30,
      "outputs": [
        {
          "output_type": "stream",
          "name": "stdout",
          "text": [
            "Sparrow flying\n",
            "Penguin can't fly\n"
          ]
        }
      ]
    },
    {
      "cell_type": "markdown",
      "source": [
        "5. Write a program to demonstrate encapsulation by creating a class BankAccount with private attributes balance and methods to deposit, withdraw, and check balance."
      ],
      "metadata": {
        "id": "81LkKwGdJTrJ"
      }
    },
    {
      "cell_type": "code",
      "source": [
        "class BankAccount:\n",
        "    def __init__(self):\n",
        "        self.__balance = 0\n",
        "\n",
        "    def deposit(self, amount):\n",
        "        self.__balance += amount\n",
        "\n",
        "    def withdraw(self, amount):\n",
        "        if amount <= self.__balance:\n",
        "            self.__balance -= amount\n",
        "        else:\n",
        "            print(\"Insufficient funds\")\n",
        "\n",
        "    def get_balance(self):\n",
        "        return self.__balance\n",
        "\n",
        "acc = BankAccount()\n",
        "acc.deposit(1000)\n",
        "acc.withdraw(200)\n",
        "print(\"Balance:\", acc.get_balance())"
      ],
      "metadata": {
        "colab": {
          "base_uri": "https://localhost:8080/"
        },
        "id": "321-_n34JX-y",
        "outputId": "dabc8020-46cd-48e3-c02a-1200034882fb"
      },
      "execution_count": 31,
      "outputs": [
        {
          "output_type": "stream",
          "name": "stdout",
          "text": [
            "Balance: 800\n"
          ]
        }
      ]
    },
    {
      "cell_type": "markdown",
      "source": [
        "6. Demonstrate runtime polymorphism using a method play() in a base class Instrument. Derive classes Guitar and Piano that implement their own version of play()."
      ],
      "metadata": {
        "id": "QyUWhSgtJgx1"
      }
    },
    {
      "cell_type": "code",
      "source": [
        "class Instrument:\n",
        "    def play(self):\n",
        "        print(\"Instrument playing\")\n",
        "\n",
        "class Guitar(Instrument):\n",
        "    def play(self):\n",
        "        print(\"Strumming guitar\")\n",
        "\n",
        "class Piano(Instrument):\n",
        "    def play(self):\n",
        "        print(\"Playing piano\")\n",
        "\n",
        "i1 = Guitar()\n",
        "i2 = Piano()\n",
        "i1.play()\n",
        "i2.play()"
      ],
      "metadata": {
        "colab": {
          "base_uri": "https://localhost:8080/"
        },
        "id": "_zN_b7GwJkk9",
        "outputId": "faf967a6-683a-4a63-d35a-aa81311a0ee5"
      },
      "execution_count": 32,
      "outputs": [
        {
          "output_type": "stream",
          "name": "stdout",
          "text": [
            "Strumming guitar\n",
            "Playing piano\n"
          ]
        }
      ]
    },
    {
      "cell_type": "markdown",
      "source": [
        "7. Create a class MathOperations with a class method add_numbers() to add two numbers and a static method subtract_numbers() to subtract two numbers."
      ],
      "metadata": {
        "id": "aOBuKBzEJqBE"
      }
    },
    {
      "cell_type": "code",
      "source": [
        "class MathOperations:\n",
        "    @classmethod\n",
        "    def add_numbers(cls, a, b):\n",
        "        return a + b\n",
        "\n",
        "    @staticmethod\n",
        "    def subtract_numbers(a, b):\n",
        "        return a - b\n",
        "\n",
        "print(\"Add:\", MathOperations.add_numbers(10, 5))\n",
        "print(\"Subtract:\", MathOperations.subtract_numbers(10, 5))"
      ],
      "metadata": {
        "colab": {
          "base_uri": "https://localhost:8080/"
        },
        "id": "gE6orRwhJt_-",
        "outputId": "f8dd0a86-2d8e-4db4-b954-7c94e52f46b7"
      },
      "execution_count": 33,
      "outputs": [
        {
          "output_type": "stream",
          "name": "stdout",
          "text": [
            "Add: 15\n",
            "Subtract: 5\n"
          ]
        }
      ]
    },
    {
      "cell_type": "markdown",
      "source": [
        "8. Implement a class Person with a class method to count the total number of persons created."
      ],
      "metadata": {
        "id": "RQ1eAeilJ2LD"
      }
    },
    {
      "cell_type": "code",
      "source": [
        "class Person:\n",
        "    count = 0\n",
        "\n",
        "    def __init__(self, name):\n",
        "        self.name = name\n",
        "        Person.count += 1\n",
        "\n",
        "    @classmethod\n",
        "    def total_persons(cls):\n",
        "        return cls.count\n",
        "\n",
        "p1 = Person(\"A\")\n",
        "p2 = Person(\"B\")\n",
        "print(\"Total persons:\", Person.total_persons())"
      ],
      "metadata": {
        "id": "SV1FplWYJ6g3"
      },
      "execution_count": null,
      "outputs": []
    },
    {
      "cell_type": "markdown",
      "source": [
        "9. Write a class Fraction with attributes numerator and denominator. Override the str method to display the fraction as \"numerator/denominator\"."
      ],
      "metadata": {
        "id": "F7TXtkrqKBod"
      }
    },
    {
      "cell_type": "code",
      "source": [
        "class Fraction:\n",
        "    def __init__(self, num, den):\n",
        "        self.num = num\n",
        "        self.den = den\n",
        "\n",
        "    def __str__(self):\n",
        "        return f\"{self.num}/{self.den}\"\n",
        "\n",
        "f = Fraction(3, 4)\n",
        "print(f)"
      ],
      "metadata": {
        "colab": {
          "base_uri": "https://localhost:8080/"
        },
        "id": "gojlAXZyKGI_",
        "outputId": "322fa101-f469-4b15-ad0d-525e80e8b553"
      },
      "execution_count": 34,
      "outputs": [
        {
          "output_type": "stream",
          "name": "stdout",
          "text": [
            "3/4\n"
          ]
        }
      ]
    },
    {
      "cell_type": "markdown",
      "source": [
        "10. Demonstrate operator overloading by creating a class Vector and overriding the add method to add two vectors."
      ],
      "metadata": {
        "id": "Bn1_WWlUKiwS"
      }
    },
    {
      "cell_type": "code",
      "source": [
        "class Vector:\n",
        "    def __init__(self, x, y):\n",
        "        self.x = x\n",
        "        self.y = y\n",
        "\n",
        "    def __add__(self, other):\n",
        "        return Vector(self.x + other.x, self.y + other.y)\n",
        "\n",
        "    def __str__(self):\n",
        "        return f\"({self.x}, {self.y})\"\n",
        "\n",
        "v1 = Vector(1, 2)\n",
        "v2 = Vector(3, 4)\n",
        "v3 = v1 + v2\n",
        "print(v3)"
      ],
      "metadata": {
        "colab": {
          "base_uri": "https://localhost:8080/"
        },
        "id": "LgAzRxtMKmmf",
        "outputId": "76d6be52-cf6a-41af-80e5-7c99252bfcca"
      },
      "execution_count": 35,
      "outputs": [
        {
          "output_type": "stream",
          "name": "stdout",
          "text": [
            "(4, 6)\n"
          ]
        }
      ]
    },
    {
      "cell_type": "markdown",
      "source": [
        "11. Create a class Person with attributes name and age. Add a method greet() that prints \"Hello, my name is {name} and I am {age} years old.\""
      ],
      "metadata": {
        "id": "NzpVEN7EKyn7"
      }
    },
    {
      "cell_type": "code",
      "source": [
        "class Person:\n",
        "    def __init__(self, name, age):\n",
        "        self.name = name\n",
        "        self.age = age\n",
        "\n",
        "    def greet(self):\n",
        "        print(f\"Hello, my name is {self.name} and I am {self.age} years old.\")\n",
        "\n",
        "p = Person(\"Vishal\", 25)\n",
        "p.greet()"
      ],
      "metadata": {
        "colab": {
          "base_uri": "https://localhost:8080/"
        },
        "id": "EJYthl4YK2vt",
        "outputId": "13f05702-5bf0-4118-f092-4c43c23149e2"
      },
      "execution_count": 36,
      "outputs": [
        {
          "output_type": "stream",
          "name": "stdout",
          "text": [
            "Hello, my name is Vishal and I am 25 years old.\n"
          ]
        }
      ]
    },
    {
      "cell_type": "markdown",
      "source": [
        "12. Implement a class Student with attributes name and grades. Create a method average_grade() to compute the average of the grades."
      ],
      "metadata": {
        "id": "bfg9rN0IK_MG"
      }
    },
    {
      "cell_type": "code",
      "source": [
        "class Student:\n",
        "    def __init__(self, name, grades):\n",
        "        self.name = name\n",
        "        self.grades = grades\n",
        "\n",
        "    def average_grade(self):\n",
        "        return sum(self.grades) / len(self.grades)\n",
        "\n",
        "s = Student(\"Amit\", [80, 90, 85])\n",
        "print(\"Average:\", s.average_grade())"
      ],
      "metadata": {
        "colab": {
          "base_uri": "https://localhost:8080/"
        },
        "id": "e5WEDjQrLDnF",
        "outputId": "a220c3ae-71c6-4d4e-871d-46bb2d010b61"
      },
      "execution_count": 37,
      "outputs": [
        {
          "output_type": "stream",
          "name": "stdout",
          "text": [
            "Average: 85.0\n"
          ]
        }
      ]
    },
    {
      "cell_type": "markdown",
      "source": [
        "13. Create a class Rectangle with methods set_dimensions() to set the dimensions and area() to calculate the area."
      ],
      "metadata": {
        "id": "nXCW_cLgLM0U"
      }
    },
    {
      "cell_type": "code",
      "source": [
        "class Rectangle:\n",
        "    def set_dimensions(self, w, h):\n",
        "        self.width = w\n",
        "        self.height = h\n",
        "\n",
        "    def area(self):\n",
        "        return self.width * self.height\n",
        "\n",
        "r = Rectangle()\n",
        "r.set_dimensions(5, 6)\n",
        "print(\"Area:\", r.area())"
      ],
      "metadata": {
        "colab": {
          "base_uri": "https://localhost:8080/"
        },
        "id": "o8y5ZT-XLQ2x",
        "outputId": "ff34c4ec-2759-49d1-ecb2-9f4482a1d768"
      },
      "execution_count": 38,
      "outputs": [
        {
          "output_type": "stream",
          "name": "stdout",
          "text": [
            "Area: 30\n"
          ]
        }
      ]
    },
    {
      "cell_type": "markdown",
      "source": [
        "14. Create a class Employee with a method calculate_salary() that computes the salary based on hours worked and hourly rate. Create a derived class Manager that adds a bonus to the salary."
      ],
      "metadata": {
        "id": "OTUQFLmaLW8B"
      }
    },
    {
      "cell_type": "code",
      "source": [
        "class Employee:\n",
        "    def calculate_salary(self, hours, rate):\n",
        "        return hours * rate\n",
        "\n",
        "class Manager(Employee):\n",
        "    def calculate_salary(self, hours, rate, bonus):\n",
        "        return super().calculate_salary(hours, rate) + bonus\n",
        "\n",
        "m = Manager()\n",
        "print(\"Salary:\", m.calculate_salary(40, 100, 500))"
      ],
      "metadata": {
        "colab": {
          "base_uri": "https://localhost:8080/"
        },
        "id": "rSq0aPiYLuR1",
        "outputId": "890c5d18-fa7d-45b5-d4c2-413a207212e7"
      },
      "execution_count": 39,
      "outputs": [
        {
          "output_type": "stream",
          "name": "stdout",
          "text": [
            "Salary: 4500\n"
          ]
        }
      ]
    },
    {
      "cell_type": "markdown",
      "source": [
        "15. Create a class Product with attributes name, price, and quantity. Implement a method total_price() that calculates the total price of the product."
      ],
      "metadata": {
        "id": "ZwVw1jYGL53R"
      }
    },
    {
      "cell_type": "code",
      "source": [
        "class Product:\n",
        "    def __init__(self, name, price, quantity):\n",
        "        self.name = name\n",
        "        self.price = price\n",
        "        self.quantity = quantity\n",
        "\n",
        "    def total_price(self):\n",
        "        return self.price * self.quantity\n",
        "\n",
        "p = Product(\"Laptop\", 50000, 2)\n",
        "print(\"Total:\", p.total_price())"
      ],
      "metadata": {
        "colab": {
          "base_uri": "https://localhost:8080/"
        },
        "id": "8KRXniZGL90l",
        "outputId": "9e64f66f-57e5-414a-bad1-68aa4ff512ba"
      },
      "execution_count": 40,
      "outputs": [
        {
          "output_type": "stream",
          "name": "stdout",
          "text": [
            "Total: 100000\n"
          ]
        }
      ]
    },
    {
      "cell_type": "markdown",
      "source": [
        "16. Create a class Animal with an abstract method sound(). Create two derived classes Cow and Sheep that implement the sound() method."
      ],
      "metadata": {
        "id": "O4u1rHUfMDAd"
      }
    },
    {
      "cell_type": "code",
      "source": [
        "from abc import ABC, abstractmethod\n",
        "\n",
        "class Animal(ABC):\n",
        "    @abstractmethod\n",
        "    def sound(self):\n",
        "        pass\n",
        "\n",
        "class Cow(Animal):\n",
        "    def sound(self):\n",
        "        return \"Moo\"\n",
        "\n",
        "class Sheep(Animal):\n",
        "    def sound(self):\n",
        "        return \"Baa\"\n",
        "\n",
        "c = Cow()\n",
        "s = Sheep()\n",
        "print(\"Cow:\", c.sound())\n",
        "print(\"Sheep:\", s.sound())"
      ],
      "metadata": {
        "colab": {
          "base_uri": "https://localhost:8080/"
        },
        "id": "snyETnLwMGmT",
        "outputId": "f48838db-25c0-4527-93f7-4837cf29ef0d"
      },
      "execution_count": 41,
      "outputs": [
        {
          "output_type": "stream",
          "name": "stdout",
          "text": [
            "Cow: Moo\n",
            "Sheep: Baa\n"
          ]
        }
      ]
    },
    {
      "cell_type": "markdown",
      "source": [
        "17. Create a class Book with attributes title, author, and year_published. Add a method get_book_info() that returns a formatted string with the book's details."
      ],
      "metadata": {
        "id": "l-N1pgjjMN9l"
      }
    },
    {
      "cell_type": "code",
      "source": [
        "class Book:\n",
        "    def __init__(self, title, author, year):\n",
        "        self.title = title\n",
        "        self.author = author\n",
        "        self.year = year\n",
        "\n",
        "    def get_book_info(self):\n",
        "        return f\"{self.title} by {self.author}, published in {self.year}\"\n",
        "\n",
        "b = Book(\"Python\", \"Guido\", 2020)\n",
        "print(b.get_book_info())"
      ],
      "metadata": {
        "colab": {
          "base_uri": "https://localhost:8080/"
        },
        "id": "9vWVqx84MSwI",
        "outputId": "14f3559a-e60a-4faa-8b31-687bba20f0e8"
      },
      "execution_count": 42,
      "outputs": [
        {
          "output_type": "stream",
          "name": "stdout",
          "text": [
            "Python by Guido, published in 2020\n"
          ]
        }
      ]
    },
    {
      "cell_type": "markdown",
      "source": [
        "18. Create a class House with attributes address and price. Create a derived class Mansion that adds an attribute number_of_rooms."
      ],
      "metadata": {
        "id": "txibYu3vMYlC"
      }
    },
    {
      "cell_type": "code",
      "source": [
        "class House:\n",
        "    def __init__(self, address, price):\n",
        "        self.address = address\n",
        "        self.price = price\n",
        "\n",
        "class Mansion(House):\n",
        "    def __init__(self, address, price, rooms):\n",
        "        super().__init__(address, price)\n",
        "        self.number_of_rooms = rooms\n",
        "\n",
        "m = Mansion(\"Pune\", 50000000, 12)\n",
        "print(m.address, m.price, m.number_of_rooms)"
      ],
      "metadata": {
        "colab": {
          "base_uri": "https://localhost:8080/"
        },
        "id": "Izhc3kFrMdzR",
        "outputId": "557a3948-0f7f-4eaa-ebf4-c0ee1e8ff157"
      },
      "execution_count": 43,
      "outputs": [
        {
          "output_type": "stream",
          "name": "stdout",
          "text": [
            "Pune 50000000 12\n"
          ]
        }
      ]
    }
  ]
}