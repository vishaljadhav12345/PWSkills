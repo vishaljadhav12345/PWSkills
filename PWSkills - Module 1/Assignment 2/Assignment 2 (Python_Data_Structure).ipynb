{
  "cells": [
    {
      "cell_type": "markdown",
      "metadata": {
        "id": "GyxgIg_h0_iS"
      },
      "source": [
        "# Data Types and Structures **Questions**"
      ]
    },
    {
      "cell_type": "markdown",
      "metadata": {
        "id": "jdUtBsF5o2al"
      },
      "source": [
        "1. What are data structures, and why are they important?\n",
        "\n",
        " Data structures are ways of organizing and storing data so that it can be accessed and modified efficiently.\n",
        "\n",
        " Importance:\n",
        "\n",
        "- Organize data logically (e.g., list of students, dictionary of user profiles)\n",
        "\n",
        "- Improve performance (fast access, insertion, deletion)\n",
        "\n",
        "- Help choose the right structure for the problem (e.g., sets for uniqueness)"
      ]
    },
    {
      "cell_type": "markdown",
      "metadata": {
        "id": "n7clKD6PvDET"
      },
      "source": []
    },
    {
      "cell_type": "markdown",
      "metadata": {
        "id": "g4VMrwm-viKI"
      },
      "source": [
        "2. Difference between mutable and immutable data types\n",
        "\n",
        " Mutable: Can be changed after creation (e.g., list, dict, set)\n",
        "\n",
        " Immutable: Cannot be changed after creation (e.g., int, float, tuple, str)\n",
        "\n",
        "- Example:"
      ]
    },
    {
      "cell_type": "markdown",
      "metadata": {
        "id": "YySSvdQ8vAT7"
      },
      "source": []
    },
    {
      "cell_type": "code",
      "execution_count": null,
      "metadata": {
        "id": "ZTS5wy_6o1rL"
      },
      "outputs": [],
      "source": [
        "my_list = [1, 2, 3]\n",
        "my_list[0] = 100  # allowed\n",
        "\n",
        "my_str = \"hello\"\n",
        "my_str[0] = \"H\"   # Error: strings are immutable\n"
      ]
    },
    {
      "cell_type": "markdown",
      "metadata": {
        "id": "wS1tHblQovvV"
      },
      "source": []
    },
    {
      "cell_type": "markdown",
      "metadata": {
        "id": "l7dpdD13xaZX"
      },
      "source": [
        "3. Main differences between lists and tuple\n",
        "\n",
        "- List - Mutable\n",
        "       syntax - []\n",
        "       Slower (more flexible)\n",
        "       Data that changes\n",
        "\n",
        "- Tuple - Immutable\n",
        "          syntax - ()\n",
        "          Faster (fixed)\n",
        "          Fixed or constant data\n",
        "\n"
      ]
    },
    {
      "cell_type": "markdown",
      "metadata": {
        "id": "CrDskgfDy_JL"
      },
      "source": [
        "4. How dictionaries store data?\n",
        "\n",
        " Dictionaries store data as key-value pairs using a structure called a hash table.\n",
        "\n",
        "- Keys must be unique and immutable.\n",
        "\n",
        "- Values can be of any type.\n",
        "\n",
        "- Example :"
      ]
    },
    {
      "cell_type": "code",
      "execution_count": null,
      "metadata": {
        "id": "ELuz3604zc6A"
      },
      "outputs": [],
      "source": [
        "user = {\"name\": \"Rahul\", \"age\": 25}"
      ]
    },
    {
      "cell_type": "markdown",
      "metadata": {
        "id": "uv9SoT7Fzg6u"
      },
      "source": []
    },
    {
      "cell_type": "markdown",
      "metadata": {
        "id": "VANgAsrszqw-"
      },
      "source": [
        "5. Why use a set instead of a list in Python?\n",
        "\n",
        " Sets are unordered collections of unique items.\n",
        "\n",
        " Use a set when you don’t want duplicates and need fast membership checks.\n",
        "\n",
        "- Example:"
      ]
    },
    {
      "cell_type": "code",
      "execution_count": null,
      "metadata": {
        "id": "oHl4gPGm0H_t"
      },
      "outputs": [],
      "source": [
        "a = [1, 2, 2, 3]\n",
        "b = set(a)  # {1, 2, 3}"
      ]
    },
    {
      "cell_type": "markdown",
      "metadata": {
        "id": "isVT11oQ0M_X"
      },
      "source": [
        "6. What is a string in Python, and how is it different from a list?\n",
        "\n",
        " A string is a sequence of characters (str = \"hello\").\n",
        "\n",
        " Like lists, strings are indexed, but strings are immutable.\n",
        "\n",
        " We can change l[0], but not s[0].\n",
        "\n",
        "- Difference:"
      ]
    },
    {
      "cell_type": "code",
      "execution_count": null,
      "metadata": {
        "id": "sRbTfOpN0pf2"
      },
      "outputs": [],
      "source": [
        "s = \"hello\"\n",
        "l = ['h', 'e', 'l', 'l', 'o']"
      ]
    },
    {
      "cell_type": "markdown",
      "metadata": {
        "id": "gdel2tUi0t9F"
      },
      "source": [
        "7. How do tuples ensure data integrity in Python?\n",
        "\n",
        " Since tuples are immutable, their data can't be changed accidentally.\n",
        "\n",
        " Use case: Coordinates (x, y), database records, settings."
      ]
    },
    {
      "cell_type": "markdown",
      "metadata": {
        "id": "bZ5oVaIX07w-"
      },
      "source": [
        "8. What is a hash table, and how does it relate to dictionaries in Python?\n",
        "\n",
        " A hash table is a data structure that maps keys to values using a hash function.\n",
        "\n",
        " In Python, dictionaries are implemented using hash tables, allowing O(1) average-time access."
      ]
    },
    {
      "cell_type": "markdown",
      "metadata": {
        "id": "_tk8hwzg1g8m"
      },
      "source": [
        "9. Can lists contain different data types in Python?\n",
        "\n",
        " Yes. Python lists can contain elements of mixed types.\n",
        "\n",
        "- Example:"
      ]
    },
    {
      "cell_type": "code",
      "execution_count": null,
      "metadata": {
        "id": "2Hc5aZlG1rm2"
      },
      "outputs": [],
      "source": [
        "my_list = [1, \"hello\", 3.14, True]"
      ]
    },
    {
      "cell_type": "markdown",
      "metadata": {
        "id": "fPOvEWLD1vSR"
      },
      "source": [
        "10. Why are strings immutable in Python?\n",
        "\n",
        " Improves performance (e.g., string interning)\n",
        "\n",
        " Ensures security and data consistency\n",
        "\n",
        " Easier to cache and hash\n",
        "\n",
        "- Example:"
      ]
    },
    {
      "cell_type": "code",
      "execution_count": null,
      "metadata": {
        "id": "dpj-lycj2CRg"
      },
      "outputs": [],
      "source": [
        "s = \"hello\"\n",
        "s[0] = \"H\"  # Error"
      ]
    },
    {
      "cell_type": "markdown",
      "metadata": {
        "id": "j0A3tLsu2MaA"
      },
      "source": [
        "11. What advantages do dictionaries offer over lists for certain tasks?\n",
        "\n",
        "- List - Efficient\n",
        "          lookup\tSlow (linear search)\n",
        "          Less intuitive\n",
        "        \n",
        "-\tDictionary -  Not applicable\n",
        "                Fast (O(1) on average)\n",
        "                More structured (key-value pairs)\n",
        "\n",
        "\n",
        "Use dictionaries when we need named data access."
      ]
    },
    {
      "cell_type": "markdown",
      "metadata": {
        "id": "oYMzUsZD31Cn"
      },
      "source": [
        "12. How do sets handle duplicate values in Python?\n",
        "\n",
        " Sets automatically remove duplicates.\n",
        "\n",
        "- Example:"
      ]
    },
    {
      "cell_type": "code",
      "execution_count": null,
      "metadata": {
        "id": "zX29314W39bZ"
      },
      "outputs": [],
      "source": [
        "my_set = {1, 2, 2, 3}\n",
        "print(my_set)  # Output: {1, 2, 3}"
      ]
    },
    {
      "cell_type": "markdown",
      "metadata": {
        "id": "8EjyOwNH4BS-"
      },
      "source": [
        "13. How do sets handle duplicate values in Python?\n",
        "\n",
        " Use a tuple when data must remain constant:\n",
        "\n",
        "- Example: Return multiple values from a function:\n",
        "  Or when storing coordinates: (latitude, longitude)"
      ]
    },
    {
      "cell_type": "code",
      "execution_count": null,
      "metadata": {
        "id": "EkBJKeBt4jXN"
      },
      "outputs": [],
      "source": [
        "def get_user():\n",
        "    return (\"Rahul\", 25)  # name and age as a tuple"
      ]
    },
    {
      "cell_type": "markdown",
      "metadata": {
        "id": "fq-IAn1h4utf"
      },
      "source": [
        "14. How does the “in” keyword work differently for lists and dictionaries?\n",
        "\n",
        " In lists: checks if the value exists.\n",
        "\n",
        " In dicts: checks if the key exists (not the value).\n",
        "\n",
        "- Example:"
      ]
    },
    {
      "cell_type": "code",
      "execution_count": null,
      "metadata": {
        "id": "MzmXK-1Q46fR"
      },
      "outputs": [],
      "source": [
        "x = [1, 2, 3]\n",
        "print(2 in x)  # checks value\n",
        "\n",
        "d = {\"a\": 1}\n",
        "print(\"a\" in d)  # checks key, not value"
      ]
    },
    {
      "cell_type": "markdown",
      "metadata": {
        "id": "1qBp6vIl5BGy"
      },
      "source": [
        "15. Can you modify elements of a tuple? Explain why not?\n",
        "\n",
        " No. Tuples are immutable, so you cannot change, add, or delete items once created.\n",
        "\n",
        "- Example:"
      ]
    },
    {
      "cell_type": "code",
      "execution_count": null,
      "metadata": {
        "id": "moMpuvNy5Tvu"
      },
      "outputs": [],
      "source": [
        "t = (1, 2, 3)\n",
        "t[0] = 100  # Error"
      ]
    },
    {
      "cell_type": "markdown",
      "metadata": {
        "id": "X7wE5IkW5dTg"
      },
      "source": [
        "16. What is a nested dictionary? Give an example?\n",
        "\n",
        " A nested dictionary is a dictionary within another dictionary.\n",
        "\n",
        "- Example:"
      ]
    },
    {
      "cell_type": "code",
      "execution_count": null,
      "metadata": {
        "id": "v8ISQi6A5nXW"
      },
      "outputs": [],
      "source": [
        "students = {\n",
        "    \"101\": {\"name\": \"Amit\", \"marks\": 85},\n",
        "    \"102\": {\"name\": \"Sneha\", \"marks\": 92}\n",
        "}"
      ]
    },
    {
      "cell_type": "markdown",
      "metadata": {
        "id": "GP4Il-eT5tF0"
      },
      "source": [
        "17. Describe the time complexity of accessing elements in a dictionary?\n",
        "\n",
        "- Accessing a value by key: O(1) average time.\n",
        "\n",
        "- Worst case: O(n) (if many keys hash to same bucket).\n",
        "\n",
        "- Very efficient for large datasets."
      ]
    },
    {
      "cell_type": "markdown",
      "metadata": {
        "id": "QKoG9vp16GpS"
      },
      "source": [
        "18. When are lists preferred over dictionaries?\n",
        "\n",
        "- Use lists when:\n",
        "\n",
        " Order matters\n",
        "\n",
        " we only need simple data storage\n",
        "\n",
        " No key-value mapping is needed\n",
        "\n",
        "- Example:"
      ]
    },
    {
      "cell_type": "code",
      "execution_count": null,
      "metadata": {
        "id": "7MtnQi3G6ZA-"
      },
      "outputs": [],
      "source": [
        "fruits = [\"apple\", \"banana\", \"cherry\"]"
      ]
    },
    {
      "cell_type": "markdown",
      "metadata": {
        "id": "xeOAhY0y6mzz"
      },
      "source": [
        "19. Why are dictionaries considered unordered, and how does that affect retrieval?\n",
        "\n",
        " Until Python 3.6, dictionaries were unordered — no guaranteed order of keys.\n",
        "\n",
        " Since Python 3.7, dictionaries preserve insertion order, but logic shouldn't depend on it unless required.\n",
        "\n"
      ]
    },
    {
      "cell_type": "markdown",
      "metadata": {
        "id": "zQ-MJujF6vMu"
      },
      "source": [
        "20. Explain the difference between a list and a dictionary in terms of data retrieval?\n",
        "\n",
        "-\tList - my_list[0]\n",
        "         Not applicable\n",
        "         Slower (O(n))\n",
        "\n",
        "- Dictionary - Not applicable\n",
        "               my_dict[\"name\"]\n",
        "               Faster (O(1))"
      ]
    },
    {
      "cell_type": "markdown",
      "metadata": {
        "id": "LoNTlVvQ7z0z"
      },
      "source": [
        "# Practical **Questions**"
      ]
    },
    {
      "cell_type": "markdown",
      "metadata": {
        "id": "evo3wJqE78HU"
      },
      "source": [
        "1. Write a code to create a string with your name and print it."
      ]
    },
    {
      "cell_type": "code",
      "execution_count": null,
      "metadata": {
        "id": "uGOgAmlM95sx"
      },
      "outputs": [],
      "source": [
        "name = \"Vishal\"\n",
        "print(name)"
      ]
    },
    {
      "cell_type": "markdown",
      "metadata": {
        "id": "rIICqJyD-HeW"
      },
      "source": [
        "2. Write a code to find the length of the string \"Hello World\"."
      ]
    },
    {
      "cell_type": "code",
      "execution_count": null,
      "metadata": {
        "id": "dC6KdI3m-Ny4"
      },
      "outputs": [],
      "source": [
        "print(len(\"Hello World\"))"
      ]
    },
    {
      "cell_type": "markdown",
      "metadata": {
        "id": "SgHTmNjR-YYC"
      },
      "source": [
        "3. Write a code to slice the first 3 characters from the string \"Python Programming\"."
      ]
    },
    {
      "cell_type": "code",
      "execution_count": null,
      "metadata": {
        "id": "Xm0okBHY-ePw"
      },
      "outputs": [],
      "source": [
        "text = \"Python Programming\"\n",
        "print(text[:3])"
      ]
    },
    {
      "cell_type": "markdown",
      "metadata": {
        "id": "wuzr_PEj-opq"
      },
      "source": [
        "4. Write a code to convert the string \"hello\" to uppercase."
      ]
    },
    {
      "cell_type": "code",
      "execution_count": null,
      "metadata": {
        "id": "X8PMpZnG-yUM"
      },
      "outputs": [],
      "source": [
        "print(\"hello\".upper())"
      ]
    },
    {
      "cell_type": "markdown",
      "metadata": {
        "id": "i5mVRApR-3yf"
      },
      "source": [
        "5. Write a code to replace the word \"apple\" with \"orange\" in the string \"I like apple\"."
      ]
    },
    {
      "cell_type": "code",
      "execution_count": null,
      "metadata": {
        "id": "7b2ZbYXl-9nu"
      },
      "outputs": [],
      "source": [
        "text = \"I like apple\"\n",
        "print(text.replace(\"apple\", \"orange\"))"
      ]
    },
    {
      "cell_type": "markdown",
      "metadata": {
        "id": "xSzr3Txy_R97"
      },
      "source": [
        "6. Write a code to create a list with numbers 1 to 5 and print it."
      ]
    },
    {
      "cell_type": "code",
      "execution_count": null,
      "metadata": {
        "id": "Nxly-IE3_ZJh"
      },
      "outputs": [],
      "source": [
        "numbers = [1, 2, 3, 4, 5]\n",
        "print(numbers)"
      ]
    },
    {
      "cell_type": "markdown",
      "metadata": {
        "id": "t9amjjVM_feu"
      },
      "source": [
        "7. Write a code to append the number 10 to the list [1, 2, 3, 4]."
      ]
    },
    {
      "cell_type": "code",
      "execution_count": null,
      "metadata": {
        "id": "66wbn5QL_mS0"
      },
      "outputs": [],
      "source": [
        "nums = [1, 2, 3, 4]\n",
        "nums.append(10)\n",
        "print(nums)"
      ]
    },
    {
      "cell_type": "markdown",
      "metadata": {
        "id": "WH736rTU_rPx"
      },
      "source": [
        "8. Write a code to remove the number 3 from the list [1, 2, 3, 4, 5]."
      ]
    },
    {
      "cell_type": "code",
      "execution_count": null,
      "metadata": {
        "id": "DwEoqyOW_x6c"
      },
      "outputs": [],
      "source": [
        "nums = [1, 2, 3, 4, 5]\n",
        "nums.remove(3)\n",
        "print(nums)"
      ]
    },
    {
      "cell_type": "markdown",
      "metadata": {
        "id": "3JDKy3fS_305"
      },
      "source": [
        "9. Write a code to access the second element in the list ['a', 'b', 'c', 'd']."
      ]
    },
    {
      "cell_type": "code",
      "execution_count": null,
      "metadata": {
        "id": "m3gDytNH__MG"
      },
      "outputs": [],
      "source": [
        "letters = ['a', 'b', 'c', 'd']\n",
        "print(letters[1])"
      ]
    },
    {
      "cell_type": "markdown",
      "metadata": {
        "id": "UDPYAnZ6AD4r"
      },
      "source": [
        "10. Write a code to reverse the list [10, 20, 30, 40, 50]."
      ]
    },
    {
      "cell_type": "code",
      "execution_count": null,
      "metadata": {
        "id": "4eGRhChWALG9"
      },
      "outputs": [],
      "source": [
        "nums = [10, 20, 30, 40, 50]\n",
        "nums.reverse()\n",
        "print(nums)"
      ]
    },
    {
      "cell_type": "markdown",
      "metadata": {
        "id": "5ElIePoBAg5S"
      },
      "source": [
        "11. Write a code to create a tuple with the elements 100, 200, 300 and print it."
      ]
    },
    {
      "cell_type": "code",
      "execution_count": null,
      "metadata": {
        "id": "qKxf9q_-An13"
      },
      "outputs": [],
      "source": [
        "my_tuple = (100, 200, 300)\n",
        "print(my_tuple)"
      ]
    },
    {
      "cell_type": "markdown",
      "metadata": {
        "id": "yfLdexiVAy2o"
      },
      "source": [
        "12. Write a code to access the second-to-last element of the tuple ('red', 'green', 'blue', 'yellow')."
      ]
    },
    {
      "cell_type": "code",
      "execution_count": null,
      "metadata": {
        "id": "VF27t8CoA3cx"
      },
      "outputs": [],
      "source": [
        "colors = ('red', 'green', 'blue', 'yellow')\n",
        "print(colors[-2])"
      ]
    },
    {
      "cell_type": "markdown",
      "metadata": {
        "id": "XqnCzFmFA878"
      },
      "source": [
        "13. Write a code to find the minimum number in the tuple (10, 20, 5, 15)."
      ]
    },
    {
      "cell_type": "code",
      "execution_count": null,
      "metadata": {
        "id": "odfEAG81BDSO"
      },
      "outputs": [],
      "source": [
        "numbers = (10, 20, 5, 15)\n",
        "print(min(numbers))"
      ]
    },
    {
      "cell_type": "markdown",
      "metadata": {
        "id": "5-36lp_RBLg-"
      },
      "source": [
        "14. Write a code to find the index of the element \"cat\" in the tuple ('dog', 'cat', 'rabbit')."
      ]
    },
    {
      "cell_type": "code",
      "execution_count": null,
      "metadata": {
        "id": "yKZsya5yBTjn"
      },
      "outputs": [],
      "source": [
        "animals = ('dog', 'cat', 'rabbit')\n",
        "print(animals.index(\"cat\"))"
      ]
    },
    {
      "cell_type": "markdown",
      "metadata": {
        "id": "zifmO_P6BZJk"
      },
      "source": [
        "15. Write a code to create a tuple containing three different fruits and check if \"kiwi\" is in it."
      ]
    },
    {
      "cell_type": "code",
      "execution_count": null,
      "metadata": {
        "id": "1s_v55NBBfzj"
      },
      "outputs": [],
      "source": [
        "fruits = ('apple', 'banana', 'orange')\n",
        "print(\"kiwi\" in fruits)"
      ]
    },
    {
      "cell_type": "markdown",
      "metadata": {
        "id": "_8TkBzjHBmIN"
      },
      "source": [
        "16. Write a code to create a set with the elements 'a', 'b', 'c' and print it."
      ]
    },
    {
      "cell_type": "code",
      "execution_count": null,
      "metadata": {
        "id": "hwdyPnbhBrht"
      },
      "outputs": [],
      "source": [
        "my_set = {'a', 'b', 'c'}\n",
        "print(my_set)"
      ]
    },
    {
      "cell_type": "markdown",
      "metadata": {
        "id": "iu5gPuzaB4fK"
      },
      "source": [
        "17. Write a code to clear all elements from the set {1, 2, 3, 4, 5}."
      ]
    },
    {
      "cell_type": "code",
      "execution_count": null,
      "metadata": {
        "id": "1dY6UJApB-xR"
      },
      "outputs": [],
      "source": [
        "numbers = {1, 2, 3, 4, 5}\n",
        "numbers.clear()\n",
        "print(numbers)"
      ]
    },
    {
      "cell_type": "markdown",
      "metadata": {
        "id": "7ANnOx2kCKtU"
      },
      "source": [
        "18. Write a code to remove the element 4 from the set {1, 2, 3, 4}."
      ]
    },
    {
      "cell_type": "code",
      "execution_count": null,
      "metadata": {
        "id": "DImh_zzgCPs5"
      },
      "outputs": [],
      "source": [
        "numbers = {1, 2, 3, 4}\n",
        "numbers.remove(4)\n",
        "print(numbers)"
      ]
    },
    {
      "cell_type": "markdown",
      "metadata": {
        "id": "fPaEyCnGCUqw"
      },
      "source": [
        "19. Write a code to find the union of two sets {1, 2, 3} and {3, 4, 5}."
      ]
    },
    {
      "cell_type": "code",
      "execution_count": null,
      "metadata": {
        "id": "84A4Gk9HCboj"
      },
      "outputs": [],
      "source": [
        "set1 = {1, 2, 3}\n",
        "set2 = {3, 4, 5}\n",
        "print(set1 | set2)"
      ]
    },
    {
      "cell_type": "markdown",
      "metadata": {
        "id": "Cfj89YZwCi-x"
      },
      "source": [
        "20. Write a code to find the intersection of two sets {1, 2, 3} and {2, 3, 4}."
      ]
    },
    {
      "cell_type": "code",
      "execution_count": null,
      "metadata": {
        "id": "Epgzt0nmCoFW"
      },
      "outputs": [],
      "source": [
        "set1 = {1, 2, 3}\n",
        "set2 = {2, 3, 4}\n",
        "print(set1 & set2)"
      ]
    },
    {
      "cell_type": "markdown",
      "metadata": {
        "id": "jjn8RNIeCtv6"
      },
      "source": [
        "21. Write a code to create a dictionary with the keys \"name\", \"age\", and \"city\", and print it."
      ]
    },
    {
      "cell_type": "code",
      "execution_count": null,
      "metadata": {
        "id": "NbHsaChTC00P"
      },
      "outputs": [],
      "source": [
        "person = {\"name\": \"Vishal\", \"age\": 23, \"city\": \"Pune\"}\n",
        "print(person)"
      ]
    },
    {
      "cell_type": "markdown",
      "metadata": {
        "id": "rUXzlQx3DHMK"
      },
      "source": [
        "22. Write a code to add a new key-value pair \"country\": \"USA\" to the dictionary {'name': 'John', 'age': 25}. result.(replaced)"
      ]
    },
    {
      "cell_type": "code",
      "execution_count": null,
      "metadata": {
        "id": "u0Y6B2KjDOhp"
      },
      "outputs": [],
      "source": [
        "person = {'name': 'John', 'age': 25}\n",
        "person[\"country\"] = \"USA\"\n",
        "print(person)"
      ]
    },
    {
      "cell_type": "markdown",
      "metadata": {
        "id": "dUZLFwuqDWkV"
      },
      "source": [
        "23. Write a code to access the value associated with the key \"name\" in the dictionary {'name': 'Alice', 'age': 30}."
      ]
    },
    {
      "cell_type": "code",
      "execution_count": null,
      "metadata": {
        "id": "KCuu6gnJDbQN"
      },
      "outputs": [],
      "source": [
        "person = {'name': 'Alice', 'age': 30}\n",
        "print(person[\"name\"])"
      ]
    },
    {
      "cell_type": "markdown",
      "metadata": {
        "id": "CIzT5N-ODjw7"
      },
      "source": [
        "24. Write a code to remove the key \"age\" from the dictionary {'name': 'Bob', 'age': 22, 'city': 'New York'}."
      ]
    },
    {
      "cell_type": "code",
      "execution_count": null,
      "metadata": {
        "id": "GzL8RRs1DtRf"
      },
      "outputs": [],
      "source": [
        "person = {'name': 'Bob', 'age': 22, 'city': 'New York'}\n",
        "person.pop(\"age\")\n",
        "print(person)"
      ]
    },
    {
      "cell_type": "markdown",
      "metadata": {
        "id": "TixxJQPqD0UP"
      },
      "source": [
        "25. Write a code to check if the key \"city\" exists in the dictionary {'name': 'Alice', 'city': 'Paris'}."
      ]
    },
    {
      "cell_type": "code",
      "execution_count": null,
      "metadata": {
        "id": "iTLU7vzyD7I5"
      },
      "outputs": [],
      "source": [
        "person = {'name': 'Alice', 'city': 'Paris'}\n",
        "print(\"city\" in person)"
      ]
    },
    {
      "cell_type": "markdown",
      "metadata": {
        "id": "TsCc-ZJSEDQM"
      },
      "source": [
        "26. Write a code to create a list, a tuple, and a dictionary, and print them all."
      ]
    },
    {
      "cell_type": "code",
      "execution_count": null,
      "metadata": {
        "id": "ctcrhQdCEJvs"
      },
      "outputs": [],
      "source": [
        "my_list = [1, 2, 3]\n",
        "my_tuple = (4, 5, 6)\n",
        "my_dict = {\"a\": 1, \"b\": 2}\n",
        "print(my_list, my_tuple, my_dict)"
      ]
    },
    {
      "cell_type": "markdown",
      "metadata": {
        "id": "7yhkZpUeETdk"
      },
      "source": [
        "27. Write a code to create a list of 5 random numbers between 1 and 100, sort it in ascending order, and print the result.(replaced)."
      ]
    },
    {
      "cell_type": "code",
      "execution_count": null,
      "metadata": {
        "id": "qB2xQXyMEt0V"
      },
      "outputs": [],
      "source": [
        "import random\n",
        "random_numbers = random.sample(range(1, 101), 5)\n",
        "random_numbers.sort()\n",
        "print(random_numbers)"
      ]
    },
    {
      "cell_type": "markdown",
      "metadata": {
        "id": "9qnx3hrHFM8E"
      },
      "source": [
        "28. Write a code to create a list with strings and print the element at the third index."
      ]
    },
    {
      "cell_type": "code",
      "execution_count": null,
      "metadata": {
        "id": "03doUhj_FSH1"
      },
      "outputs": [],
      "source": [
        "fruits = [\"apple\", \"banana\", \"cherry\", \"date\", \"kiwi\"]\n",
        "print(fruits[3])"
      ]
    },
    {
      "cell_type": "markdown",
      "metadata": {
        "id": "Wz4z2_F5FeZZ"
      },
      "source": [
        "29. Write a code to combine two dictionaries into one and print the result."
      ]
    },
    {
      "cell_type": "code",
      "execution_count": null,
      "metadata": {
        "id": "2jxG4uPhFl5k"
      },
      "outputs": [],
      "source": [
        "dict1 = {'a': 1, 'b': 2}\n",
        "dict2 = {'c': 3, 'd': 4}\n",
        "merged = {**dict1, **dict2}\n",
        "print(merged)"
      ]
    },
    {
      "cell_type": "markdown",
      "metadata": {
        "id": "uFFtJ5g9Fs3_"
      },
      "source": [
        "30. Write a code to convert a list of strings into a set."
      ]
    },
    {
      "cell_type": "code",
      "execution_count": null,
      "metadata": {
        "id": "hzrOa5dDFzV7"
      },
      "outputs": [],
      "source": [
        "words = [\"apple\", \"banana\", \"apple\", \"orange\"]\n",
        "unique_words = set(words)\n",
        "print(unique_words)"
      ]
    }
  ],
  "metadata": {
    "colab": {
      "provenance": []
    },
    "kernelspec": {
      "display_name": "Python 3",
      "name": "python3"
    },
    "language_info": {
      "name": "python"
    }
  },
  "nbformat": 4,
  "nbformat_minor": 0
}
