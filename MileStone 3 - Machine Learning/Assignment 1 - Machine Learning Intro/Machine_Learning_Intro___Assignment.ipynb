{
  "nbformat": 4,
  "nbformat_minor": 0,
  "metadata": {
    "colab": {
      "provenance": []
    },
    "kernelspec": {
      "name": "python3",
      "display_name": "Python 3"
    },
    "language_info": {
      "name": "python"
    }
  },
  "cells": [
    {
      "cell_type": "markdown",
      "source": [
        "# **Machine Learning Intro | Assignment**"
      ],
      "metadata": {
        "id": "4JkzwZCxscW4"
      }
    },
    {
      "cell_type": "markdown",
      "source": [
        "**1. Explain the differences between AI, ML, Deep Learning (DL), and Data\n",
        "Science (DS).**\n",
        "\n",
        "- A. Artificial Intelligence (AI)\n",
        "\n",
        " Definition:\n",
        "\n",
        " AI is the broadest field that focuses on creating systems or machines capable of performing tasks that normally require human intelligence.\n",
        " Tasks include reasoning, problem-solving, learning, and understanding natural language.\n",
        "\n",
        " Key Points:\n",
        "\n",
        " - AI is the umbrella term — ML and DL are subfields of AI.\n",
        "\n",
        " -  Goal: Mimic human intelligence.\n",
        "\n",
        " - Works with rule-based systems and/or learning-based systems.\n",
        "\n",
        " Examples:\n",
        "\n",
        " - Chatbots like ChatGPT.\n",
        "\n",
        " - Self-driving cars.\n",
        "\n",
        " - Recommendation systems.\n",
        "\n",
        "- B. Machine Learning (ML)\n",
        "\n",
        " Definition:\n",
        "\n",
        " ML is a subset of AI where systems learn patterns from data and make predictions or decisions without being explicitly programmed.\n",
        "\n",
        " Key Points:\n",
        "\n",
        " - Uses algorithms to learn from historical data.\n",
        "\n",
        " - Improves performance as more data is provided.\n",
        "\n",
        " - Types: Supervised, Unsupervised, Reinforcement learning.\n",
        "\n",
        " - Examples:\n",
        "\n",
        " - Spam email detection.\n",
        "\n",
        " - Predicting house prices.\n",
        "\n",
        " - Fraud detection.\n",
        "\n",
        "- C. Deep Learning (DL)\n",
        "\n",
        " Definition:\n",
        "\n",
        " DL is a subset of ML that uses Artificial Neural Networks with many layers (deep networks) to automatically learn features from data.\n",
        "\n",
        " Key Points:\n",
        "\n",
        " - Works especially well with large datasets.\n",
        "\n",
        " - Reduces need for manual feature engineering.\n",
        "\n",
        " - Requires high computing power (e.g., GPUs).\n",
        "\n",
        " - Inspired by the human brain's neuron structure.\n",
        "\n",
        " Examples:\n",
        "\n",
        " - Image recognition (Face unlock on phones).\n",
        "\n",
        " - Voice assistants like Siri/Alexa.\n",
        "\n",
        " - Automatic language translation.\n",
        "\n",
        "- D. Data Science (DS)\n",
        "\n",
        " Definition:\n",
        "\n",
        " Data Science is the field of extracting insights, patterns, and knowledge from structured and unstructured data using statistics, data analysis, and AI/ML tools.\n",
        "\n",
        " Key Points:\n",
        "\n",
        " - Broader than AI — focuses on the entire data pipeline: collection, cleaning, analysis, visualization, and modeling.\n",
        "\n",
        " - Uses AI/ML as part of its toolkit.\n",
        "\n",
        " - Interdisciplinary: combines statistics, computer science, and domain knowledge.\n",
        "\n",
        " Examples:\n",
        "\n",
        " - Analyzing customer purchasing trends.\n",
        "\n",
        " - Building dashboards to monitor business KPIs.\n",
        "\n",
        " - Predictive analytics in healthcare.\n",
        "\n",
        "- E. Summary Table:\n",
        "\n",
        "| Aspect         | AI (Artificial Intelligence)               | ML (Machine Learning)                   | DL (Deep Learning)                           | DS (Data Science)                     |\n",
        "| -------------- | ------------------------------------------ | --------------------------------------- | -------------------------------------------- | ------------------------------------- |\n",
        "| **Definition** | Simulating human intelligence in machines. | AI subset: systems learn from data.     | ML subset: neural networks with many layers. | Extracting insights from data.        |\n",
        "| **Scope**      | Broadest field.                            | Narrower than AI.                       | Narrowest, specific to neural networks.      | Broad, includes AI/ML + statistics.   |\n",
        "| **Data Need**  | Can work with rules or data.               | Needs data to train models.             | Needs large datasets.                        | Works with all data sizes/types.      |\n",
        "| **Techniques** | Rule-based systems, ML, DL.                | Regression, classification, clustering. | CNNs, RNNs, GANs, Transformers.              | SQL, Python, ML, Visualization.       |\n",
        "| **Output**     | Intelligent behavior.                      | Predictions, classifications.           | Complex feature extraction & predictions.    | Insights, reports, predictive models. |\n",
        "| **Examples**   | Chatbot, Chess AI.                         | Spam filter, price prediction.          | Face recognition, voice assistants.          | Sales trend analysis, BI dashboards.  |\n"
      ],
      "metadata": {
        "id": "jBdQlCNOsfgI"
      }
    },
    {
      "cell_type": "markdown",
      "source": [
        "**2. What are the types of machine learning? Describe each with one\n",
        "real-world example.**\n",
        "\n",
        "- Types of Machine Learning\n",
        "\n",
        " -  Machine Learning (ML) is broadly classified into three main types (plus a hybrid type) based on the type of data and feedback given to the algorithm.\n",
        "\n",
        "- A. Supervised Learning\n",
        "\n",
        " Definition:\n",
        "\n",
        " - The algorithm is trained on a labeled dataset, meaning each input has a correct output (label). The model learns the mapping from inputs to outputs.\n",
        "\n",
        " How it Works:\n",
        "\n",
        " - Feed the model with labeled examples.\n",
        "\n",
        " - The model learns patterns.\n",
        "\n",
        " - It predicts output for new, unseen data.\n",
        "\n",
        " Real-World Example:\n",
        "\n",
        " - Spam Email Detection – The system is trained on emails labeled as “Spam” or “Not Spam”. It learns patterns and classifies new emails correctly.\n",
        "\n",
        " Common Algorithms:\n",
        "\n",
        " - Linear Regression, Decision Trees, Random Forest, Support Vector Machines (SVM).\n",
        "\n",
        "- B. Unsupervised Learning\n",
        "\n",
        " Definition:\n",
        "\n",
        " - The algorithm is trained on unlabeled data. It tries to find hidden patterns or structure in the data.\n",
        "\n",
        " How it Works:\n",
        "\n",
        " - No correct output labels are given.\n",
        "\n",
        " - The model groups or organizes data based on similarities or patterns.\n",
        "\n",
        " Real-World Example:\n",
        "\n",
        " - Customer Segmentation – An e-commerce company groups customers based on buying behavior to offer personalized recommendations.\n",
        "\n",
        " Common Algorithms:\n",
        "\n",
        " - K-Means Clustering, Hierarchical Clustering, PCA (Principal Component Analysis).\n",
        "\n",
        "- C. Reinforcement Learning\n",
        "\n",
        " Definition:\n",
        "\n",
        " - The algorithm learns by interacting with an environment, receiving rewards or penalties based on its actions, and optimizing behavior over time.\n",
        "\n",
        " How it Works:\n",
        "\n",
        " - Agent → Takes action in environment.\n",
        "\n",
        " - Environment → Gives feedback (reward or penalty).\n",
        "\n",
        " - Agent → Adjusts strategy to maximize total reward.\n",
        "\n",
        " Real-World Example:\n",
        "\n",
        " - Self-Driving Cars – The car learns to navigate by getting rewards for safe driving and penalties for mistakes.\n",
        "\n",
        " Common Algorithms:\n",
        "\n",
        " - Q-Learning, Deep Q-Networks (DQN), Policy Gradients.\n",
        "\n",
        "- D. Semi-Supervised Learning (Hybrid Approach)\n",
        "\n",
        " Definition:\n",
        "\n",
        " - Uses a mix of labeled and unlabeled data for training. The labeled data guides learning, and the unlabeled data helps improve accuracy.\n",
        "\n",
        " Real-World Example:\n",
        "\n",
        " - Medical Diagnosis – A few X-ray images are labeled by doctors, and the rest are unlabeled. The system uses both to improve prediction accuracy.\n",
        "\n",
        " Common Algorithms:\n",
        "\n",
        " - Semi-Supervised SVM, Self-Training, Graph-Based Methods.\n",
        "\n",
        "- E. Summary Table:\n",
        "\n",
        "| Type                         | Data Used                  | Goal                                    | Real-World Example           |\n",
        "| ---------------------------- | -------------------------- | --------------------------------------- | ---------------------------- |\n",
        "| **Supervised Learning**      | Labeled                    | Predict outputs from inputs.            | Spam detection               |\n",
        "| **Unsupervised Learning**    | Unlabeled                  | Find hidden patterns or groups.         | Customer segmentation        |\n",
        "| **Reinforcement Learning**   | No fixed dataset           | Learn best actions via trial and error. | Self-driving cars            |\n",
        "| **Semi-Supervised Learning** | Mix of labeled & unlabeled | Improve learning using both data types. | Medical image classification |\n"
      ],
      "metadata": {
        "id": "_VSbuTZ4uAIf"
      }
    },
    {
      "cell_type": "markdown",
      "source": [
        "**3. Define overfitting, underfitting, and the bias-variance tradeoff in machine learning.**\n",
        "\n",
        "- A. Overfitting\n",
        "\n",
        " Definition:\n",
        "\n",
        " - Overfitting occurs when a machine learning model learns too much detail from the training data, including noise and random fluctuations, making it perform well on training data but poorly on unseen (test) data.\n",
        "\n",
        " Causes:\n",
        "\n",
        " - Model is too complex (too many parameters, deep trees, etc.).\n",
        "\n",
        " - Too little training data.\n",
        "\n",
        " - No regularization applied.\n",
        "\n",
        " Effects:\n",
        "\n",
        " - High accuracy on training set.\n",
        "\n",
        " - Low accuracy on new data.\n",
        "\n",
        " Example:\n",
        "\n",
        " - A decision tree for predicting exam scores learns that students wearing blue shirts scored higher in the training data.\n",
        " This “blue shirt” pattern is noise and doesn’t generalize.\n",
        "\n",
        "- B. Underfitting\n",
        "\n",
        " Definition:\n",
        "\n",
        " - Underfitting happens when a model is too simple to capture the underlying patterns in the data, leading to poor performance on both training and test data.\n",
        "\n",
        " Causes:\n",
        "\n",
        " - Model has too few parameters (overly simple).\n",
        "\n",
        " - Not enough training time (stopped too early).\n",
        "\n",
        " - Wrong choice of features.\n",
        "\n",
        " Effects:\n",
        "\n",
        " - Low accuracy everywhere.\n",
        "\n",
        " - Model fails to capture relationships.\n",
        "\n",
        " Example:\n",
        "\n",
        " - Trying to predict house prices using only the number of bedrooms and ignoring other important features like location, area, and amenities.\n",
        "\n",
        "- C. Bias–Variance Tradeoff\n",
        "\n",
        " Definition:\n",
        "\n",
        " - The bias–variance tradeoff explains the balance between two sources of error that affect a model’s performance:\n",
        "\n",
        " - Bias – Error from wrong assumptions or oversimplified models (linked to underfitting).\n",
        "\n",
        " - Variance – Error from being too sensitive to training data (linked to overfitting).\n",
        "\n",
        " Goal:\n",
        "\n",
        " - Find the “sweet spot” where bias and variance are balanced, giving the lowest total error.\n",
        "\n",
        " Bias–Variance Relationship Table:\n",
        "\n",
        "| Error Type        | Cause                | Effect on Model | Related Problem |\n",
        "| ----------------- | -------------------- | --------------- | --------------- |\n",
        "| **High Bias**     | Oversimplified model | Misses patterns | Underfitting    |\n",
        "| **High Variance** | Overly complex model | Fits noise      | Overfitting     |\n"
      ],
      "metadata": {
        "id": "TqB6xDZivqsM"
      }
    },
    {
      "cell_type": "markdown",
      "source": [
        "**4. What are outliers in a dataset, and list three common techniques for\n",
        "handling them?**\n",
        "\n",
        "- Outliers in a Dataset\n",
        "- A. Definition\n",
        "\n",
        " - An outlier is a data point that lies far away from the rest of the observations in a dataset.\n",
        " It deviates significantly from other values and may result from measurement errors, data entry errors, or true unusual events.\n",
        "\n",
        " Why Outliers Matter:\n",
        "\n",
        " - Can skew mean and variance.\n",
        "\n",
        " - Can mislead model training in ML.\n",
        "\n",
        " - Can indicate important rare events (fraud, disease outbreaks, etc.).\n",
        "\n",
        "- B. Causes of Outliers\n",
        "\n",
        " - Human error – Wrong data entry (e.g., typing 1000 instead of 100).\n",
        "\n",
        " - Instrument error – Faulty sensor readings.\n",
        "\n",
        " - Natural variation – Genuine rare events (e.g., millionaire in income dataset).\n",
        "\n",
        "- C. Examples\n",
        "\n",
        " - In a dataset of people’s heights:\n",
        "Most people are between 150–190 cm, but one entry shows 280 cm — likely an outlier.\n",
        "\n",
        " - In a sales dataset, all monthly sales are ₹50k–₹70k, but one month shows ₹10 lakh due to a huge one-time order.\n",
        "\n",
        "- D. Three Common Techniques for Handling Outliers\n",
        "\n",
        " 1. Removal of Outliers\n",
        "\n",
        " - Remove extreme values from the dataset.\n",
        "\n",
        " - Useful when outliers are due to errors and not important events.\n",
        "\n",
        " - Example: If someone’s age is recorded as 250 years, it’s clearly invalid.\n",
        "\n",
        " 2. Transformation\n",
        "\n",
        " - Apply mathematical transformations to reduce the impact of outliers.\n",
        "\n",
        " - Common transformations: log transformation, square root, Box–Cox.\n",
        "\n",
        " - Example: Converting income data to log scale reduces the effect of extremely high incomes.\n",
        "\n",
        " 3. Capping (Winsorization)\n",
        "\n",
        " - Replace extreme values with nearest acceptable values (set thresholds).\n",
        "\n",
        " - Example: If salary above ₹5 lakh/month is rare, cap all values above it at ₹5 lakh.\n",
        "\n",
        "  Extra Techniques:\n",
        "\n",
        " - Imputation – Replace outliers with mean/median values.\n",
        "\n",
        " - Model-based detection – Use algorithms like Isolation Forest, DBSCAN to detect and treat outliers.\n",
        "\n",
        "- E. Summary Table:\n",
        "\n",
        "| Technique      | Description     | When to Use              | Example                  |\n",
        "| -------------- | --------------- | ------------------------ | ------------------------ |\n",
        "| Removal        | Delete outliers | Data errors              | Age = 250                |\n",
        "| Transformation | Reduce impact   | Skewed data              | Log(income)              |\n",
        "| Capping        | Limit extremes  | Valid but extreme values | Salary capped at ₹5 lakh |\n"
      ],
      "metadata": {
        "id": "veP4BkisxB2E"
      }
    },
    {
      "cell_type": "markdown",
      "source": [
        "**5. Explain the process of handling missing values and mention one imputation technique for numerical and one for categorical data.**\n",
        "\n",
        "- Handling Missing Values in a Dataset\n",
        "\n",
        "- A. Definition\n",
        "\n",
        " - Missing values are data points where no value is stored for a given observation and variable.\n",
        "\n",
        " They can occur due to:\n",
        "\n",
        " - Data entry errors\n",
        "\n",
        " - Sensor failures\n",
        "\n",
        " - Non-response in surveys\n",
        "\n",
        " - Data corruption\n",
        "\n",
        "- B. Why Missing Values Matter\n",
        "\n",
        " - Many algorithms cannot handle missing data directly.\n",
        "\n",
        " - Missing values can reduce accuracy of models.\n",
        "\n",
        " - Can introduce bias if not handled properly.\n",
        "\n",
        "- C. Process of Handling Missing Values\n",
        "\n",
        "  Step 1: Identify Missing Values\n",
        "\n",
        " - Use functions to detect missing data:\n",
        "\n",
        " Python (Pandas):\n",
        "\n",
        " - df.isnull().sum()\n",
        "\n",
        " - R: is.na(data)\n",
        "\n",
        "  Step 2: Analyze the Pattern\n",
        "\n",
        " - MCAR (Missing Completely at Random): No relation with any variable.\n",
        "\n",
        " - MAR (Missing at Random): Related to other variables.\n",
        "\n",
        " - MNAR (Missing Not at Random): Missing for a specific reason.\n",
        "\n",
        " Step 3: Choose a Treatment Method\n",
        "\n",
        " - Remove Rows/Columns: When missing data is minimal.\n",
        "\n",
        " - Imputation: Replace missing values with estimated values.\n",
        "\n",
        " - Use Models: Predict missing values using regression or ML.\n",
        "\n",
        "- D. Imputation Techniques\n",
        "\n",
        "1. Numerical Data – Mean Imputation\n",
        "Replace missing values with the mean of the available data.\n",
        "\n",
        " Example:\n",
        "\n",
        " - Dataset: [5, 6, NaN, 8] → Mean = (5+6+8)/3 = 6.33\n",
        "\n",
        " - Imputed dataset: [5, 6, 6.33, 8]\n",
        "\n",
        " - When to use: When data is normally distributed and missing values are few.\n",
        "\n",
        "2. Categorical Data – Mode Imputation\n",
        "Replace missing values with the most frequent category.\n",
        "\n",
        " Example:\n",
        "\n",
        " - Dataset: [\"Red\", \"Blue\", NaN, \"Red\"] → Mode = \"Red\"\n",
        "\n",
        " - Imputed dataset: [\"Red\", \"Blue\", \"Red\", \"Red\"]\n",
        "\n",
        " - When to use: When categorical data is skewed towards a dominant category.\n",
        "\n",
        "- E. Summary Table:\n",
        "\n",
        "| Data Type   | Imputation Method | Example Before               | Example After                  |\n",
        "| ----------- | ----------------- | ---------------------------- | ------------------------------ |\n",
        "| Numerical   | Mean Imputation   | \\[5, 6, NaN, 8]              | \\[5, 6, 6.33, 8]               |\n",
        "| Categorical | Mode Imputation   | \\[\"Red\", \"Blue\", NaN, \"Red\"] | \\[\"Red\", \"Blue\", \"Red\", \"Red\"] |\n"
      ],
      "metadata": {
        "id": "UtPUbe4bygap"
      }
    },
    {
      "cell_type": "markdown",
      "source": [
        "**6. Write a Python program that:**\n",
        "\n",
        "**● Creates a synthetic imbalanced dataset with make_classification() from\n",
        "sklearn.datasets.**\n",
        "\n",
        "**● Prints the class distribution.**\n",
        "\n",
        "- Program 1 – Create Synthetic Imbalanced Dataset:"
      ],
      "metadata": {
        "id": "R7_1Xcxk0Fsb"
      }
    },
    {
      "cell_type": "code",
      "execution_count": 3,
      "metadata": {
        "colab": {
          "base_uri": "https://localhost:8080/"
        },
        "id": "TfbasckisPfn",
        "outputId": "cd10915e-1bc1-44e9-a0cd-ca21422f568b"
      },
      "outputs": [
        {
          "output_type": "stream",
          "name": "stdout",
          "text": [
            "Synthetic imbalanced dataset created successfully.\n"
          ]
        }
      ],
      "source": [
        "from sklearn.datasets import make_classification\n",
        "\n",
        "# Create synthetic imbalanced dataset\n",
        "X, y = make_classification(\n",
        "    n_samples=1000,        # total number of samples\n",
        "    n_features=10,         # total features\n",
        "    n_informative=2,       # number of informative features\n",
        "    n_redundant=0,         # number of redundant features\n",
        "    n_clusters_per_class=1,\n",
        "    weights=[0.9, 0.1],    # imbalance: 90% in class 0, 10% in class 1\n",
        "    random_state=42        # reproducibility\n",
        ")\n",
        "\n",
        "print(\"Synthetic imbalanced dataset created successfully.\")\n"
      ]
    },
    {
      "cell_type": "markdown",
      "source": [
        "Program 2 – Print Class Distribution"
      ],
      "metadata": {
        "id": "3r9SdGyN1Ai4"
      }
    },
    {
      "cell_type": "code",
      "source": [
        "import numpy as np\n",
        "from collections import Counter\n",
        "from sklearn.datasets import make_classification\n",
        "\n",
        "# Create same synthetic imbalanced dataset\n",
        "X, y = make_classification(n_samples=1000,\n",
        "                           n_features=10,\n",
        "                           n_informative=2,\n",
        "                           n_redundant=0,\n",
        "                           n_clusters_per_class=1,\n",
        "                           weights=[0.9, 0.1],\n",
        "                           random_state=42)\n",
        "\n",
        "# Print class distribution\n",
        "class_counts = Counter(y)\n",
        "print(\"Class distribution:\", class_counts)\n",
        "\n",
        "# Optional: Display percentage distribution\n",
        "for cls, count in class_counts.items():\n",
        "    print(f\"Class {cls}: {count} samples ({(count/len(y))*100:.2f}%)\")\n"
      ],
      "metadata": {
        "colab": {
          "base_uri": "https://localhost:8080/"
        },
        "id": "mIQsXZHM1Gjw",
        "outputId": "e66f222b-f495-4ec5-a188-83a162e6c803"
      },
      "execution_count": 2,
      "outputs": [
        {
          "output_type": "stream",
          "name": "stdout",
          "text": [
            "Class distribution: Counter({np.int64(0): 895, np.int64(1): 105})\n",
            "Class 0: 895 samples (89.50%)\n",
            "Class 1: 105 samples (10.50%)\n"
          ]
        }
      ]
    },
    {
      "cell_type": "markdown",
      "source": [
        "**7. Implement one-hot encoding using pandas for the following list of colors:\n",
        "['Red', 'Green', 'Blue', 'Green', 'Red']. Print the resulting dataframe.**"
      ],
      "metadata": {
        "id": "q5pEDwo41Ydh"
      }
    },
    {
      "cell_type": "code",
      "source": [
        "import pandas as pd\n",
        "\n",
        "# Given list of colors\n",
        "colors = ['Red', 'Green', 'Blue', 'Green', 'Red']\n",
        "\n",
        "# Create DataFrame\n",
        "df = pd.DataFrame({'Color': colors})\n",
        "\n",
        "# Apply one-hot encoding\n",
        "one_hot_df = pd.get_dummies(df, columns=['Color'])\n",
        "\n",
        "# Print the resulting DataFrame\n",
        "print(one_hot_df)\n"
      ],
      "metadata": {
        "colab": {
          "base_uri": "https://localhost:8080/"
        },
        "id": "BwRpCxr41j9c",
        "outputId": "9b3b60cf-142e-4a02-8520-77c392b22e4c"
      },
      "execution_count": 4,
      "outputs": [
        {
          "output_type": "stream",
          "name": "stdout",
          "text": [
            "   Color_Blue  Color_Green  Color_Red\n",
            "0       False        False       True\n",
            "1       False         True      False\n",
            "2        True        False      False\n",
            "3       False         True      False\n",
            "4       False        False       True\n"
          ]
        }
      ]
    },
    {
      "cell_type": "markdown",
      "source": [
        "**8. Write a Python script to:**\n",
        "\n",
        "**● Generate 1000 samples from a normal distribution.**\n",
        "\n",
        "**● Introduce 50 random missing values.**\n",
        "\n",
        "**● Fill missing values with the column mean.**\n",
        "\n",
        "**● Plot a histogram before and after imputation.**\n",
        "\n",
        " - Program 1 – Generate 1000 samples from a normal distribution"
      ],
      "metadata": {
        "id": "J5LJy79I1veH"
      }
    },
    {
      "cell_type": "code",
      "source": [
        "import numpy as np\n",
        "import pandas as pd\n",
        "\n",
        "# Step 1: Generate normal distribution data\n",
        "np.random.seed(42)  # for reproducibility\n",
        "data = np.random.normal(loc=50, scale=10, size=1000)  # mean=50, std=10\n",
        "\n",
        "# Create DataFrame\n",
        "df = pd.DataFrame({'Values': data})\n",
        "\n",
        "print(\"First 10 samples from normal distribution:\")\n",
        "print(df.head(10))\n"
      ],
      "metadata": {
        "colab": {
          "base_uri": "https://localhost:8080/"
        },
        "id": "-inFCvOZ2CSP",
        "outputId": "4ac14629-a7cb-4669-f9a4-886f6f85770f"
      },
      "execution_count": 6,
      "outputs": [
        {
          "output_type": "stream",
          "name": "stdout",
          "text": [
            "First 10 samples from normal distribution:\n",
            "      Values\n",
            "0  54.967142\n",
            "1  48.617357\n",
            "2  56.476885\n",
            "3  65.230299\n",
            "4  47.658466\n",
            "5  47.658630\n",
            "6  65.792128\n",
            "7  57.674347\n",
            "8  45.305256\n",
            "9  55.425600\n"
          ]
        }
      ]
    },
    {
      "cell_type": "markdown",
      "source": [
        " - Program 2 – Introduce 50 random missing values"
      ],
      "metadata": {
        "id": "3Yvfo1GI2mw_"
      }
    },
    {
      "cell_type": "code",
      "source": [
        "import numpy as np\n",
        "import pandas as pd\n",
        "\n",
        "# Step 2: Generate data\n",
        "np.random.seed(42)\n",
        "data = np.random.normal(loc=50, scale=10, size=1000)\n",
        "\n",
        "# Introduce 50 random NaNs\n",
        "missing_indices = np.random.choice(1000, 50, replace=False)\n",
        "data[missing_indices] = np.nan\n",
        "\n",
        "# Create DataFrame\n",
        "df = pd.DataFrame({'Values': data})\n",
        "\n",
        "print(\"Number of missing values:\", df['Values'].isnull().sum())\n"
      ],
      "metadata": {
        "colab": {
          "base_uri": "https://localhost:8080/"
        },
        "id": "Up5ipZIf2rQx",
        "outputId": "17daf1a3-9ee4-4d58-abbb-57b5c83f4b91"
      },
      "execution_count": 7,
      "outputs": [
        {
          "output_type": "stream",
          "name": "stdout",
          "text": [
            "Number of missing values: 50\n"
          ]
        }
      ]
    },
    {
      "cell_type": "markdown",
      "source": [
        " - Program 3 – Fill missing values with column mean"
      ],
      "metadata": {
        "id": "A6wnIEoK2zEu"
      }
    },
    {
      "cell_type": "code",
      "source": [
        "import numpy as np\n",
        "import pandas as pd\n",
        "\n",
        "# Step 3: Create dataset with missing values\n",
        "np.random.seed(42)\n",
        "data = np.random.normal(loc=50, scale=10, size=1000)\n",
        "missing_indices = np.random.choice(1000, 50, replace=False)\n",
        "data[missing_indices] = np.nan\n",
        "df = pd.DataFrame({'Values': data})\n",
        "\n",
        "# Fill missing values with mean\n",
        "mean_value = df['Values'].mean()\n",
        "df_filled = df.fillna(mean_value)\n",
        "\n",
        "print(\"Missing values after imputation:\", df_filled['Values'].isnull().sum())\n"
      ],
      "metadata": {
        "colab": {
          "base_uri": "https://localhost:8080/"
        },
        "id": "frvNe1AY25FY",
        "outputId": "abaf5c5a-aae0-41f6-ea5d-90843b2ae264"
      },
      "execution_count": 8,
      "outputs": [
        {
          "output_type": "stream",
          "name": "stdout",
          "text": [
            "Missing values after imputation: 0\n"
          ]
        }
      ]
    },
    {
      "cell_type": "markdown",
      "source": [
        " - Program 4 – Plot histogram before and after imputation"
      ],
      "metadata": {
        "id": "ZhMmYllh276V"
      }
    },
    {
      "cell_type": "code",
      "source": [
        "import numpy as np\n",
        "import pandas as pd\n",
        "import matplotlib.pyplot as plt\n",
        "\n",
        "# Step 4: Create dataset with missing values\n",
        "np.random.seed(42)\n",
        "data = np.random.normal(loc=50, scale=10, size=1000)\n",
        "missing_indices = np.random.choice(1000, 50, replace=False)\n",
        "data[missing_indices] = np.nan\n",
        "df = pd.DataFrame({'Values': data})\n",
        "\n",
        "# Fill missing values with mean\n",
        "mean_value = df['Values'].mean()\n",
        "df_filled = df.fillna(mean_value)\n",
        "\n",
        "# Plot histograms\n",
        "plt.figure(figsize=(10, 5))\n",
        "\n",
        "# Before imputation\n",
        "plt.subplot(1, 2, 1)\n",
        "plt.hist(df['Values'].dropna(), bins=30, color='skyblue', edgecolor='black')\n",
        "plt.title(\"Before Imputation\")\n",
        "plt.xlabel(\"Value\")\n",
        "plt.ylabel(\"Frequency\")\n",
        "\n",
        "# After imputation\n",
        "plt.subplot(1, 2, 2)\n",
        "plt.hist(df_filled['Values'], bins=30, color='lightgreen', edgecolor='black')\n",
        "plt.title(\"After Imputation (Mean)\")\n",
        "plt.xlabel(\"Value\")\n",
        "plt.ylabel(\"Frequency\")\n",
        "\n",
        "plt.tight_layout()\n",
        "plt.show()\n"
      ],
      "metadata": {
        "colab": {
          "base_uri": "https://localhost:8080/",
          "height": 329
        },
        "id": "_eKlz7-E3CvB",
        "outputId": "6afc000d-14fc-4c3d-af39-6b14cbf71627"
      },
      "execution_count": 9,
      "outputs": [
        {
          "output_type": "display_data",
          "data": {
            "text/plain": [
              "<Figure size 1000x500 with 2 Axes>"
            ],
            "image/png": "[encoded data removed]"
          },
          "metadata": {}
        }
      ]
    },
    {
      "cell_type": "markdown",
      "source": [
        "**9. Implement Min-Max scaling on the following list of numbers [2, 5, 10, 15,\n",
        "20] using sklearn.preprocessing.MinMaxScaler. Print the scaled array.**\n",
        "\n"
      ],
      "metadata": {
        "id": "rPJcCdKn3Goy"
      }
    },
    {
      "cell_type": "code",
      "source": [
        "from sklearn.preprocessing import MinMaxScaler\n",
        "import numpy as np\n",
        "\n",
        "# Original data\n",
        "data = np.array([2, 5, 10, 15, 20]).reshape(-1, 1)  # Reshape for sklearn\n",
        "\n",
        "# Create Min-Max Scaler\n",
        "scaler = MinMaxScaler()\n",
        "\n",
        "# Fit and transform the data\n",
        "scaled_data = scaler.fit_transform(data)\n",
        "\n",
        "# Print scaled array\n",
        "print(\"Original Data:\\n\", data.flatten())\n",
        "print(\"Scaled Data:\\n\", scaled_data.flatten())\n"
      ],
      "metadata": {
        "colab": {
          "base_uri": "https://localhost:8080/"
        },
        "id": "-g6uaiOP3nI6",
        "outputId": "1733d685-4f4c-45d6-8f6d-7b2b0e4f4780"
      },
      "execution_count": 10,
      "outputs": [
        {
          "output_type": "stream",
          "name": "stdout",
          "text": [
            "Original Data:\n",
            " [ 2  5 10 15 20]\n",
            "Scaled Data:\n",
            " [0.         0.16666667 0.44444444 0.72222222 1.        ]\n"
          ]
        }
      ]
    },
    {
      "cell_type": "markdown",
      "source": [
        "**10. You are working as a data scientist for a retail company. You receive a customer transaction dataset that contains:**\n",
        "\n",
        "**● Missing ages,**\n",
        "\n",
        "**● Outliers in transaction amount,**\n",
        "\n",
        "**● A highly imbalanced target (fraud vs. non-fraud),**\n",
        "\n",
        "**● Categorical variables like payment method.**\n",
        "\n",
        "**Explain the step-by-step data preparation plan you’d follow before training a machine learning\n",
        "model. Include how you’d address missing data, outliers, imbalance, and encoding.**\n",
        "\n",
        "- Step-by-Step Data Preparation Plan\n",
        "\n",
        " Step 1 — Handle Missing Data\n",
        "\n",
        " - Numerical (Age) → Fill missing values with mean (simple, prevents data loss).\n",
        "\n",
        " - Categorical (PaymentMethod) → Fill missing values with mode (most frequent category).\n",
        "\n",
        " Code:"
      ],
      "metadata": {
        "id": "JaQ4pwqW3rAg"
      }
    },
    {
      "cell_type": "code",
      "source": [
        "import pandas as pd\n",
        "import numpy as np\n",
        "\n",
        "# Sample dataset\n",
        "data = {\n",
        "    'Age': [25, np.nan, 40, 35, np.nan, 50, 28, 33, np.nan, 45],\n",
        "    'TransactionAmount': [100, 2000, 150, 5000, 300, 120, 2500, 130, 80, 6000],\n",
        "    'Target': [0, 0, 0, 1, 0, 0, 0, 1, 0, 1],\n",
        "    'PaymentMethod': ['Credit Card', 'Debit Card', 'Cash', 'Credit Card',\n",
        "                      'Cash', 'UPI', 'Debit Card', 'Credit Card', 'Cash', 'UPI']\n",
        "}\n",
        "df = pd.DataFrame(data)\n",
        "\n",
        "# Numerical missing values → mean imputation\n",
        "df['Age'].fillna(df['Age'].mean(), inplace=True)\n",
        "\n",
        "# (If categorical had missing values, use mode)\n",
        "df['PaymentMethod'].fillna(df['PaymentMethod'].mode()[0], inplace=True)\n",
        "\n",
        "print(\"After Missing Value Treatment:\\n\", df)\n"
      ],
      "metadata": {
        "colab": {
          "base_uri": "https://localhost:8080/"
        },
        "id": "ooaISm3Y4wjo",
        "outputId": "20f18642-9a5a-4215-d2ef-4c8ba0076128"
      },
      "execution_count": 15,
      "outputs": [
        {
          "output_type": "stream",
          "name": "stdout",
          "text": [
            "After Missing Value Treatment:\n",
            "          Age  TransactionAmount  Target PaymentMethod\n",
            "0  25.000000                100       0   Credit Card\n",
            "1  36.571429               2000       0    Debit Card\n",
            "2  40.000000                150       0          Cash\n",
            "3  35.000000               5000       1   Credit Card\n",
            "4  36.571429                300       0          Cash\n",
            "5  50.000000                120       0           UPI\n",
            "6  28.000000               2500       0    Debit Card\n",
            "7  33.000000                130       1   Credit Card\n",
            "8  36.571429                 80       0          Cash\n",
            "9  45.000000               6000       1           UPI\n"
          ]
        },
        {
          "output_type": "stream",
          "name": "stderr",
          "text": [
            "/tmp/ipython-input-3568946758.py:15: FutureWarning: A value is trying to be set on a copy of a DataFrame or Series through chained assignment using an inplace method.\n",
            "The behavior will change in pandas 3.0. This inplace method will never work because the intermediate object on which we are setting values always behaves as a copy.\n",
            "\n",
            "For example, when doing 'df[col].method(value, inplace=True)', try using 'df.method({col: value}, inplace=True)' or df[col] = df[col].method(value) instead, to perform the operation inplace on the original object.\n",
            "\n",
            "\n",
            "  df['Age'].fillna(df['Age'].mean(), inplace=True)\n",
            "/tmp/ipython-input-3568946758.py:18: FutureWarning: A value is trying to be set on a copy of a DataFrame or Series through chained assignment using an inplace method.\n",
            "The behavior will change in pandas 3.0. This inplace method will never work because the intermediate object on which we are setting values always behaves as a copy.\n",
            "\n",
            "For example, when doing 'df[col].method(value, inplace=True)', try using 'df.method({col: value}, inplace=True)' or df[col] = df[col].method(value) instead, to perform the operation inplace on the original object.\n",
            "\n",
            "\n",
            "  df['PaymentMethod'].fillna(df['PaymentMethod'].mode()[0], inplace=True)\n"
          ]
        }
      ]
    },
    {
      "cell_type": "markdown",
      "source": [
        " - Step 2 — Handle Outliers\n",
        "\n",
        "  - For TransactionAmount, outliers can be detected using the IQR method and capped (winsorization) to reduce extreme influence.\n",
        "\n",
        " - Code:"
      ],
      "metadata": {
        "id": "l4GAsqEA67fJ"
      }
    },
    {
      "cell_type": "code",
      "source": [
        "Q1 = df['TransactionAmount'].quantile(0.25)\n",
        "Q3 = df['TransactionAmount'].quantile(0.75)\n",
        "IQR = Q3 - Q1\n",
        "\n",
        "# Define bounds\n",
        "lower_bound = Q1 - 1.5 * IQR\n",
        "upper_bound = Q3 + 1.5 * IQR\n",
        "\n",
        "# Cap outliers\n",
        "df['TransactionAmount'] = np.where(df['TransactionAmount'] > upper_bound, upper_bound,\n",
        "                                   np.where(df['TransactionAmount'] < lower_bound, lower_bound,\n",
        "                                            df['TransactionAmount']))\n",
        "print(\"\\nAfter Outlier Treatment:\\n\", df)\n"
      ],
      "metadata": {
        "colab": {
          "base_uri": "https://localhost:8080/"
        },
        "id": "75yFQd_M5yDV",
        "outputId": "6783c755-2708-4de7-919f-156c69c57a50"
      },
      "execution_count": 16,
      "outputs": [
        {
          "output_type": "stream",
          "name": "stdout",
          "text": [
            "\n",
            "After Outlier Treatment:\n",
            "          Age  TransactionAmount  Target PaymentMethod\n",
            "0  25.000000             100.00       0   Credit Card\n",
            "1  36.571429            2000.00       0    Debit Card\n",
            "2  40.000000             150.00       0          Cash\n",
            "3  35.000000            5000.00       1   Credit Card\n",
            "4  36.571429             300.00       0          Cash\n",
            "5  50.000000             120.00       0           UPI\n",
            "6  28.000000            2500.00       0    Debit Card\n",
            "7  33.000000             130.00       1   Credit Card\n",
            "8  36.571429              80.00       0          Cash\n",
            "9  45.000000            5753.75       1           UPI\n"
          ]
        }
      ]
    },
    {
      "cell_type": "markdown",
      "source": [
        "Step 3 — Encode Categorical Variables\n",
        "\n",
        " - Use One-Hot Encoding to convert PaymentMethod into numerical columns.\n",
        "\n",
        " Code:"
      ],
      "metadata": {
        "id": "Mn5iUWCu51Bs"
      }
    },
    {
      "cell_type": "code",
      "source": [
        "df = pd.get_dummies(df, columns=['PaymentMethod'], drop_first=True)\n",
        "print(\"\\nAfter Encoding:\\n\", df)\n"
      ],
      "metadata": {
        "colab": {
          "base_uri": "https://localhost:8080/"
        },
        "id": "02httmOS5-DS",
        "outputId": "eb5a79b5-3378-48fa-9fa7-eacb560cc105"
      },
      "execution_count": 17,
      "outputs": [
        {
          "output_type": "stream",
          "name": "stdout",
          "text": [
            "\n",
            "After Encoding:\n",
            "          Age  TransactionAmount  Target  PaymentMethod_Credit Card  \\\n",
            "0  25.000000             100.00       0                       True   \n",
            "1  36.571429            2000.00       0                      False   \n",
            "2  40.000000             150.00       0                      False   \n",
            "3  35.000000            5000.00       1                       True   \n",
            "4  36.571429             300.00       0                      False   \n",
            "5  50.000000             120.00       0                      False   \n",
            "6  28.000000            2500.00       0                      False   \n",
            "7  33.000000             130.00       1                       True   \n",
            "8  36.571429              80.00       0                      False   \n",
            "9  45.000000            5753.75       1                      False   \n",
            "\n",
            "   PaymentMethod_Debit Card  PaymentMethod_UPI  \n",
            "0                     False              False  \n",
            "1                      True              False  \n",
            "2                     False              False  \n",
            "3                     False              False  \n",
            "4                     False              False  \n",
            "5                     False               True  \n",
            "6                      True              False  \n",
            "7                     False              False  \n",
            "8                     False              False  \n",
            "9                     False               True  \n"
          ]
        }
      ]
    },
    {
      "cell_type": "markdown",
      "source": [
        "Step 4 — Handle Class Imbalance\n",
        "\n",
        " - If Target is highly imbalanced (fraud vs non-fraud), apply SMOTE to oversample the minority class.\n",
        "\n",
        " Code:"
      ],
      "metadata": {
        "id": "2naFqiq77SFa"
      }
    },
    {
      "cell_type": "code",
      "source": [
        "from imblearn.over_sampling import SMOTE\n",
        "import pandas as pd\n",
        "\n",
        "# Example dataset\n",
        "df = pd.DataFrame({\n",
        "    'Age': [25, 40, 35, 50, 28, 33, 45, 29],\n",
        "    'TransactionAmount': [100, 2000, 150, 5000, 300, 120, 2500, 6000],\n",
        "    'Target': [0, 0, 0, 1, 0, 0, 0, 1]  # Only 2 minority class samples\n",
        "})\n",
        "\n",
        "X = df.drop('Target', axis=1)\n",
        "y = df['Target']\n",
        "\n",
        "# Set k_neighbors = 1 because minority class has only 2 samples\n",
        "smote = SMOTE(random_state=42, k_neighbors=1)\n",
        "X_resampled, y_resampled = smote.fit_resample(X, y)\n",
        "\n",
        "print(\"\\nBefore SMOTE:\\n\", y.value_counts())\n",
        "print(\"\\nAfter SMOTE:\\n\", pd.Series(y_resampled).value_counts())\n"
      ],
      "metadata": {
        "colab": {
          "base_uri": "https://localhost:8080/"
        },
        "id": "SsdrW-VO7uZE",
        "outputId": "05f26634-6c2c-4107-9d3a-e1ae8ff7e65b"
      },
      "execution_count": 25,
      "outputs": [
        {
          "output_type": "stream",
          "name": "stdout",
          "text": [
            "\n",
            "Before SMOTE:\n",
            " Target\n",
            "0    6\n",
            "1    2\n",
            "Name: count, dtype: int64\n",
            "\n",
            "After SMOTE:\n",
            " Target\n",
            "0    6\n",
            "1    6\n",
            "Name: count, dtype: int64\n"
          ]
        }
      ]
    },
    {
      "cell_type": "markdown",
      "source": [
        "Step 5 — Final Prepared Data\n",
        "\n",
        " - After all preprocessing steps, your dataset is ready for model training.\n",
        "\n",
        " Code:"
      ],
      "metadata": {
        "id": "Z7nu21uF8bxl"
      }
    },
    {
      "cell_type": "code",
      "source": [
        "final_df = pd.concat([X_resampled, y_resampled], axis=1)\n",
        "print(\"\\nFinal Prepared Dataset (first 5 rows):\\n\", final_df.head())\n"
      ],
      "metadata": {
        "colab": {
          "base_uri": "https://localhost:8080/"
        },
        "id": "ufMhbr6B8l37",
        "outputId": "8a665c8c-0c3f-4e58-9fbb-c38f986e2309"
      },
      "execution_count": 26,
      "outputs": [
        {
          "output_type": "stream",
          "name": "stdout",
          "text": [
            "\n",
            "Final Prepared Dataset (first 5 rows):\n",
            "    Age  TransactionAmount  Target\n",
            "0   25                100       0\n",
            "1   40               2000       0\n",
            "2   35                150       0\n",
            "3   50               5000       1\n",
            "4   28                300       0\n"
          ]
        }
      ]
    }
  ]
}