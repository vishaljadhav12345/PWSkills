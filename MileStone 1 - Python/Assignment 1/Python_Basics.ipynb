{
  "nbformat": 4,
  "nbformat_minor": 0,
  "metadata": {
    "colab": {
      "provenance": []
    },
    "kernelspec": {
      "name": "python3",
      "display_name": "Python 3"
    },
    "language_info": {
      "name": "python"
    }
  },
  "cells": [
    {
      "cell_type": "markdown",
      "source": [
        "# **Python Basics Questions**"
      ],
      "metadata": {
        "id": "4QJkfDYNzlmJ"
      }
    },
    {
      "cell_type": "markdown",
      "source": [
        "1. What is Python, and why is it popular?\n",
        "\n",
        "- Python is a high-level, interpreted programming language known for its simple syntax and readability.\n",
        "\n",
        "- Popularity reasons:\n",
        "\n",
        " - Easy to learn and use\n",
        "\n",
        " - Extensive libraries and frameworks (e.g., NumPy, Django)\n",
        "\n",
        " - Cross-platform compatibility\n",
        "\n",
        " - Large community support\n",
        "\n",
        "- Versatile: used in web dev, data science, AI, automation, etc.\n",
        "\n",
        "- Example:"
      ],
      "metadata": {
        "id": "mUsGUf01zr_M"
      }
    },
    {
      "cell_type": "code",
      "source": [
        "print(\"Hello, Python!\")"
      ],
      "metadata": {
        "id": "VeXjCvaa0Jjj"
      },
      "execution_count": null,
      "outputs": []
    },
    {
      "cell_type": "markdown",
      "source": [
        "2. What is an interpreter in Python?\n",
        "\n",
        "- The interpreter reads and executes Python code line by line. It translates high-level Python code into machine code at runtime.\n",
        "\n",
        "- Example:\n",
        "\n",
        " - When you run a .py file, the interpreter processes it line by line:"
      ],
      "metadata": {
        "id": "8c0lEDqj0P8J"
      }
    },
    {
      "cell_type": "code",
      "source": [
        "x = 5\n",
        "print(x)"
      ],
      "metadata": {
        "id": "CH8VJwKF0fSF"
      },
      "execution_count": null,
      "outputs": []
    },
    {
      "cell_type": "markdown",
      "source": [
        "3. What are pre-defined keywords in Python?\n",
        "\n",
        "- Keywords are reserved words in Python that have special meanings. They can't be used as variable names.\n",
        "\n",
        "- Examples:"
      ],
      "metadata": {
        "id": "CJT9rdZW0j2i"
      }
    },
    {
      "cell_type": "code",
      "source": [
        "import keyword\n",
        "print(keyword.kwlist)"
      ],
      "metadata": {
        "id": "A8HSXgAU0rji"
      },
      "execution_count": null,
      "outputs": []
    },
    {
      "cell_type": "markdown",
      "source": [
        "4. Can keywords be used as variable names?\n",
        "\n",
        "- No, keywords cannot be used as variable names.\n",
        "\n",
        "- Example:"
      ],
      "metadata": {
        "id": "E_hlpHsE04T-"
      }
    },
    {
      "cell_type": "code",
      "source": [
        "def = 10"
      ],
      "metadata": {
        "id": "B2V5OlcX1GkZ"
      },
      "execution_count": null,
      "outputs": []
    },
    {
      "cell_type": "markdown",
      "source": [
        "5. What is mutability in Python?\n",
        "\n",
        "- Mutability refers to whether an object’s state (value/content) can be changed after it's created.\n",
        "\n",
        "- Mutable: Can change (e.g., lists, dictionaries)\n",
        "\n",
        "- Immutable: Cannot change (e.g., tuples, strings)\n",
        "\n",
        "- Example:"
      ],
      "metadata": {
        "id": "EeIQ5vLE1Oy9"
      }
    },
    {
      "cell_type": "code",
      "source": [
        "my_list = [1, 2, 3]\n",
        "my_list[0] = 10"
      ],
      "metadata": {
        "id": "ZvYC90Dr1Uok"
      },
      "execution_count": null,
      "outputs": []
    },
    {
      "cell_type": "markdown",
      "source": [
        "6. Why are lists mutable, but tuples are immutable?\n",
        "\n",
        "- Lists are designed for dynamic data; their content can change.\n",
        "\n",
        "- Tuples are fixed-size collections; immutability makes them faster and safe for read-only operations.\n",
        "\n",
        "- Example:"
      ],
      "metadata": {
        "id": "47_TbJrX1aeD"
      }
    },
    {
      "cell_type": "code",
      "source": [
        "my_tuple = (1, 2, 3)"
      ],
      "metadata": {
        "id": "V8S6JPUN1iZl"
      },
      "execution_count": null,
      "outputs": []
    },
    {
      "cell_type": "markdown",
      "source": [
        "7. What is the difference between “==” and “is” operators in Python?\n",
        "\n",
        "- == checks value equality\n",
        "\n",
        "- is checks object identity (memory location)\n",
        "\n",
        "- Example:"
      ],
      "metadata": {
        "id": "Kt1lgo0H1oS4"
      }
    },
    {
      "cell_type": "code",
      "source": [
        "a = [1, 2]\n",
        "b = [1, 2]\n",
        "\n",
        "print(a == b)\n",
        "print(a is b)"
      ],
      "metadata": {
        "id": "DpPlbQkP1yej"
      },
      "execution_count": null,
      "outputs": []
    },
    {
      "cell_type": "markdown",
      "source": [
        "8. What are logical operators in Python?\n",
        "\n",
        "- Operators -\n",
        " - (and) -\tTrue if both conditions are True\t(x > 5 and x < 10)\n",
        " - (or) - True if at least one condition is True\t(x < 5 or x > 10)\n",
        " - (not) - Reverses the result\tnot(x > 5)"
      ],
      "metadata": {
        "id": "vQLLJ3ZJ1-UF"
      }
    },
    {
      "cell_type": "code",
      "source": [
        "x = 7\n",
        "print(x > 5 and x < 10)"
      ],
      "metadata": {
        "id": "1OcJzJoJ2y8I"
      },
      "execution_count": null,
      "outputs": []
    },
    {
      "cell_type": "markdown",
      "source": [
        "9. What is type casting in Python?\n",
        "\n",
        "- Type casting is the process of converting a variable from one data type to another.\n",
        "\n",
        "- Example:"
      ],
      "metadata": {
        "id": "f62vbi6q23ys"
      }
    },
    {
      "cell_type": "code",
      "source": [
        "x = '5'\n",
        "y = int(x)"
      ],
      "metadata": {
        "id": "YptePVBB3LZY"
      },
      "execution_count": null,
      "outputs": []
    },
    {
      "cell_type": "markdown",
      "source": [
        "10. What is the difference between implicit and explicit type casting?\n",
        "\n",
        "- Implicit type casting is done automatically by Python, while explicit type casting is performed by the programmer using functions like int(), str(), float(), etc.\n",
        "\n",
        "- Example:"
      ],
      "metadata": {
        "id": "QivkPSSc3Qfq"
      }
    },
    {
      "cell_type": "code",
      "source": [
        "x = 5\n",
        "y = 2.0\n",
        "z = x + y\n",
        "print(type(z))\n",
        "\n",
        "a = '10'\n",
        "b = int(a)"
      ],
      "metadata": {
        "id": "IeRHt_cj3dxo"
      },
      "execution_count": null,
      "outputs": []
    },
    {
      "cell_type": "markdown",
      "source": [
        "11. What is the purpose of conditional statements in Python?\n",
        "\n",
        "- Conditional statements are used to perform different actions based on different conditions, controlling the flow of execution.\n",
        "\n",
        "- Example:"
      ],
      "metadata": {
        "id": "YrAnM8xJ3pYz"
      }
    },
    {
      "cell_type": "code",
      "source": [
        "x = 10\n",
        "if x > 5:\n",
        "    print('x is greater than 5')\n",
        "else:\n",
        "    print('x is 5 or less')"
      ],
      "metadata": {
        "id": "NQNYMIm13xLo"
      },
      "execution_count": null,
      "outputs": []
    },
    {
      "cell_type": "markdown",
      "source": [
        "12. How does the elif statement work?\n",
        "\n",
        "- The elif statement allows checking multiple expressions for True and executes a block of code as soon as one condition is met.\n",
        "\n",
        "- Example:"
      ],
      "metadata": {
        "id": "wbAyx0jN306Y"
      }
    },
    {
      "cell_type": "code",
      "source": [
        "x = 10\n",
        "if x < 5:\n",
        "    print('Less than 5')\n",
        "elif x == 10:\n",
        "    print('Equal to 10')\n",
        "else:\n",
        "    print('Other')"
      ],
      "metadata": {
        "id": "c1iETGcf38_U"
      },
      "execution_count": null,
      "outputs": []
    },
    {
      "cell_type": "markdown",
      "source": [
        "13. What is the difference between for and while loops?\n",
        "\n",
        "- A for loop iterates over a sequence (like a list or range), while a while loop repeats as long as a condition is True.\n",
        "\n",
        "- Example:"
      ],
      "metadata": {
        "id": "4VhyZbhd4BAO"
      }
    },
    {
      "cell_type": "code",
      "source": [
        "# For loop\n",
        "for i in range(5):\n",
        "    print(i)\n",
        "\n",
        "# While loop\n",
        "i = 0\n",
        "while i < 5:\n",
        "    print(i)\n",
        "    i += 1"
      ],
      "metadata": {
        "id": "nJTLjEEG4Pm-"
      },
      "execution_count": null,
      "outputs": []
    },
    {
      "cell_type": "markdown",
      "source": [
        "14. Describe a scenario where a while loop is more suitable than a for loop.\n",
        "\n",
        "- A while loop is more suitable when the number of iterations is not known beforehand and depends on a condition, such as reading data until a sentinel value is found.\n",
        "\n",
        "- Example:"
      ],
      "metadata": {
        "id": "a7R00gvd4TfG"
      }
    },
    {
      "cell_type": "code",
      "source": [
        "# Read input until user types 'exit'\n",
        "user_input = ''\n",
        "while user_input != 'exit':\n",
        "    user_input = input(\"Enter command: \")\n",
        "    print('You entered:', user_input)"
      ],
      "metadata": {
        "id": "NR00cRIA4ZyN"
      },
      "execution_count": null,
      "outputs": []
    },
    {
      "cell_type": "markdown",
      "source": [
        "# **Practical Questions**"
      ],
      "metadata": {
        "id": "jhXZ13fc4mzx"
      }
    },
    {
      "cell_type": "markdown",
      "source": [
        "1. Write a Python program to print \"Hello, World!"
      ],
      "metadata": {
        "id": "gn5XAu0f4rwz"
      }
    },
    {
      "cell_type": "code",
      "source": [
        "print(\"Hello, World!\")"
      ],
      "metadata": {
        "id": "wcIgQFrz5fOR"
      },
      "execution_count": null,
      "outputs": []
    },
    {
      "cell_type": "markdown",
      "source": [
        "2. Write a Python program that displays your name and age."
      ],
      "metadata": {
        "id": "ZnYNceyI5j9U"
      }
    },
    {
      "cell_type": "code",
      "source": [
        "name = \"Vishal Jadhav\"\n",
        "age = 23\n",
        "print(f\"Name: {name}, Age: {age}\")"
      ],
      "metadata": {
        "id": "RLtDfsKr5qRY"
      },
      "execution_count": null,
      "outputs": []
    },
    {
      "cell_type": "markdown",
      "source": [
        "3. Write code to print all the pre-defined keywords in Python using the keyword library.\n"
      ],
      "metadata": {
        "id": "RfI9wBlz5zhl"
      }
    },
    {
      "cell_type": "code",
      "source": [
        "import keyword\n",
        "print(keyword.kwlist)"
      ],
      "metadata": {
        "id": "ld3SGhKD59W7"
      },
      "execution_count": null,
      "outputs": []
    },
    {
      "cell_type": "markdown",
      "source": [
        "4. Write a program that checks if a given word is a Python keyword."
      ],
      "metadata": {
        "id": "PTFU9fbh6dpD"
      }
    },
    {
      "cell_type": "code",
      "source": [
        "import keyword\n",
        "word = \"for\"\n",
        "print(f\"Is '{word}' a Python keyword?\", keyword.iskeyword(word))\n",
        "word2 = \"hello\"\n",
        "print(f\"Is '{word2}' a Python keyword?\", keyword.iskeyword(word2))"
      ],
      "metadata": {
        "id": "Or5w_FVx6lwF"
      },
      "execution_count": null,
      "outputs": []
    },
    {
      "cell_type": "markdown",
      "source": [
        "5. Create a list and tuple in Python, and demonstrate how attempting to change an element works differently for each."
      ],
      "metadata": {
        "id": "1n6z1MgP6qNL"
      }
    },
    {
      "cell_type": "code",
      "source": [
        "lst = [1, 2, 3]\n",
        "tpl = (1, 2, 3)\n",
        "\n",
        "lst[0] = 10\n",
        "\n",
        "try:\n",
        "    tpl[0] = 10\n",
        "except TypeError as e:\n",
        "    print(\"Tuple error:\", e)\n",
        "print(\"List:\", lst)\n",
        "print(\"Tuple:\", tpl)"
      ],
      "metadata": {
        "id": "xKBONUw-6xbJ"
      },
      "execution_count": null,
      "outputs": []
    },
    {
      "cell_type": "markdown",
      "source": [
        "6. Write a function to demonstrate the behavior of mutable and immutable arguments."
      ],
      "metadata": {
        "id": "h-zs6lD569fc"
      }
    },
    {
      "cell_type": "code",
      "source": [
        "def modify_args(mutable_arg, immutable_arg):\n",
        "    mutable_arg.append(4)\n",
        "    immutable_arg += 10\n",
        "    return mutable_arg, immutable_arg\n",
        "\n",
        "my_list = [1, 2, 3]\n",
        "my_int = 5\n",
        "modified_list, modified_int = modify_args(my_list, my_int)\n",
        "print(\"Modified list:\", modified_list)\n",
        "print(\"Modified int:\", modified_int)\n",
        "print(\"Original int:\", my_int)"
      ],
      "metadata": {
        "id": "NrRS4EMp7Cud"
      },
      "execution_count": null,
      "outputs": []
    },
    {
      "cell_type": "markdown",
      "source": [
        "7. Write a program that performs basic arithmetic operations on two user-input numbers."
      ],
      "metadata": {
        "id": "K_6yw8K47KSq"
      }
    },
    {
      "cell_type": "code",
      "source": [
        "num1 = 10\n",
        "num2 = 3\n",
        "print(\"Addition:\", num1 + num2)\n",
        "print(\"Subtraction:\", num1 - num2)\n",
        "print(\"Multiplication:\", num1 * num2)\n",
        "print(\"Division:\", num1 / num2)\n",
        "print(\"Modulus:\", num1 % num2)"
      ],
      "metadata": {
        "id": "p5LNsAg97Pxa"
      },
      "execution_count": null,
      "outputs": []
    },
    {
      "cell_type": "markdown",
      "source": [
        "8. Write a program to demonstrate the use of logical operators."
      ],
      "metadata": {
        "id": "Rce1pYX87Y2e"
      }
    },
    {
      "cell_type": "code",
      "source": [
        "a = True\n",
        "b = False\n",
        "print(\"AND:\", a and b)\n",
        "print(\"OR:\", a or b)\n",
        "print(\"NOT:\", not a)"
      ],
      "metadata": {
        "id": "t6dQNlWQ7dJs"
      },
      "execution_count": null,
      "outputs": []
    },
    {
      "cell_type": "markdown",
      "source": [
        "9. Write a Python program to convert user input from string to integer, float, and boolean types."
      ],
      "metadata": {
        "id": "ZCl0IVA47mrf"
      }
    },
    {
      "cell_type": "code",
      "source": [
        "input_str = \"123\"\n",
        "int_val = int(input_str)\n",
        "float_val = float(input_str)\n",
        "bool_val = bool(int_val)\n",
        "print(int_val, float_val, bool_val)"
      ],
      "metadata": {
        "id": "QS9gyUyn7q5u"
      },
      "execution_count": null,
      "outputs": []
    },
    {
      "cell_type": "markdown",
      "source": [
        "10. Write code to demonstrate type casting with list elements."
      ],
      "metadata": {
        "id": "4-xAYbFJ7xD6"
      }
    },
    {
      "cell_type": "code",
      "source": [
        "lst_str = ['1', '2', '3']\n",
        "lst_int = list(map(int, lst_str))\n",
        "print(lst_int)"
      ],
      "metadata": {
        "id": "yd3QWRqK71aN"
      },
      "execution_count": null,
      "outputs": []
    },
    {
      "cell_type": "markdown",
      "source": [
        "11. Write a program that checks if a number is positive, negative, or zero."
      ],
      "metadata": {
        "id": "RTjTqPsw76pP"
      }
    },
    {
      "cell_type": "code",
      "source": [
        "num = -5\n",
        "if num > 0:\n",
        "    print(\"Positive\")\n",
        "elif num < 0:\n",
        "    print(\"Negative\")\n",
        "else:\n",
        "    print(\"Zero\")"
      ],
      "metadata": {
        "id": "EuBqcWj47-ZP"
      },
      "execution_count": null,
      "outputs": []
    },
    {
      "cell_type": "markdown",
      "source": [
        "12. Write a for loop to print numbers from 1 to 10."
      ],
      "metadata": {
        "id": "lCEWb57M8E-9"
      }
    },
    {
      "cell_type": "code",
      "source": [
        "for i in range(1, 11):\n",
        "    print(i)"
      ],
      "metadata": {
        "id": "j1Z9YNxN8JaD"
      },
      "execution_count": null,
      "outputs": []
    },
    {
      "cell_type": "markdown",
      "source": [
        "13. Write a Python program to find the sum of all even numbers between 1 and 50."
      ],
      "metadata": {
        "id": "1JDDmziJ8NZV"
      }
    },
    {
      "cell_type": "code",
      "source": [
        "sum_even = sum(i for i in range(1, 51) if i % 2 == 0)\n",
        "print(sum_even)"
      ],
      "metadata": {
        "id": "V_fY-k7c8RTf"
      },
      "execution_count": null,
      "outputs": []
    },
    {
      "cell_type": "markdown",
      "source": [
        "14. Write a program to reverse a string using a while loop."
      ],
      "metadata": {
        "id": "1mpt7XNI8VMv"
      }
    },
    {
      "cell_type": "code",
      "source": [
        "s = \"hello\"\n",
        "reversed_str = \"\"\n",
        "i = len(s) - 1\n",
        "while i >= 0:\n",
        "    reversed_str += s[i]\n",
        "    i -= 1\n",
        "print(reversed_str)"
      ],
      "metadata": {
        "id": "wI5oSWf18ZoV"
      },
      "execution_count": null,
      "outputs": []
    },
    {
      "cell_type": "markdown",
      "source": [
        "15. Write a Python program to calculate the factorial of a number provided by the user using a while loop."
      ],
      "metadata": {
        "id": "HBejlHZQ8eFm"
      }
    },
    {
      "cell_type": "code",
      "source": [
        "num = 5\n",
        "factorial = 1\n",
        "counter = 1\n",
        "while counter <= num:\n",
        "    factorial *= counter\n",
        "    counter += 1\n",
        "print(factorial)"
      ],
      "metadata": {
        "id": "-RdOewVe8jxi"
      },
      "execution_count": null,
      "outputs": []
    }
  ]
}