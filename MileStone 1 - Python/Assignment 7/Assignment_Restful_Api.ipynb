{
  "nbformat": 4,
  "nbformat_minor": 0,
  "metadata": {
    "colab": {
      "provenance": []
    },
    "kernelspec": {
      "name": "python3",
      "display_name": "Python 3"
    },
    "language_info": {
      "name": "python"
    }
  },
  "cells": [
    {
      "cell_type": "markdown",
      "source": [
        "# **Restful API & Flask**"
      ],
      "metadata": {
        "id": "m8BIzckSaGnm"
      }
    },
    {
      "cell_type": "markdown",
      "source": [
        "**1. What is a RESTful API?**\n",
        "\n",
        "- A RESTful API (Representational State Transfer API) is a web service that follows the principles of REST architecture. It allows different software systems to communicate over HTTP using standard methods like GET, POST, PUT, and DELETE.\n",
        "\n",
        "- Key Characteristics of RESTful APIs:\n",
        "\n",
        "| Feature              | Description                                                           |\n",
        "| -------------------- | --------------------------------------------------------------------- |\n",
        "| **Stateless**        | Each request from the client contains all the information needed.     |\n",
        "| **Resource-based**   | Everything is treated as a resource (e.g., `/users`, `/products/23`). |\n",
        "| **HTTP methods**     | Uses standard verbs: `GET`, `POST`, `PUT`, `PATCH`, `DELETE`.         |\n",
        "| **Client-server**    | Client and server are separate; they interact via requests/responses. |\n",
        "| **JSON/XML** support | Usually returns data in **JSON** format, but XML is also possible.    |\n",
        "| **Cacheable**        | Responses can be cached to improve performance.                       |\n",
        "\n",
        "- Example of a RESTful API Request:\n",
        "\n",
        " - Suppose you are using an API to manage books:\n",
        "\n",
        "| Operation          | HTTP Method | Endpoint       |\n",
        "| ------------------ | ----------- | -------------- |\n",
        "| Get all books      | `GET`       | `/api/books`   |\n",
        "| Get book with ID 1 | `GET`       | `/api/books/1` |\n",
        "| Create a new book  | `POST`      | `/api/books`   |\n",
        "| Update book ID 1   | `PUT`       | `/api/books/1` |\n",
        "| Delete book ID 1   | `DELETE`    | `/api/books/1` |\n",
        "\n",
        "- Example:"
      ],
      "metadata": {
        "id": "iUXken5NaKQ8"
      }
    },
    {
      "cell_type": "code",
      "execution_count": 2,
      "metadata": {
        "id": "2moyoI8GuRQZ",
        "colab": {
          "base_uri": "https://localhost:8080/"
        },
        "outputId": "192677ec-675e-4f3e-9b52-fc79c715806d"
      },
      "outputs": [
        {
          "output_type": "execute_result",
          "data": {
            "text/plain": [
              "{'id': 1, 'title': 'Clean Code', 'author': 'Robert C. Martin'}"
            ]
          },
          "metadata": {},
          "execution_count": 2
        }
      ],
      "source": [
        "#GET /api/books/1\n",
        "\n",
        "#Response:\n",
        "{\n",
        "  \"id\": 1,\n",
        "  \"title\": \"Clean Code\",\n",
        "  \"author\": \"Robert C. Martin\"\n",
        "}\n"
      ]
    },
    {
      "cell_type": "markdown",
      "source": [
        "**2. Explain the concept of API specification?**\n",
        "\n",
        "- An API specification is a detailed, formal description of how an API behaves. It defines what endpoints exist, what data they accept and return, what methods are used, and what errors might occur.\n",
        "\n",
        "- In Simple Terms:\n",
        "\n",
        " - An API specification acts like a contract between the client and the server, describing how the client should request data and how the server will respond.\n",
        "\n",
        "- What Does an API Specification Include?\n",
        "\n",
        "| Element                     | Description                                                                |\n",
        "| --------------------------- | -------------------------------------------------------------------------- |\n",
        "| **Endpoints**               | The available URLs or routes (e.g., `/api/users`, `/products/{id}`)        |\n",
        "| **HTTP Methods**            | Which methods are allowed (`GET`, `POST`, `PUT`, `DELETE`, etc.)           |\n",
        "| **Request Parameters**      | Query parameters, path variables, headers, and body content                |\n",
        "| **Request/Response Format** | Structure and data types (usually in JSON or XML)                          |\n",
        "| **Status Codes**            | Expected HTTP status codes (`200 OK`, `404 Not Found`, `500 Server Error`) |\n",
        "| **Authentication**          | Requirements like API keys, tokens, OAuth                                  |\n",
        "| **Error Handling**          | What error messages are returned and in what format                        |\n"
      ],
      "metadata": {
        "id": "xw2syZOfbInG"
      }
    },
    {
      "cell_type": "markdown",
      "source": [
        "**3. What is Flask, and why is it popular for building APIs?**\n",
        "\n",
        "- What is Flask?\n",
        "\n",
        " - Flask is a lightweight Python web framework used to build web applications and RESTful APIs. It’s called a micro-framework because it provides the core tools to build apps but leaves decisions about features like databases, authentication, or validation to you.\n",
        "\n",
        "- Key Features of Flask:\n",
        "\n",
        "| Feature             | Description                                                                      |\n",
        "| ------------------- | -------------------------------------------------------------------------------- |\n",
        "| **Lightweight**     | Minimal by design—only includes what you need to get started                     |\n",
        "| **Flexible**        | You can add your own libraries and tools easily                                  |\n",
        "| **Built-in server** | Comes with a development web server                                              |\n",
        "| **Route-based**     | Lets you create endpoints with decorators (`@app.route`)                         |\n",
        "| **Good for APIs**   | Easy to return JSON responses and build RESTful services                         |\n",
        "| **Huge community**  | Plenty of tutorials, libraries, and extensions (Flask-RESTful, Flask-SQLAlchemy) |\n",
        "\n",
        "- Why Flask is Popular for Building APIs:\n",
        "\n",
        "| Reason                             | Benefit                                                  |\n",
        "| ---------------------------------- | -------------------------------------------------------- |\n",
        "|  **Minimal setup**                | You can create an API with just a few lines of code      |\n",
        "|  **Supports JSON out of the box** | Ideal for RESTful API responses                          |\n",
        "|  **Highly customizable**          | Add only what you need—use SQLAlchemy, Marshmallow, etc. |\n",
        "|  **Great for prototyping**        | Build and test ideas quickly                             |\n",
        "|  **Well-documented**              | Official docs + large community + Flask extensions       |\n",
        "\n",
        "- Example:"
      ],
      "metadata": {
        "id": "dNzbNXsGbqoA"
      }
    },
    {
      "cell_type": "code",
      "source": [
        "from flask import Flask, jsonify\n",
        "\n",
        "app = Flask(__name__)\n",
        "\n",
        "@app.route('/api/hello', methods=['GET'])\n",
        "def hello():\n",
        "    return jsonify({\"message\": \"Hello, World!\"})\n",
        "\n",
        "if __name__ == '__main__':\n",
        "    app.run(debug=True)\n"
      ],
      "metadata": {
        "colab": {
          "base_uri": "https://localhost:8080/"
        },
        "id": "PgUjRA4DcZVr",
        "outputId": "ed5b9fef-00e3-43e3-e996-a392e04ed262"
      },
      "execution_count": 3,
      "outputs": [
        {
          "output_type": "stream",
          "name": "stdout",
          "text": [
            " * Serving Flask app '__main__'\n",
            " * Debug mode: on\n"
          ]
        },
        {
          "output_type": "stream",
          "name": "stderr",
          "text": [
            "INFO:werkzeug:\u001b[31m\u001b[1mWARNING: This is a development server. Do not use it in a production deployment. Use a production WSGI server instead.\u001b[0m\n",
            " * Running on http://127.0.0.1:5000\n",
            "INFO:werkzeug:\u001b[33mPress CTRL+C to quit\u001b[0m\n",
            "INFO:werkzeug: * Restarting with stat\n"
          ]
        }
      ]
    },
    {
      "cell_type": "markdown",
      "source": [
        "**4. What is routing in Flask?**\n",
        "\n",
        "- Routing in Flask is the process of mapping a URL (web address) to a specific Python function that handles the request. This is how Flask knows what code to run when a user visits a particular page or makes an API call.\n",
        "\n",
        "- How It Works:\n",
        "\n",
        " - In Flask, routes are defined using the @app.route() decorator.\n",
        "\n",
        "- In this example:\n",
        "\n",
        " - The URL / is mapped to the home() function.\n",
        "\n",
        " - When someone visits http://localhost:5000/, Flask returns: \"Welcome to the Homepage\".\n",
        "\n",
        "- Example:"
      ],
      "metadata": {
        "id": "SN3JnE_Scx5P"
      }
    },
    {
      "cell_type": "code",
      "source": [
        "from flask import Flask\n",
        "\n",
        "app = Flask(__name__)\n",
        "\n",
        "@app.route('/')\n",
        "def home():\n",
        "    return \"Welcome to the Homepage\"\n",
        "\n",
        "if __name__ == '__main__':\n",
        "    app.run(debug=True)\n"
      ],
      "metadata": {
        "colab": {
          "base_uri": "https://localhost:8080/"
        },
        "id": "CjNled0ldf1T",
        "outputId": "fa169846-3be4-4764-9e77-f1bab18999df"
      },
      "execution_count": 5,
      "outputs": [
        {
          "output_type": "stream",
          "name": "stdout",
          "text": [
            " * Serving Flask app '__main__'\n",
            " * Debug mode: on\n"
          ]
        },
        {
          "output_type": "stream",
          "name": "stderr",
          "text": [
            "INFO:werkzeug:\u001b[31m\u001b[1mWARNING: This is a development server. Do not use it in a production deployment. Use a production WSGI server instead.\u001b[0m\n",
            " * Running on http://127.0.0.1:5000\n",
            "INFO:werkzeug:\u001b[33mPress CTRL+C to quit\u001b[0m\n",
            "INFO:werkzeug: * Restarting with stat\n"
          ]
        }
      ]
    },
    {
      "cell_type": "markdown",
      "source": [
        "**5. How do you create a simple Flask application?**\n",
        "\n",
        "- Creating a basic Flask application involves just a few lines of Python code. Here's a complete step-by-step guide:\n",
        "\n",
        "- Step-by-Step: Create a Simple Flask App\n",
        "\n",
        " - Step 1: Install Flask\n",
        "\n",
        " - If not already installed, install Flask using pip:\n",
        "\n",
        " - pip install flask\n",
        "\n",
        " - Step 2: Create the Flask App File (e.g., app.py)\n",
        "\n",
        " - Step 3: Run the Flask App\n",
        "\n",
        " - In your terminal, navigate to the folder where app.py is saved and run:\n",
        "\n",
        " - python app.py\n",
        "\n",
        " - You’ll see output like:\n",
        "\n",
        " - Running on http://127.0.0.1:5000/ (Press CTRL+C to quit)\n",
        "\n",
        " - Step 4: Open in Browser\n",
        "\n",
        " - Open your browser and visit:\n",
        "\n",
        " - http://127.0.0.1:5000/\n",
        "\n",
        " - You’ll see:\n",
        "\n",
        " - Hello, Flask!\n",
        "\n",
        "- Example:"
      ],
      "metadata": {
        "id": "wsfzgG9OdtCT"
      }
    },
    {
      "cell_type": "code",
      "source": [
        "from flask import Flask\n",
        "\n",
        "app = Flask(__name__)  # Create Flask app instance\n",
        "\n",
        "@app.route('/')         # Define route for home page\n",
        "def home():\n",
        "    return \"Hello, Flask!\"  # Response sent to the browser\n",
        "\n",
        "if __name__ == '__main__':\n",
        "    app.run(debug=True)  # Run the server in debug mode\n"
      ],
      "metadata": {
        "colab": {
          "base_uri": "https://localhost:8080/"
        },
        "id": "jf4w5gRAe21g",
        "outputId": "fc67d411-b71c-4dd1-beb7-b0b01fa42db2"
      },
      "execution_count": 6,
      "outputs": [
        {
          "output_type": "stream",
          "name": "stdout",
          "text": [
            " * Serving Flask app '__main__'\n",
            " * Debug mode: on\n"
          ]
        },
        {
          "output_type": "stream",
          "name": "stderr",
          "text": [
            "INFO:werkzeug:\u001b[31m\u001b[1mWARNING: This is a development server. Do not use it in a production deployment. Use a production WSGI server instead.\u001b[0m\n",
            " * Running on http://127.0.0.1:5000\n",
            "INFO:werkzeug:\u001b[33mPress CTRL+C to quit\u001b[0m\n",
            "INFO:werkzeug: * Restarting with stat\n"
          ]
        }
      ]
    },
    {
      "cell_type": "markdown",
      "source": [
        "**6. What are HTTP methods used in RESTful APIs?**\n",
        "\n",
        "- In RESTful APIs, HTTP methods (also called verbs) define the type of action the client wants to perform on a resource (like users, products, orders, etc.).\n",
        "\n",
        "- The 5 Most Common HTTP Methods:\n",
        "\n",
        "| Method   | Purpose              | Description                                                             |\n",
        "| -------- | -------------------- | ----------------------------------------------------------------------- |\n",
        "| `GET`    | **Read**             | Retrieve data from the server (e.g., get all users or a single product) |\n",
        "| `POST`   | **Create**           | Send data to the server to create a new resource                        |\n",
        "| `PUT`    | **Update (Full)**    | Replace the entire resource with new data                               |\n",
        "| `PATCH`  | **Update (Partial)** | Modify part of a resource                                               |\n",
        "| `DELETE` | **Delete**           | Remove a resource from the server                                       |\n",
        "\n",
        "- Example: Managing /books Resource\n",
        "\n",
        "| HTTP Method | Endpoint    | Action                                 |\n",
        "| ----------- | ----------- | -------------------------------------- |\n",
        "| `GET`       | `/books`    | Get a list of all books                |\n",
        "| `GET`       | `/books/10` | Get details of book with ID = 10       |\n",
        "| `POST`      | `/books`    | Add a new book                         |\n",
        "| `PUT`       | `/books/10` | Replace book with ID = 10              |\n",
        "| `PATCH`     | `/books/10` | Update fields (e.g., title) of book 10 |\n",
        "| `DELETE`    | `/books/10` | Delete book with ID = 10               |\n",
        "\n",
        "- Example:"
      ],
      "metadata": {
        "id": "rs0605XZfHzM"
      }
    },
    {
      "cell_type": "code",
      "source": [
        "from flask import Flask, request, jsonify\n",
        "\n",
        "app = Flask(__name__)\n",
        "\n",
        "# Simulated in-memory \"database\"\n",
        "books = [\n",
        "    {\"id\": 1, \"title\": \"1984\", \"author\": \"George Orwell\"},\n",
        "    {\"id\": 2, \"title\": \"The Alchemist\", \"author\": \"Paulo Coelho\"}\n",
        "]\n",
        "\n",
        "# GET: Retrieve a book by ID\n",
        "@app.route('/books/<int:id>', methods=['GET'])\n",
        "def get_book(id):\n",
        "    for book in books:\n",
        "        if book['id'] == id:\n",
        "            return jsonify(book)\n",
        "    return jsonify({\"error\": \"Book not found\"}), 404\n",
        "\n",
        "# POST: Add a new book\n",
        "@app.route('/books', methods=['POST'])\n",
        "def create_book():\n",
        "    data = request.get_json()\n",
        "    new_book = {\n",
        "        \"id\": len(books) + 1,\n",
        "        \"title\": data['title'],\n",
        "        \"author\": data['author']\n",
        "    }\n",
        "    books.append(new_book)\n",
        "    return jsonify(new_book), 201\n",
        "\n",
        "# PUT: Update a book fully\n",
        "@app.route('/books/<int:id>', methods=['PUT'])\n",
        "def update_book(id):\n",
        "    data = request.get_json()\n",
        "    for book in books:\n",
        "        if book['id'] == id:\n",
        "            book['title'] = data['title']\n",
        "            book['author'] = data['author']\n",
        "            return jsonify(book)\n",
        "    return jsonify({\"error\": \"Book not found\"}), 404\n",
        "\n",
        "# DELETE: Remove a book by ID\n",
        "@app.route('/books/<int:id>', methods=['DELETE'])\n",
        "def delete_book(id):\n",
        "    for book in books:\n",
        "        if book['id'] == id:\n",
        "            books.remove(book)\n",
        "            return jsonify({\"message\": \"Book deleted\"})\n",
        "    return jsonify({\"error\": \"Book not found\"}), 404\n",
        "\n",
        "# Home route (optional)\n",
        "@app.route('/')\n",
        "def home():\n",
        "    return \"Book API is running!\"\n",
        "\n",
        "if __name__ == '__main__':\n",
        "    app.run(debug=True)\n"
      ],
      "metadata": {
        "colab": {
          "base_uri": "https://localhost:8080/"
        },
        "id": "UViYfzsOfwNR",
        "outputId": "c12529b1-4f8b-44ab-9e14-492514b5ff89"
      },
      "execution_count": 8,
      "outputs": [
        {
          "output_type": "stream",
          "name": "stdout",
          "text": [
            " * Serving Flask app '__main__'\n",
            " * Debug mode: on\n"
          ]
        },
        {
          "output_type": "stream",
          "name": "stderr",
          "text": [
            "INFO:werkzeug:\u001b[31m\u001b[1mWARNING: This is a development server. Do not use it in a production deployment. Use a production WSGI server instead.\u001b[0m\n",
            " * Running on http://127.0.0.1:5000\n",
            "INFO:werkzeug:\u001b[33mPress CTRL+C to quit\u001b[0m\n",
            "INFO:werkzeug: * Restarting with stat\n",
            "ERROR:root:Unexpected exception finding object shape\n",
            "Traceback (most recent call last):\n",
            "  File \"/usr/local/lib/python3.11/dist-packages/google/colab/_debugpy_repr.py\", line 54, in get_shape\n",
            "    shape = getattr(obj, 'shape', None)\n",
            "            ^^^^^^^^^^^^^^^^^^^^^^^^^^^\n",
            "  File \"/usr/local/lib/python3.11/dist-packages/werkzeug/local.py\", line 318, in __get__\n",
            "    obj = instance._get_current_object()\n",
            "          ^^^^^^^^^^^^^^^^^^^^^^^^^^^^^^\n",
            "  File \"/usr/local/lib/python3.11/dist-packages/werkzeug/local.py\", line 519, in _get_current_object\n",
            "    raise RuntimeError(unbound_message) from None\n",
            "RuntimeError: Working outside of request context.\n",
            "\n",
            "This typically means that you attempted to use functionality that needed\n",
            "an active HTTP request. Consult the documentation on testing for\n",
            "information about how to avoid this problem.\n",
            "ERROR:root:Unexpected exception finding object shape\n",
            "Traceback (most recent call last):\n",
            "  File \"/usr/local/lib/python3.11/dist-packages/google/colab/_debugpy_repr.py\", line 54, in get_shape\n",
            "    shape = getattr(obj, 'shape', None)\n",
            "            ^^^^^^^^^^^^^^^^^^^^^^^^^^^\n",
            "  File \"/usr/local/lib/python3.11/dist-packages/werkzeug/local.py\", line 318, in __get__\n",
            "    obj = instance._get_current_object()\n",
            "          ^^^^^^^^^^^^^^^^^^^^^^^^^^^^^^\n",
            "  File \"/usr/local/lib/python3.11/dist-packages/werkzeug/local.py\", line 519, in _get_current_object\n",
            "    raise RuntimeError(unbound_message) from None\n",
            "RuntimeError: Working outside of request context.\n",
            "\n",
            "This typically means that you attempted to use functionality that needed\n",
            "an active HTTP request. Consult the documentation on testing for\n",
            "information about how to avoid this problem.\n",
            "ERROR:root:Unexpected exception finding object shape\n",
            "Traceback (most recent call last):\n",
            "  File \"/usr/local/lib/python3.11/dist-packages/google/colab/_debugpy_repr.py\", line 54, in get_shape\n",
            "    shape = getattr(obj, 'shape', None)\n",
            "            ^^^^^^^^^^^^^^^^^^^^^^^^^^^\n",
            "  File \"/usr/local/lib/python3.11/dist-packages/werkzeug/local.py\", line 318, in __get__\n",
            "    obj = instance._get_current_object()\n",
            "          ^^^^^^^^^^^^^^^^^^^^^^^^^^^^^^\n",
            "  File \"/usr/local/lib/python3.11/dist-packages/werkzeug/local.py\", line 519, in _get_current_object\n",
            "    raise RuntimeError(unbound_message) from None\n",
            "RuntimeError: Working outside of request context.\n",
            "\n",
            "This typically means that you attempted to use functionality that needed\n",
            "an active HTTP request. Consult the documentation on testing for\n",
            "information about how to avoid this problem.\n",
            "ERROR:root:Unexpected exception finding object shape\n",
            "Traceback (most recent call last):\n",
            "  File \"/usr/local/lib/python3.11/dist-packages/google/colab/_debugpy_repr.py\", line 54, in get_shape\n",
            "    shape = getattr(obj, 'shape', None)\n",
            "            ^^^^^^^^^^^^^^^^^^^^^^^^^^^\n",
            "  File \"/usr/local/lib/python3.11/dist-packages/werkzeug/local.py\", line 318, in __get__\n",
            "    obj = instance._get_current_object()\n",
            "          ^^^^^^^^^^^^^^^^^^^^^^^^^^^^^^\n",
            "  File \"/usr/local/lib/python3.11/dist-packages/werkzeug/local.py\", line 519, in _get_current_object\n",
            "    raise RuntimeError(unbound_message) from None\n",
            "RuntimeError: Working outside of request context.\n",
            "\n",
            "This typically means that you attempted to use functionality that needed\n",
            "an active HTTP request. Consult the documentation on testing for\n",
            "information about how to avoid this problem.\n",
            "ERROR:root:Unexpected exception finding object shape\n",
            "Traceback (most recent call last):\n",
            "  File \"/usr/local/lib/python3.11/dist-packages/google/colab/_debugpy_repr.py\", line 54, in get_shape\n",
            "    shape = getattr(obj, 'shape', None)\n",
            "            ^^^^^^^^^^^^^^^^^^^^^^^^^^^\n",
            "  File \"/usr/local/lib/python3.11/dist-packages/werkzeug/local.py\", line 318, in __get__\n",
            "    obj = instance._get_current_object()\n",
            "          ^^^^^^^^^^^^^^^^^^^^^^^^^^^^^^\n",
            "  File \"/usr/local/lib/python3.11/dist-packages/werkzeug/local.py\", line 519, in _get_current_object\n",
            "    raise RuntimeError(unbound_message) from None\n",
            "RuntimeError: Working outside of request context.\n",
            "\n",
            "This typically means that you attempted to use functionality that needed\n",
            "an active HTTP request. Consult the documentation on testing for\n",
            "information about how to avoid this problem.\n",
            "ERROR:root:Unexpected exception finding object shape\n",
            "Traceback (most recent call last):\n",
            "  File \"/usr/local/lib/python3.11/dist-packages/google/colab/_debugpy_repr.py\", line 54, in get_shape\n",
            "    shape = getattr(obj, 'shape', None)\n",
            "            ^^^^^^^^^^^^^^^^^^^^^^^^^^^\n",
            "  File \"/usr/local/lib/python3.11/dist-packages/werkzeug/local.py\", line 318, in __get__\n",
            "    obj = instance._get_current_object()\n",
            "          ^^^^^^^^^^^^^^^^^^^^^^^^^^^^^^\n",
            "  File \"/usr/local/lib/python3.11/dist-packages/werkzeug/local.py\", line 519, in _get_current_object\n",
            "    raise RuntimeError(unbound_message) from None\n",
            "RuntimeError: Working outside of request context.\n",
            "\n",
            "This typically means that you attempted to use functionality that needed\n",
            "an active HTTP request. Consult the documentation on testing for\n",
            "information about how to avoid this problem.\n",
            "ERROR:root:Unexpected exception finding object shape\n",
            "Traceback (most recent call last):\n",
            "  File \"/usr/local/lib/python3.11/dist-packages/google/colab/_debugpy_repr.py\", line 54, in get_shape\n",
            "    shape = getattr(obj, 'shape', None)\n",
            "            ^^^^^^^^^^^^^^^^^^^^^^^^^^^\n",
            "  File \"/usr/local/lib/python3.11/dist-packages/werkzeug/local.py\", line 318, in __get__\n",
            "    obj = instance._get_current_object()\n",
            "          ^^^^^^^^^^^^^^^^^^^^^^^^^^^^^^\n",
            "  File \"/usr/local/lib/python3.11/dist-packages/werkzeug/local.py\", line 519, in _get_current_object\n",
            "    raise RuntimeError(unbound_message) from None\n",
            "RuntimeError: Working outside of request context.\n",
            "\n",
            "This typically means that you attempted to use functionality that needed\n",
            "an active HTTP request. Consult the documentation on testing for\n",
            "information about how to avoid this problem.\n",
            "ERROR:root:Unexpected exception finding object shape\n",
            "Traceback (most recent call last):\n",
            "  File \"/usr/local/lib/python3.11/dist-packages/google/colab/_debugpy_repr.py\", line 54, in get_shape\n",
            "    shape = getattr(obj, 'shape', None)\n",
            "            ^^^^^^^^^^^^^^^^^^^^^^^^^^^\n",
            "  File \"/usr/local/lib/python3.11/dist-packages/werkzeug/local.py\", line 318, in __get__\n",
            "    obj = instance._get_current_object()\n",
            "          ^^^^^^^^^^^^^^^^^^^^^^^^^^^^^^\n",
            "  File \"/usr/local/lib/python3.11/dist-packages/werkzeug/local.py\", line 519, in _get_current_object\n",
            "    raise RuntimeError(unbound_message) from None\n",
            "RuntimeError: Working outside of request context.\n",
            "\n",
            "This typically means that you attempted to use functionality that needed\n",
            "an active HTTP request. Consult the documentation on testing for\n",
            "information about how to avoid this problem.\n",
            "ERROR:root:Unexpected exception finding object shape\n",
            "Traceback (most recent call last):\n",
            "  File \"/usr/local/lib/python3.11/dist-packages/google/colab/_debugpy_repr.py\", line 54, in get_shape\n",
            "    shape = getattr(obj, 'shape', None)\n",
            "            ^^^^^^^^^^^^^^^^^^^^^^^^^^^\n",
            "  File \"/usr/local/lib/python3.11/dist-packages/werkzeug/local.py\", line 318, in __get__\n",
            "    obj = instance._get_current_object()\n",
            "          ^^^^^^^^^^^^^^^^^^^^^^^^^^^^^^\n",
            "  File \"/usr/local/lib/python3.11/dist-packages/werkzeug/local.py\", line 519, in _get_current_object\n",
            "    raise RuntimeError(unbound_message) from None\n",
            "RuntimeError: Working outside of request context.\n",
            "\n",
            "This typically means that you attempted to use functionality that needed\n",
            "an active HTTP request. Consult the documentation on testing for\n",
            "information about how to avoid this problem.\n",
            "ERROR:root:Unexpected exception finding object shape\n",
            "Traceback (most recent call last):\n",
            "  File \"/usr/local/lib/python3.11/dist-packages/google/colab/_debugpy_repr.py\", line 54, in get_shape\n",
            "    shape = getattr(obj, 'shape', None)\n",
            "            ^^^^^^^^^^^^^^^^^^^^^^^^^^^\n",
            "  File \"/usr/local/lib/python3.11/dist-packages/werkzeug/local.py\", line 318, in __get__\n",
            "    obj = instance._get_current_object()\n",
            "          ^^^^^^^^^^^^^^^^^^^^^^^^^^^^^^\n",
            "  File \"/usr/local/lib/python3.11/dist-packages/werkzeug/local.py\", line 519, in _get_current_object\n",
            "    raise RuntimeError(unbound_message) from None\n",
            "RuntimeError: Working outside of request context.\n",
            "\n",
            "This typically means that you attempted to use functionality that needed\n",
            "an active HTTP request. Consult the documentation on testing for\n",
            "information about how to avoid this problem.\n",
            "ERROR:root:Unexpected exception finding object shape\n",
            "Traceback (most recent call last):\n",
            "  File \"/usr/local/lib/python3.11/dist-packages/google/colab/_debugpy_repr.py\", line 54, in get_shape\n",
            "    shape = getattr(obj, 'shape', None)\n",
            "            ^^^^^^^^^^^^^^^^^^^^^^^^^^^\n",
            "  File \"/usr/local/lib/python3.11/dist-packages/werkzeug/local.py\", line 318, in __get__\n",
            "    obj = instance._get_current_object()\n",
            "          ^^^^^^^^^^^^^^^^^^^^^^^^^^^^^^\n",
            "  File \"/usr/local/lib/python3.11/dist-packages/werkzeug/local.py\", line 519, in _get_current_object\n",
            "    raise RuntimeError(unbound_message) from None\n",
            "RuntimeError: Working outside of request context.\n",
            "\n",
            "This typically means that you attempted to use functionality that needed\n",
            "an active HTTP request. Consult the documentation on testing for\n",
            "information about how to avoid this problem.\n",
            "ERROR:root:Unexpected exception finding object shape\n",
            "Traceback (most recent call last):\n",
            "  File \"/usr/local/lib/python3.11/dist-packages/google/colab/_debugpy_repr.py\", line 54, in get_shape\n",
            "    shape = getattr(obj, 'shape', None)\n",
            "            ^^^^^^^^^^^^^^^^^^^^^^^^^^^\n",
            "  File \"/usr/local/lib/python3.11/dist-packages/werkzeug/local.py\", line 318, in __get__\n",
            "    obj = instance._get_current_object()\n",
            "          ^^^^^^^^^^^^^^^^^^^^^^^^^^^^^^\n",
            "  File \"/usr/local/lib/python3.11/dist-packages/werkzeug/local.py\", line 519, in _get_current_object\n",
            "    raise RuntimeError(unbound_message) from None\n",
            "RuntimeError: Working outside of request context.\n",
            "\n",
            "This typically means that you attempted to use functionality that needed\n",
            "an active HTTP request. Consult the documentation on testing for\n",
            "information about how to avoid this problem.\n",
            "ERROR:root:Unexpected exception finding object shape\n",
            "Traceback (most recent call last):\n",
            "  File \"/usr/local/lib/python3.11/dist-packages/google/colab/_debugpy_repr.py\", line 54, in get_shape\n",
            "    shape = getattr(obj, 'shape', None)\n",
            "            ^^^^^^^^^^^^^^^^^^^^^^^^^^^\n",
            "  File \"/usr/local/lib/python3.11/dist-packages/werkzeug/local.py\", line 318, in __get__\n",
            "    obj = instance._get_current_object()\n",
            "          ^^^^^^^^^^^^^^^^^^^^^^^^^^^^^^\n",
            "  File \"/usr/local/lib/python3.11/dist-packages/werkzeug/local.py\", line 519, in _get_current_object\n",
            "    raise RuntimeError(unbound_message) from None\n",
            "RuntimeError: Working outside of request context.\n",
            "\n",
            "This typically means that you attempted to use functionality that needed\n",
            "an active HTTP request. Consult the documentation on testing for\n",
            "information about how to avoid this problem.\n",
            "ERROR:root:Unexpected exception finding object shape\n",
            "Traceback (most recent call last):\n",
            "  File \"/usr/local/lib/python3.11/dist-packages/google/colab/_debugpy_repr.py\", line 54, in get_shape\n",
            "    shape = getattr(obj, 'shape', None)\n",
            "            ^^^^^^^^^^^^^^^^^^^^^^^^^^^\n",
            "  File \"/usr/local/lib/python3.11/dist-packages/werkzeug/local.py\", line 318, in __get__\n",
            "    obj = instance._get_current_object()\n",
            "          ^^^^^^^^^^^^^^^^^^^^^^^^^^^^^^\n",
            "  File \"/usr/local/lib/python3.11/dist-packages/werkzeug/local.py\", line 519, in _get_current_object\n",
            "    raise RuntimeError(unbound_message) from None\n",
            "RuntimeError: Working outside of request context.\n",
            "\n",
            "This typically means that you attempted to use functionality that needed\n",
            "an active HTTP request. Consult the documentation on testing for\n",
            "information about how to avoid this problem.\n",
            "ERROR:root:Unexpected exception finding object shape\n",
            "Traceback (most recent call last):\n",
            "  File \"/usr/local/lib/python3.11/dist-packages/google/colab/_debugpy_repr.py\", line 54, in get_shape\n",
            "    shape = getattr(obj, 'shape', None)\n",
            "            ^^^^^^^^^^^^^^^^^^^^^^^^^^^\n",
            "  File \"/usr/local/lib/python3.11/dist-packages/werkzeug/local.py\", line 318, in __get__\n",
            "    obj = instance._get_current_object()\n",
            "          ^^^^^^^^^^^^^^^^^^^^^^^^^^^^^^\n",
            "  File \"/usr/local/lib/python3.11/dist-packages/werkzeug/local.py\", line 519, in _get_current_object\n",
            "    raise RuntimeError(unbound_message) from None\n",
            "RuntimeError: Working outside of request context.\n",
            "\n",
            "This typically means that you attempted to use functionality that needed\n",
            "an active HTTP request. Consult the documentation on testing for\n",
            "information about how to avoid this problem.\n",
            "ERROR:root:Unexpected exception finding object shape\n",
            "Traceback (most recent call last):\n",
            "  File \"/usr/local/lib/python3.11/dist-packages/google/colab/_debugpy_repr.py\", line 54, in get_shape\n",
            "    shape = getattr(obj, 'shape', None)\n",
            "            ^^^^^^^^^^^^^^^^^^^^^^^^^^^\n",
            "  File \"/usr/local/lib/python3.11/dist-packages/werkzeug/local.py\", line 318, in __get__\n",
            "    obj = instance._get_current_object()\n",
            "          ^^^^^^^^^^^^^^^^^^^^^^^^^^^^^^\n",
            "  File \"/usr/local/lib/python3.11/dist-packages/werkzeug/local.py\", line 519, in _get_current_object\n",
            "    raise RuntimeError(unbound_message) from None\n",
            "RuntimeError: Working outside of request context.\n",
            "\n",
            "This typically means that you attempted to use functionality that needed\n",
            "an active HTTP request. Consult the documentation on testing for\n",
            "information about how to avoid this problem.\n",
            "ERROR:root:Unexpected exception finding object shape\n",
            "Traceback (most recent call last):\n",
            "  File \"/usr/local/lib/python3.11/dist-packages/google/colab/_debugpy_repr.py\", line 54, in get_shape\n",
            "    shape = getattr(obj, 'shape', None)\n",
            "            ^^^^^^^^^^^^^^^^^^^^^^^^^^^\n",
            "  File \"/usr/local/lib/python3.11/dist-packages/werkzeug/local.py\", line 318, in __get__\n",
            "    obj = instance._get_current_object()\n",
            "          ^^^^^^^^^^^^^^^^^^^^^^^^^^^^^^\n",
            "  File \"/usr/local/lib/python3.11/dist-packages/werkzeug/local.py\", line 519, in _get_current_object\n",
            "    raise RuntimeError(unbound_message) from None\n",
            "RuntimeError: Working outside of request context.\n",
            "\n",
            "This typically means that you attempted to use functionality that needed\n",
            "an active HTTP request. Consult the documentation on testing for\n",
            "information about how to avoid this problem.\n",
            "ERROR:root:Unexpected exception finding object shape\n",
            "Traceback (most recent call last):\n",
            "  File \"/usr/local/lib/python3.11/dist-packages/google/colab/_debugpy_repr.py\", line 54, in get_shape\n",
            "    shape = getattr(obj, 'shape', None)\n",
            "            ^^^^^^^^^^^^^^^^^^^^^^^^^^^\n",
            "  File \"/usr/local/lib/python3.11/dist-packages/werkzeug/local.py\", line 318, in __get__\n",
            "    obj = instance._get_current_object()\n",
            "          ^^^^^^^^^^^^^^^^^^^^^^^^^^^^^^\n",
            "  File \"/usr/local/lib/python3.11/dist-packages/werkzeug/local.py\", line 519, in _get_current_object\n",
            "    raise RuntimeError(unbound_message) from None\n",
            "RuntimeError: Working outside of request context.\n",
            "\n",
            "This typically means that you attempted to use functionality that needed\n",
            "an active HTTP request. Consult the documentation on testing for\n",
            "information about how to avoid this problem.\n",
            "ERROR:root:Unexpected exception finding object shape\n",
            "Traceback (most recent call last):\n",
            "  File \"/usr/local/lib/python3.11/dist-packages/google/colab/_debugpy_repr.py\", line 54, in get_shape\n",
            "    shape = getattr(obj, 'shape', None)\n",
            "            ^^^^^^^^^^^^^^^^^^^^^^^^^^^\n",
            "  File \"/usr/local/lib/python3.11/dist-packages/werkzeug/local.py\", line 318, in __get__\n",
            "    obj = instance._get_current_object()\n",
            "          ^^^^^^^^^^^^^^^^^^^^^^^^^^^^^^\n",
            "  File \"/usr/local/lib/python3.11/dist-packages/werkzeug/local.py\", line 519, in _get_current_object\n",
            "    raise RuntimeError(unbound_message) from None\n",
            "RuntimeError: Working outside of request context.\n",
            "\n",
            "This typically means that you attempted to use functionality that needed\n",
            "an active HTTP request. Consult the documentation on testing for\n",
            "information about how to avoid this problem.\n",
            "ERROR:root:Unexpected exception finding object shape\n",
            "Traceback (most recent call last):\n",
            "  File \"/usr/local/lib/python3.11/dist-packages/google/colab/_debugpy_repr.py\", line 54, in get_shape\n",
            "    shape = getattr(obj, 'shape', None)\n",
            "            ^^^^^^^^^^^^^^^^^^^^^^^^^^^\n",
            "  File \"/usr/local/lib/python3.11/dist-packages/werkzeug/local.py\", line 318, in __get__\n",
            "    obj = instance._get_current_object()\n",
            "          ^^^^^^^^^^^^^^^^^^^^^^^^^^^^^^\n",
            "  File \"/usr/local/lib/python3.11/dist-packages/werkzeug/local.py\", line 519, in _get_current_object\n",
            "    raise RuntimeError(unbound_message) from None\n",
            "RuntimeError: Working outside of request context.\n",
            "\n",
            "This typically means that you attempted to use functionality that needed\n",
            "an active HTTP request. Consult the documentation on testing for\n",
            "information about how to avoid this problem.\n",
            "ERROR:root:Unexpected exception finding object shape\n",
            "Traceback (most recent call last):\n",
            "  File \"/usr/local/lib/python3.11/dist-packages/google/colab/_debugpy_repr.py\", line 54, in get_shape\n",
            "    shape = getattr(obj, 'shape', None)\n",
            "            ^^^^^^^^^^^^^^^^^^^^^^^^^^^\n",
            "  File \"/usr/local/lib/python3.11/dist-packages/werkzeug/local.py\", line 318, in __get__\n",
            "    obj = instance._get_current_object()\n",
            "          ^^^^^^^^^^^^^^^^^^^^^^^^^^^^^^\n",
            "  File \"/usr/local/lib/python3.11/dist-packages/werkzeug/local.py\", line 519, in _get_current_object\n",
            "    raise RuntimeError(unbound_message) from None\n",
            "RuntimeError: Working outside of request context.\n",
            "\n",
            "This typically means that you attempted to use functionality that needed\n",
            "an active HTTP request. Consult the documentation on testing for\n",
            "information about how to avoid this problem.\n",
            "ERROR:root:Unexpected exception finding object shape\n",
            "Traceback (most recent call last):\n",
            "  File \"/usr/local/lib/python3.11/dist-packages/google/colab/_debugpy_repr.py\", line 54, in get_shape\n",
            "    shape = getattr(obj, 'shape', None)\n",
            "            ^^^^^^^^^^^^^^^^^^^^^^^^^^^\n",
            "  File \"/usr/local/lib/python3.11/dist-packages/werkzeug/local.py\", line 318, in __get__\n",
            "    obj = instance._get_current_object()\n",
            "          ^^^^^^^^^^^^^^^^^^^^^^^^^^^^^^\n",
            "  File \"/usr/local/lib/python3.11/dist-packages/werkzeug/local.py\", line 519, in _get_current_object\n",
            "    raise RuntimeError(unbound_message) from None\n",
            "RuntimeError: Working outside of request context.\n",
            "\n",
            "This typically means that you attempted to use functionality that needed\n",
            "an active HTTP request. Consult the documentation on testing for\n",
            "information about how to avoid this problem.\n",
            "ERROR:root:Unexpected exception finding object shape\n",
            "Traceback (most recent call last):\n",
            "  File \"/usr/local/lib/python3.11/dist-packages/google/colab/_debugpy_repr.py\", line 54, in get_shape\n",
            "    shape = getattr(obj, 'shape', None)\n",
            "            ^^^^^^^^^^^^^^^^^^^^^^^^^^^\n",
            "  File \"/usr/local/lib/python3.11/dist-packages/werkzeug/local.py\", line 318, in __get__\n",
            "    obj = instance._get_current_object()\n",
            "          ^^^^^^^^^^^^^^^^^^^^^^^^^^^^^^\n",
            "  File \"/usr/local/lib/python3.11/dist-packages/werkzeug/local.py\", line 519, in _get_current_object\n",
            "    raise RuntimeError(unbound_message) from None\n",
            "RuntimeError: Working outside of request context.\n",
            "\n",
            "This typically means that you attempted to use functionality that needed\n",
            "an active HTTP request. Consult the documentation on testing for\n",
            "information about how to avoid this problem.\n",
            "ERROR:root:Unexpected exception finding object shape\n",
            "Traceback (most recent call last):\n",
            "  File \"/usr/local/lib/python3.11/dist-packages/google/colab/_debugpy_repr.py\", line 54, in get_shape\n",
            "    shape = getattr(obj, 'shape', None)\n",
            "            ^^^^^^^^^^^^^^^^^^^^^^^^^^^\n",
            "  File \"/usr/local/lib/python3.11/dist-packages/werkzeug/local.py\", line 318, in __get__\n",
            "    obj = instance._get_current_object()\n",
            "          ^^^^^^^^^^^^^^^^^^^^^^^^^^^^^^\n",
            "  File \"/usr/local/lib/python3.11/dist-packages/werkzeug/local.py\", line 519, in _get_current_object\n",
            "    raise RuntimeError(unbound_message) from None\n",
            "RuntimeError: Working outside of request context.\n",
            "\n",
            "This typically means that you attempted to use functionality that needed\n",
            "an active HTTP request. Consult the documentation on testing for\n",
            "information about how to avoid this problem.\n",
            "ERROR:root:Unexpected exception finding object shape\n",
            "Traceback (most recent call last):\n",
            "  File \"/usr/local/lib/python3.11/dist-packages/google/colab/_debugpy_repr.py\", line 54, in get_shape\n",
            "    shape = getattr(obj, 'shape', None)\n",
            "            ^^^^^^^^^^^^^^^^^^^^^^^^^^^\n",
            "  File \"/usr/local/lib/python3.11/dist-packages/werkzeug/local.py\", line 318, in __get__\n",
            "    obj = instance._get_current_object()\n",
            "          ^^^^^^^^^^^^^^^^^^^^^^^^^^^^^^\n",
            "  File \"/usr/local/lib/python3.11/dist-packages/werkzeug/local.py\", line 519, in _get_current_object\n",
            "    raise RuntimeError(unbound_message) from None\n",
            "RuntimeError: Working outside of request context.\n",
            "\n",
            "This typically means that you attempted to use functionality that needed\n",
            "an active HTTP request. Consult the documentation on testing for\n",
            "information about how to avoid this problem.\n",
            "ERROR:root:Unexpected exception finding object shape\n",
            "Traceback (most recent call last):\n",
            "  File \"/usr/local/lib/python3.11/dist-packages/google/colab/_debugpy_repr.py\", line 54, in get_shape\n",
            "    shape = getattr(obj, 'shape', None)\n",
            "            ^^^^^^^^^^^^^^^^^^^^^^^^^^^\n",
            "  File \"/usr/local/lib/python3.11/dist-packages/werkzeug/local.py\", line 318, in __get__\n",
            "    obj = instance._get_current_object()\n",
            "          ^^^^^^^^^^^^^^^^^^^^^^^^^^^^^^\n",
            "  File \"/usr/local/lib/python3.11/dist-packages/werkzeug/local.py\", line 519, in _get_current_object\n",
            "    raise RuntimeError(unbound_message) from None\n",
            "RuntimeError: Working outside of request context.\n",
            "\n",
            "This typically means that you attempted to use functionality that needed\n",
            "an active HTTP request. Consult the documentation on testing for\n",
            "information about how to avoid this problem.\n",
            "ERROR:root:Unexpected exception finding object shape\n",
            "Traceback (most recent call last):\n",
            "  File \"/usr/local/lib/python3.11/dist-packages/google/colab/_debugpy_repr.py\", line 54, in get_shape\n",
            "    shape = getattr(obj, 'shape', None)\n",
            "            ^^^^^^^^^^^^^^^^^^^^^^^^^^^\n",
            "  File \"/usr/local/lib/python3.11/dist-packages/werkzeug/local.py\", line 318, in __get__\n",
            "    obj = instance._get_current_object()\n",
            "          ^^^^^^^^^^^^^^^^^^^^^^^^^^^^^^\n",
            "  File \"/usr/local/lib/python3.11/dist-packages/werkzeug/local.py\", line 519, in _get_current_object\n",
            "    raise RuntimeError(unbound_message) from None\n",
            "RuntimeError: Working outside of request context.\n",
            "\n",
            "This typically means that you attempted to use functionality that needed\n",
            "an active HTTP request. Consult the documentation on testing for\n",
            "information about how to avoid this problem.\n",
            "ERROR:root:Unexpected exception finding object shape\n",
            "Traceback (most recent call last):\n",
            "  File \"/usr/local/lib/python3.11/dist-packages/google/colab/_debugpy_repr.py\", line 54, in get_shape\n",
            "    shape = getattr(obj, 'shape', None)\n",
            "            ^^^^^^^^^^^^^^^^^^^^^^^^^^^\n",
            "  File \"/usr/local/lib/python3.11/dist-packages/werkzeug/local.py\", line 318, in __get__\n",
            "    obj = instance._get_current_object()\n",
            "          ^^^^^^^^^^^^^^^^^^^^^^^^^^^^^^\n",
            "  File \"/usr/local/lib/python3.11/dist-packages/werkzeug/local.py\", line 519, in _get_current_object\n",
            "    raise RuntimeError(unbound_message) from None\n",
            "RuntimeError: Working outside of request context.\n",
            "\n",
            "This typically means that you attempted to use functionality that needed\n",
            "an active HTTP request. Consult the documentation on testing for\n",
            "information about how to avoid this problem.\n",
            "ERROR:root:Unexpected exception finding object shape\n",
            "Traceback (most recent call last):\n",
            "  File \"/usr/local/lib/python3.11/dist-packages/google/colab/_debugpy_repr.py\", line 54, in get_shape\n",
            "    shape = getattr(obj, 'shape', None)\n",
            "            ^^^^^^^^^^^^^^^^^^^^^^^^^^^\n",
            "  File \"/usr/local/lib/python3.11/dist-packages/werkzeug/local.py\", line 318, in __get__\n",
            "    obj = instance._get_current_object()\n",
            "          ^^^^^^^^^^^^^^^^^^^^^^^^^^^^^^\n",
            "  File \"/usr/local/lib/python3.11/dist-packages/werkzeug/local.py\", line 519, in _get_current_object\n",
            "    raise RuntimeError(unbound_message) from None\n",
            "RuntimeError: Working outside of request context.\n",
            "\n",
            "This typically means that you attempted to use functionality that needed\n",
            "an active HTTP request. Consult the documentation on testing for\n",
            "information about how to avoid this problem.\n"
          ]
        }
      ]
    },
    {
      "cell_type": "markdown",
      "source": [
        "**7. What is the purpose of the @app.route() decorator in Flask?**\n",
        "\n",
        "- Definition:\n",
        "\n",
        " - The @app.route() decorator in Flask is used to associate a specific URL path (route) with a Python function. When a request is made to that URL, Flask executes the associated function and returns its response.\n",
        "\n",
        "- Key Purposes of @app.route():\n",
        "\n",
        "| Purpose                        | Explanation                                                           |\n",
        "| ------------------------------ | --------------------------------------------------------------------- |\n",
        "|  URL mapping                  | Binds a URL to a function                                             |\n",
        "|  Organizes endpoints          | Makes it easy to handle multiple routes like `/about`, `/users`, etc. |\n",
        "|  Supports route parameters    | Handles dynamic values like `/user/<username>`                        |\n",
        "|  Supports HTTP method filters | Allows methods like `GET`, `POST`, `DELETE`, etc. via `methods=[...]` |\n",
        "\n",
        "- Example:"
      ],
      "metadata": {
        "id": "2UVDOYaugOVZ"
      }
    },
    {
      "cell_type": "code",
      "source": [
        "from flask import Flask\n",
        "app = Flask(__name__)\n",
        "\n",
        "@app.route('/')\n",
        "def home():\n",
        "    return \"Welcome to the Homepage\"\n",
        "\n",
        "if __name__ == '__main__':\n",
        "    app.run(debug=True)\n"
      ],
      "metadata": {
        "colab": {
          "base_uri": "https://localhost:8080/"
        },
        "id": "ipfvvuBHgwdD",
        "outputId": "3bcabb12-8e25-46ac-b3c0-35738e43e38f"
      },
      "execution_count": 9,
      "outputs": [
        {
          "output_type": "stream",
          "name": "stdout",
          "text": [
            " * Serving Flask app '__main__'\n",
            " * Debug mode: on\n"
          ]
        },
        {
          "output_type": "stream",
          "name": "stderr",
          "text": [
            "INFO:werkzeug:\u001b[31m\u001b[1mWARNING: This is a development server. Do not use it in a production deployment. Use a production WSGI server instead.\u001b[0m\n",
            " * Running on http://127.0.0.1:5000\n",
            "INFO:werkzeug:\u001b[33mPress CTRL+C to quit\u001b[0m\n",
            "INFO:werkzeug: * Restarting with stat\n",
            "ERROR:root:Unexpected exception finding object shape\n",
            "Traceback (most recent call last):\n",
            "  File \"/usr/local/lib/python3.11/dist-packages/google/colab/_debugpy_repr.py\", line 54, in get_shape\n",
            "    shape = getattr(obj, 'shape', None)\n",
            "            ^^^^^^^^^^^^^^^^^^^^^^^^^^^\n",
            "  File \"/usr/local/lib/python3.11/dist-packages/werkzeug/local.py\", line 318, in __get__\n",
            "    obj = instance._get_current_object()\n",
            "          ^^^^^^^^^^^^^^^^^^^^^^^^^^^^^^\n",
            "  File \"/usr/local/lib/python3.11/dist-packages/werkzeug/local.py\", line 519, in _get_current_object\n",
            "    raise RuntimeError(unbound_message) from None\n",
            "RuntimeError: Working outside of request context.\n",
            "\n",
            "This typically means that you attempted to use functionality that needed\n",
            "an active HTTP request. Consult the documentation on testing for\n",
            "information about how to avoid this problem.\n",
            "ERROR:root:Unexpected exception finding object shape\n",
            "Traceback (most recent call last):\n",
            "  File \"/usr/local/lib/python3.11/dist-packages/google/colab/_debugpy_repr.py\", line 54, in get_shape\n",
            "    shape = getattr(obj, 'shape', None)\n",
            "            ^^^^^^^^^^^^^^^^^^^^^^^^^^^\n",
            "  File \"/usr/local/lib/python3.11/dist-packages/werkzeug/local.py\", line 318, in __get__\n",
            "    obj = instance._get_current_object()\n",
            "          ^^^^^^^^^^^^^^^^^^^^^^^^^^^^^^\n",
            "  File \"/usr/local/lib/python3.11/dist-packages/werkzeug/local.py\", line 519, in _get_current_object\n",
            "    raise RuntimeError(unbound_message) from None\n",
            "RuntimeError: Working outside of request context.\n",
            "\n",
            "This typically means that you attempted to use functionality that needed\n",
            "an active HTTP request. Consult the documentation on testing for\n",
            "information about how to avoid this problem.\n",
            "ERROR:root:Unexpected exception finding object shape\n",
            "Traceback (most recent call last):\n",
            "  File \"/usr/local/lib/python3.11/dist-packages/google/colab/_debugpy_repr.py\", line 54, in get_shape\n",
            "    shape = getattr(obj, 'shape', None)\n",
            "            ^^^^^^^^^^^^^^^^^^^^^^^^^^^\n",
            "  File \"/usr/local/lib/python3.11/dist-packages/werkzeug/local.py\", line 318, in __get__\n",
            "    obj = instance._get_current_object()\n",
            "          ^^^^^^^^^^^^^^^^^^^^^^^^^^^^^^\n",
            "  File \"/usr/local/lib/python3.11/dist-packages/werkzeug/local.py\", line 519, in _get_current_object\n",
            "    raise RuntimeError(unbound_message) from None\n",
            "RuntimeError: Working outside of request context.\n",
            "\n",
            "This typically means that you attempted to use functionality that needed\n",
            "an active HTTP request. Consult the documentation on testing for\n",
            "information about how to avoid this problem.\n",
            "ERROR:root:Unexpected exception finding object shape\n",
            "Traceback (most recent call last):\n",
            "  File \"/usr/local/lib/python3.11/dist-packages/google/colab/_debugpy_repr.py\", line 54, in get_shape\n",
            "    shape = getattr(obj, 'shape', None)\n",
            "            ^^^^^^^^^^^^^^^^^^^^^^^^^^^\n",
            "  File \"/usr/local/lib/python3.11/dist-packages/werkzeug/local.py\", line 318, in __get__\n",
            "    obj = instance._get_current_object()\n",
            "          ^^^^^^^^^^^^^^^^^^^^^^^^^^^^^^\n",
            "  File \"/usr/local/lib/python3.11/dist-packages/werkzeug/local.py\", line 519, in _get_current_object\n",
            "    raise RuntimeError(unbound_message) from None\n",
            "RuntimeError: Working outside of request context.\n",
            "\n",
            "This typically means that you attempted to use functionality that needed\n",
            "an active HTTP request. Consult the documentation on testing for\n",
            "information about how to avoid this problem.\n",
            "ERROR:root:Unexpected exception finding object shape\n",
            "Traceback (most recent call last):\n",
            "  File \"/usr/local/lib/python3.11/dist-packages/google/colab/_debugpy_repr.py\", line 54, in get_shape\n",
            "    shape = getattr(obj, 'shape', None)\n",
            "            ^^^^^^^^^^^^^^^^^^^^^^^^^^^\n",
            "  File \"/usr/local/lib/python3.11/dist-packages/werkzeug/local.py\", line 318, in __get__\n",
            "    obj = instance._get_current_object()\n",
            "          ^^^^^^^^^^^^^^^^^^^^^^^^^^^^^^\n",
            "  File \"/usr/local/lib/python3.11/dist-packages/werkzeug/local.py\", line 519, in _get_current_object\n",
            "    raise RuntimeError(unbound_message) from None\n",
            "RuntimeError: Working outside of request context.\n",
            "\n",
            "This typically means that you attempted to use functionality that needed\n",
            "an active HTTP request. Consult the documentation on testing for\n",
            "information about how to avoid this problem.\n",
            "ERROR:root:Unexpected exception finding object shape\n",
            "Traceback (most recent call last):\n",
            "  File \"/usr/local/lib/python3.11/dist-packages/google/colab/_debugpy_repr.py\", line 54, in get_shape\n",
            "    shape = getattr(obj, 'shape', None)\n",
            "            ^^^^^^^^^^^^^^^^^^^^^^^^^^^\n",
            "  File \"/usr/local/lib/python3.11/dist-packages/werkzeug/local.py\", line 318, in __get__\n",
            "    obj = instance._get_current_object()\n",
            "          ^^^^^^^^^^^^^^^^^^^^^^^^^^^^^^\n",
            "  File \"/usr/local/lib/python3.11/dist-packages/werkzeug/local.py\", line 519, in _get_current_object\n",
            "    raise RuntimeError(unbound_message) from None\n",
            "RuntimeError: Working outside of request context.\n",
            "\n",
            "This typically means that you attempted to use functionality that needed\n",
            "an active HTTP request. Consult the documentation on testing for\n",
            "information about how to avoid this problem.\n",
            "ERROR:root:Unexpected exception finding object shape\n",
            "Traceback (most recent call last):\n",
            "  File \"/usr/local/lib/python3.11/dist-packages/google/colab/_debugpy_repr.py\", line 54, in get_shape\n",
            "    shape = getattr(obj, 'shape', None)\n",
            "            ^^^^^^^^^^^^^^^^^^^^^^^^^^^\n",
            "  File \"/usr/local/lib/python3.11/dist-packages/werkzeug/local.py\", line 318, in __get__\n",
            "    obj = instance._get_current_object()\n",
            "          ^^^^^^^^^^^^^^^^^^^^^^^^^^^^^^\n",
            "  File \"/usr/local/lib/python3.11/dist-packages/werkzeug/local.py\", line 519, in _get_current_object\n",
            "    raise RuntimeError(unbound_message) from None\n",
            "RuntimeError: Working outside of request context.\n",
            "\n",
            "This typically means that you attempted to use functionality that needed\n",
            "an active HTTP request. Consult the documentation on testing for\n",
            "information about how to avoid this problem.\n",
            "ERROR:root:Unexpected exception finding object shape\n",
            "Traceback (most recent call last):\n",
            "  File \"/usr/local/lib/python3.11/dist-packages/google/colab/_debugpy_repr.py\", line 54, in get_shape\n",
            "    shape = getattr(obj, 'shape', None)\n",
            "            ^^^^^^^^^^^^^^^^^^^^^^^^^^^\n",
            "  File \"/usr/local/lib/python3.11/dist-packages/werkzeug/local.py\", line 318, in __get__\n",
            "    obj = instance._get_current_object()\n",
            "          ^^^^^^^^^^^^^^^^^^^^^^^^^^^^^^\n",
            "  File \"/usr/local/lib/python3.11/dist-packages/werkzeug/local.py\", line 519, in _get_current_object\n",
            "    raise RuntimeError(unbound_message) from None\n",
            "RuntimeError: Working outside of request context.\n",
            "\n",
            "This typically means that you attempted to use functionality that needed\n",
            "an active HTTP request. Consult the documentation on testing for\n",
            "information about how to avoid this problem.\n",
            "ERROR:root:Unexpected exception finding object shape\n",
            "Traceback (most recent call last):\n",
            "  File \"/usr/local/lib/python3.11/dist-packages/google/colab/_debugpy_repr.py\", line 54, in get_shape\n",
            "    shape = getattr(obj, 'shape', None)\n",
            "            ^^^^^^^^^^^^^^^^^^^^^^^^^^^\n",
            "  File \"/usr/local/lib/python3.11/dist-packages/werkzeug/local.py\", line 318, in __get__\n",
            "    obj = instance._get_current_object()\n",
            "          ^^^^^^^^^^^^^^^^^^^^^^^^^^^^^^\n",
            "  File \"/usr/local/lib/python3.11/dist-packages/werkzeug/local.py\", line 519, in _get_current_object\n",
            "    raise RuntimeError(unbound_message) from None\n",
            "RuntimeError: Working outside of request context.\n",
            "\n",
            "This typically means that you attempted to use functionality that needed\n",
            "an active HTTP request. Consult the documentation on testing for\n",
            "information about how to avoid this problem.\n"
          ]
        }
      ]
    },
    {
      "cell_type": "markdown",
      "source": [
        "**8. What is the difference between GET and POST HTTP methods?**\n",
        "\n",
        "- Summary Table:\n",
        "\n",
        "| Feature              | `GET`                                      | `POST`                                        |\n",
        "| -------------------- | ------------------------------------------ | --------------------------------------------- |\n",
        "| **Purpose**          | Retrieve data from the server              | Send (submit) data to the server              |\n",
        "| **Data Location**    | Sent in the URL query string               | Sent in the request **body**                  |\n",
        "| **Visible to user?** |  Yes — URL is visible in browser          |  No — data is hidden in body                 |\n",
        "| **Use case**         | Fetch a page, read info (e.g., `/users/1`) | Submit forms, upload data (e.g., `/register`) |\n",
        "| **Safe/Idempotent**  |  Safe and idempotent                      |  Not safe or idempotent                      |\n",
        "| **Bookmarkable**     |  Yes — URLs with params can be bookmarked |  No — data is not part of the URL            |\n",
        "| **Length Limit?**    |  Yes (URL length limit)                   |  No practical size limit for body            |\n",
        "\n",
        "- Example:"
      ],
      "metadata": {
        "id": "quxL3YVZg_Bh"
      }
    },
    {
      "cell_type": "code",
      "source": [
        "from flask import Flask, request\n",
        "\n",
        "app = Flask(__name__)\n",
        "\n",
        "# GET route: returns a greeting with the name from URL query\n",
        "@app.route('/greet', methods=['GET'])\n",
        "def greet():\n",
        "    name = request.args.get('name', 'Guest')\n",
        "    return f\"Hello, {name}! (from GET)\"\n",
        "\n",
        "# POST route: returns a greeting with the name from submitted form\n",
        "@app.route('/submit', methods=['POST'])\n",
        "def submit():\n",
        "    name = request.form.get('name', 'Guest')\n",
        "    return f\"Welcome, {name}! (from POST)\"\n",
        "\n",
        "# Root route for quick instructions\n",
        "@app.route('/')\n",
        "def home():\n",
        "    return '''\n",
        "        <h3>Try These:</h3>\n",
        "        <ul>\n",
        "            <li>GET: /greet?name=Vishal</li>\n",
        "            <li>POST: Use Postman or curl to POST to /submit with form data 'name'</li>\n",
        "        </ul>\n",
        "    '''\n",
        "\n",
        "if __name__ == '__main__':\n",
        "    app.run(debug=True)\n"
      ],
      "metadata": {
        "colab": {
          "base_uri": "https://localhost:8080/"
        },
        "id": "e1JSBL1-huPQ",
        "outputId": "4fabd5bf-656e-4f38-f739-046ea31d7a02"
      },
      "execution_count": 10,
      "outputs": [
        {
          "output_type": "stream",
          "name": "stdout",
          "text": [
            " * Serving Flask app '__main__'\n",
            " * Debug mode: on\n"
          ]
        },
        {
          "output_type": "stream",
          "name": "stderr",
          "text": [
            "INFO:werkzeug:\u001b[31m\u001b[1mWARNING: This is a development server. Do not use it in a production deployment. Use a production WSGI server instead.\u001b[0m\n",
            " * Running on http://127.0.0.1:5000\n",
            "INFO:werkzeug:\u001b[33mPress CTRL+C to quit\u001b[0m\n",
            "INFO:werkzeug: * Restarting with stat\n",
            "ERROR:root:Unexpected exception finding object shape\n",
            "Traceback (most recent call last):\n",
            "  File \"/usr/local/lib/python3.11/dist-packages/google/colab/_debugpy_repr.py\", line 54, in get_shape\n",
            "    shape = getattr(obj, 'shape', None)\n",
            "            ^^^^^^^^^^^^^^^^^^^^^^^^^^^\n",
            "  File \"/usr/local/lib/python3.11/dist-packages/werkzeug/local.py\", line 318, in __get__\n",
            "    obj = instance._get_current_object()\n",
            "          ^^^^^^^^^^^^^^^^^^^^^^^^^^^^^^\n",
            "  File \"/usr/local/lib/python3.11/dist-packages/werkzeug/local.py\", line 519, in _get_current_object\n",
            "    raise RuntimeError(unbound_message) from None\n",
            "RuntimeError: Working outside of request context.\n",
            "\n",
            "This typically means that you attempted to use functionality that needed\n",
            "an active HTTP request. Consult the documentation on testing for\n",
            "information about how to avoid this problem.\n",
            "ERROR:root:Unexpected exception finding object shape\n",
            "Traceback (most recent call last):\n",
            "  File \"/usr/local/lib/python3.11/dist-packages/google/colab/_debugpy_repr.py\", line 54, in get_shape\n",
            "    shape = getattr(obj, 'shape', None)\n",
            "            ^^^^^^^^^^^^^^^^^^^^^^^^^^^\n",
            "  File \"/usr/local/lib/python3.11/dist-packages/werkzeug/local.py\", line 318, in __get__\n",
            "    obj = instance._get_current_object()\n",
            "          ^^^^^^^^^^^^^^^^^^^^^^^^^^^^^^\n",
            "  File \"/usr/local/lib/python3.11/dist-packages/werkzeug/local.py\", line 519, in _get_current_object\n",
            "    raise RuntimeError(unbound_message) from None\n",
            "RuntimeError: Working outside of request context.\n",
            "\n",
            "This typically means that you attempted to use functionality that needed\n",
            "an active HTTP request. Consult the documentation on testing for\n",
            "information about how to avoid this problem.\n"
          ]
        }
      ]
    },
    {
      "cell_type": "markdown",
      "source": [
        "**9. How do you handle errors in Flask APIs?**\n",
        "\n",
        "- In Flask, you can handle errors using:\n",
        "\n",
        " 1. try-except blocks (for specific logic errors)\n",
        "\n",
        " 2. @app.errorhandler() decorators (for global error handling)\n",
        "\n",
        " 3. Returning custom error responses with status codes\n",
        "\n",
        "- Flask Example: Error Handling in a REST API\n",
        "\n"
      ],
      "metadata": {
        "id": "vdnGtWMzh_Ti"
      }
    },
    {
      "cell_type": "code",
      "source": [
        "from flask import Flask, jsonify, request\n",
        "\n",
        "app = Flask(__name__)\n",
        "\n",
        "# Sample in-memory data\n",
        "books = [\n",
        "    {\"id\": 1, \"title\": \"Flask for Beginners\"},\n",
        "    {\"id\": 2, \"title\": \"Python Cookbook\"}\n",
        "]\n",
        "\n",
        "# GET route with error handling\n",
        "@app.route('/books/<int:id>', methods=['GET'])\n",
        "def get_book(id):\n",
        "    try:\n",
        "        book = next((b for b in books if b['id'] == id), None)\n",
        "        if not book:\n",
        "            # Custom 404 error\n",
        "            return jsonify({\"error\": \"Book not found\"}), 404\n",
        "        return jsonify(book)\n",
        "    except Exception as e:\n",
        "        # Unexpected error\n",
        "        return jsonify({\"error\": str(e)}), 500\n",
        "\n",
        "# Global error handler for 404\n",
        "@app.errorhandler(404)\n",
        "def not_found(e):\n",
        "    return jsonify({\"error\": \"Route not found\"}), 404\n",
        "\n",
        "# Global error handler for 500\n",
        "@app.errorhandler(500)\n",
        "def server_error(e):\n",
        "    return jsonify({\"error\": \"Internal Server Error\"}), 500\n",
        "\n",
        "# Home route for instructions\n",
        "@app.route('/')\n",
        "def home():\n",
        "    return '''\n",
        "    <h3>Try:</h3>\n",
        "    <ul>\n",
        "      <li>/books/1 (valid)</li>\n",
        "      <li>/books/999 (not found)</li>\n",
        "      <li>/notarealroute (404 route error)</li>\n",
        "    </ul>\n",
        "    '''\n",
        "\n",
        "if __name__ == '__main__':\n",
        "    app.run(debug=True)\n"
      ],
      "metadata": {
        "colab": {
          "base_uri": "https://localhost:8080/"
        },
        "id": "7mmPJK36iifp",
        "outputId": "c0282788-dc92-4ddf-a72c-b82f6f33a312"
      },
      "execution_count": 11,
      "outputs": [
        {
          "output_type": "stream",
          "name": "stdout",
          "text": [
            " * Serving Flask app '__main__'\n",
            " * Debug mode: on\n"
          ]
        },
        {
          "output_type": "stream",
          "name": "stderr",
          "text": [
            "INFO:werkzeug:\u001b[31m\u001b[1mWARNING: This is a development server. Do not use it in a production deployment. Use a production WSGI server instead.\u001b[0m\n",
            " * Running on http://127.0.0.1:5000\n",
            "INFO:werkzeug:\u001b[33mPress CTRL+C to quit\u001b[0m\n",
            "INFO:werkzeug: * Restarting with stat\n"
          ]
        }
      ]
    },
    {
      "cell_type": "markdown",
      "source": [
        "**10.\tHow do you connect Flask to a SQL database?**\n",
        "\n",
        "- We’ll use SQLite with SQLAlchemy, Flask’s recommended ORM (Object-Relational Mapper).\n",
        "\n",
        "- Notes:\n",
        "\n",
        "| Feature             | Value                                  |\n",
        "| ------------------- | -------------------------------------- |\n",
        "| Database used       | SQLite (`books.db` file auto-created)  |\n",
        "| ORM                 | SQLAlchemy                             |\n",
        "| Auto table creation | `db.create_all()` before first request |\n",
        "| Model class         | Maps to a table in the database        |\n",
        "\n",
        "- Example:"
      ],
      "metadata": {
        "id": "NtDiXNTuimCp"
      }
    },
    {
      "cell_type": "code",
      "metadata": {
        "colab": {
          "base_uri": "https://localhost:8080/"
        },
        "id": "70316331",
        "outputId": "c5bf3ce3-a512-4229-9efe-f82f1df955e9"
      },
      "source": [
        "from flask import Flask, request, jsonify\n",
        "from flask_sqlalchemy import SQLAlchemy\n",
        "\n",
        "app = Flask(__name__)\n",
        "\n",
        "# Step 1: Configure the SQLite database\n",
        "app.config['SQLALCHEMY_DATABASE_URI'] = 'sqlite:///books.db'\n",
        "app.config['SQLALCHEMY_TRACK_MODIFICATIONS'] = False\n",
        "\n",
        "# Step 2: Initialize the database object\n",
        "db = SQLAlchemy(app)\n",
        "\n",
        "# Step 3: Define a model (table)\n",
        "class Book(db.Model):\n",
        "    id = db.Column(db.Integer, primary_key=True)\n",
        "    title = db.Column(db.String(100), nullable=False)\n",
        "    author = db.Column(db.String(100), nullable=False)\n",
        "\n",
        "# Step 4: Create the database tables (run once)\n",
        "# Use app.app_context() to create tables within the application context\n",
        "with app.app_context():\n",
        "    db.create_all()\n",
        "\n",
        "# Step 5: Route to add a new book (POST)\n",
        "@app.route('/books', methods=['POST'])\n",
        "def add_book():\n",
        "    data = request.get_json()\n",
        "    new_book = Book(title=data['title'], author=data['author'])\n",
        "    db.session.add(new_book)\n",
        "    db.session.commit()\n",
        "    return jsonify({\"message\": \"Book added!\"}), 201\n",
        "\n",
        "# Step 6: Route to fetch all books (GET)\n",
        "@app.route('/books', methods=['GET'])\n",
        "def get_books():\n",
        "    books = Book.query.all()\n",
        "    return jsonify([\n",
        "        {\"id\": book.id, \"title\": book.title, \"author\": book.author}\n",
        "        for book in books\n",
        "    ])\n",
        "\n",
        "# Step 7: Root route\n",
        "@app.route('/')\n",
        "def home():\n",
        "    return \"Flask + SQLite Connected!\"\n",
        "\n",
        "if __name__ == '__main__':\n",
        "    app.run(debug=True)"
      ],
      "execution_count": 15,
      "outputs": [
        {
          "output_type": "stream",
          "name": "stderr",
          "text": [
            "ERROR:root:Unexpected exception finding object shape\n",
            "Traceback (most recent call last):\n",
            "  File \"/usr/local/lib/python3.11/dist-packages/google/colab/_debugpy_repr.py\", line 54, in get_shape\n",
            "    shape = getattr(obj, 'shape', None)\n",
            "            ^^^^^^^^^^^^^^^^^^^^^^^^^^^\n",
            "  File \"/usr/local/lib/python3.11/dist-packages/werkzeug/local.py\", line 318, in __get__\n",
            "    obj = instance._get_current_object()\n",
            "          ^^^^^^^^^^^^^^^^^^^^^^^^^^^^^^\n",
            "  File \"/usr/local/lib/python3.11/dist-packages/werkzeug/local.py\", line 519, in _get_current_object\n",
            "    raise RuntimeError(unbound_message) from None\n",
            "RuntimeError: Working outside of request context.\n",
            "\n",
            "This typically means that you attempted to use functionality that needed\n",
            "an active HTTP request. Consult the documentation on testing for\n",
            "information about how to avoid this problem.\n"
          ]
        },
        {
          "output_type": "stream",
          "name": "stdout",
          "text": [
            " * Serving Flask app '__main__'\n",
            " * Debug mode: on\n"
          ]
        },
        {
          "output_type": "stream",
          "name": "stderr",
          "text": [
            "INFO:werkzeug:\u001b[31m\u001b[1mWARNING: This is a development server. Do not use it in a production deployment. Use a production WSGI server instead.\u001b[0m\n",
            " * Running on http://127.0.0.1:5000\n",
            "INFO:werkzeug:\u001b[33mPress CTRL+C to quit\u001b[0m\n",
            "INFO:werkzeug: * Restarting with stat\n",
            "ERROR:root:Unexpected exception finding object shape\n",
            "Traceback (most recent call last):\n",
            "  File \"/usr/local/lib/python3.11/dist-packages/google/colab/_debugpy_repr.py\", line 54, in get_shape\n",
            "    shape = getattr(obj, 'shape', None)\n",
            "            ^^^^^^^^^^^^^^^^^^^^^^^^^^^\n",
            "  File \"/usr/local/lib/python3.11/dist-packages/werkzeug/local.py\", line 318, in __get__\n",
            "    obj = instance._get_current_object()\n",
            "          ^^^^^^^^^^^^^^^^^^^^^^^^^^^^^^\n",
            "  File \"/usr/local/lib/python3.11/dist-packages/werkzeug/local.py\", line 519, in _get_current_object\n",
            "    raise RuntimeError(unbound_message) from None\n",
            "RuntimeError: Working outside of request context.\n",
            "\n",
            "This typically means that you attempted to use functionality that needed\n",
            "an active HTTP request. Consult the documentation on testing for\n",
            "information about how to avoid this problem.\n",
            "ERROR:root:Unexpected exception finding object shape\n",
            "Traceback (most recent call last):\n",
            "  File \"/usr/local/lib/python3.11/dist-packages/google/colab/_debugpy_repr.py\", line 54, in get_shape\n",
            "    shape = getattr(obj, 'shape', None)\n",
            "            ^^^^^^^^^^^^^^^^^^^^^^^^^^^\n",
            "  File \"/usr/local/lib/python3.11/dist-packages/werkzeug/local.py\", line 318, in __get__\n",
            "    obj = instance._get_current_object()\n",
            "          ^^^^^^^^^^^^^^^^^^^^^^^^^^^^^^\n",
            "  File \"/usr/local/lib/python3.11/dist-packages/werkzeug/local.py\", line 519, in _get_current_object\n",
            "    raise RuntimeError(unbound_message) from None\n",
            "RuntimeError: Working outside of request context.\n",
            "\n",
            "This typically means that you attempted to use functionality that needed\n",
            "an active HTTP request. Consult the documentation on testing for\n",
            "information about how to avoid this problem.\n",
            "ERROR:root:Unexpected exception finding object shape\n",
            "Traceback (most recent call last):\n",
            "  File \"/usr/local/lib/python3.11/dist-packages/google/colab/_debugpy_repr.py\", line 54, in get_shape\n",
            "    shape = getattr(obj, 'shape', None)\n",
            "            ^^^^^^^^^^^^^^^^^^^^^^^^^^^\n",
            "  File \"/usr/local/lib/python3.11/dist-packages/werkzeug/local.py\", line 318, in __get__\n",
            "    obj = instance._get_current_object()\n",
            "          ^^^^^^^^^^^^^^^^^^^^^^^^^^^^^^\n",
            "  File \"/usr/local/lib/python3.11/dist-packages/werkzeug/local.py\", line 519, in _get_current_object\n",
            "    raise RuntimeError(unbound_message) from None\n",
            "RuntimeError: Working outside of request context.\n",
            "\n",
            "This typically means that you attempted to use functionality that needed\n",
            "an active HTTP request. Consult the documentation on testing for\n",
            "information about how to avoid this problem.\n"
          ]
        }
      ]
    },
    {
      "cell_type": "markdown",
      "source": [
        "**11.\tWhat is the role of Flask-SQLAlchemy?**\n",
        "\n",
        "- Flask-SQLAlchemy is an extension that integrates SQLAlchemy with your Flask app to simplify working with SQL databases using Python objects.\n",
        "\n",
        "- In Simple Terms:\n",
        "\n",
        "- Flask-SQLAlchemy lets you:\n",
        "\n",
        " - Interact with the database using Python classes (instead of raw SQL)\n",
        "\n",
        " - Define models (tables) using classes\n",
        "\n",
        " - Perform queries like User.query.filter_by(name='John') easily\n",
        "\n",
        " - Handle sessions and connections efficiently\n",
        "\n",
        " - Auto-create tables and relationships\n",
        "\n",
        "- Why Use Flask-SQLAlchemy?\n",
        "\n",
        "| Feature                   | Benefit                                                |\n",
        "| ------------------------- | ------------------------------------------------------ |\n",
        "| ORM Support               | Write Python classes instead of SQL queries            |\n",
        "| Built-in Session Handling | Handles transactions for you                           |\n",
        "| Auto Table Creation       | Call `db.create_all()` to create tables                |\n",
        "| Flask Integration         | Works with Flask configs and lifecycle                 |\n",
        "| Query Abstractions        | Easy querying: `Model.query.all()` or `filter_by(...)` |\n",
        "\n",
        "- Example:"
      ],
      "metadata": {
        "id": "QemmtFauje-1"
      }
    },
    {
      "cell_type": "code",
      "source": [
        "from flask import Flask, request, jsonify\n",
        "from flask_sqlalchemy import SQLAlchemy\n",
        "\n",
        "app = Flask(__name__)\n",
        "\n",
        "# Configure the database URI\n",
        "app.config['SQLALCHEMY_DATABASE_URI'] = 'sqlite:///students.db'\n",
        "app.config['SQLALCHEMY_TRACK_MODIFICATIONS'] = False\n",
        "\n",
        "# Initialize the database\n",
        "db = SQLAlchemy(app)\n",
        "\n",
        "# Define the Student model\n",
        "class Student(db.Model):\n",
        "    id = db.Column(db.Integer, primary_key=True)\n",
        "    name = db.Column(db.String(100), nullable=False)\n",
        "    age = db.Column(db.Integer, nullable=False)\n",
        "\n",
        "# 👇 Manually create tables using app context\n",
        "with app.app_context():\n",
        "    db.create_all()\n",
        "\n",
        "# Route to add a student\n",
        "@app.route('/students', methods=['POST'])\n",
        "def add_student():\n",
        "    data = request.get_json()\n",
        "    student = Student(name=data['name'], age=data['age'])\n",
        "    db.session.add(student)\n",
        "    db.session.commit()\n",
        "    return jsonify({\"message\": \"Student added!\"})\n",
        "\n",
        "# Route to get all students\n",
        "@app.route('/students', methods=['GET'])\n",
        "def get_students():\n",
        "    students = Student.query.all()\n",
        "    return jsonify([\n",
        "        {\"id\": s.id, \"name\": s.name, \"age\": s.age} for s in students\n",
        "    ])\n",
        "\n",
        "# Home route\n",
        "@app.route('/')\n",
        "def home():\n",
        "    return \"Flask-SQLAlchemy Example is running!\"\n",
        "\n",
        "# Run the Flask app (only if in a .py script)\n",
        "if __name__ == '__main__':\n",
        "    app.run(debug=True)\n"
      ],
      "metadata": {
        "colab": {
          "base_uri": "https://localhost:8080/"
        },
        "id": "_V9OOe2pkIdd",
        "outputId": "b8195c0a-54e3-4394-ed45-6d6a7ddf8e5b"
      },
      "execution_count": 17,
      "outputs": [
        {
          "output_type": "stream",
          "name": "stdout",
          "text": [
            " * Serving Flask app '__main__'\n",
            " * Debug mode: on\n"
          ]
        },
        {
          "output_type": "stream",
          "name": "stderr",
          "text": [
            "INFO:werkzeug:\u001b[31m\u001b[1mWARNING: This is a development server. Do not use it in a production deployment. Use a production WSGI server instead.\u001b[0m\n",
            " * Running on http://127.0.0.1:5000\n",
            "INFO:werkzeug:\u001b[33mPress CTRL+C to quit\u001b[0m\n",
            "INFO:werkzeug: * Restarting with stat\n",
            "ERROR:root:Unexpected exception finding object shape\n",
            "Traceback (most recent call last):\n",
            "  File \"/usr/local/lib/python3.11/dist-packages/google/colab/_debugpy_repr.py\", line 54, in get_shape\n",
            "    shape = getattr(obj, 'shape', None)\n",
            "            ^^^^^^^^^^^^^^^^^^^^^^^^^^^\n",
            "  File \"/usr/local/lib/python3.11/dist-packages/werkzeug/local.py\", line 318, in __get__\n",
            "    obj = instance._get_current_object()\n",
            "          ^^^^^^^^^^^^^^^^^^^^^^^^^^^^^^\n",
            "  File \"/usr/local/lib/python3.11/dist-packages/werkzeug/local.py\", line 519, in _get_current_object\n",
            "    raise RuntimeError(unbound_message) from None\n",
            "RuntimeError: Working outside of request context.\n",
            "\n",
            "This typically means that you attempted to use functionality that needed\n",
            "an active HTTP request. Consult the documentation on testing for\n",
            "information about how to avoid this problem.\n"
          ]
        }
      ]
    },
    {
      "cell_type": "markdown",
      "source": [
        "**12.\tWhat are Flask blueprints, and how are they useful?**\n",
        "\n",
        "- Think of Blueprints as mini Flask apps you can plug into your main app.\n",
        "They help keep routes, logic, and components grouped by feature or domain.\n",
        "\n",
        "- Why Use Flask Blueprints?\n",
        "\n",
        "| Benefit                     | Explanation                                            |\n",
        "| --------------------------- | ------------------------------------------------------ |\n",
        "|  Code organization         | Split code by features (e.g., users, products, admin)  |\n",
        "|  Reusability               | Reuse blueprints across multiple projects              |\n",
        "|  Separation of concerns    | Keep views, models, and logic independent and readable |\n",
        "|  Easier team collaboration | Teams can work on different modules independently      |\n",
        "\n",
        "- Example:"
      ],
      "metadata": {
        "id": "rSUr2xB-kjKu"
      }
    },
    {
      "cell_type": "code",
      "source": [
        "# app.py\n",
        "from flask import Flask\n",
        "from user_routes import user_bp  # Import the blueprint\n",
        "\n",
        "app = Flask(__name__)\n",
        "\n",
        "# Register the blueprint\n",
        "app.register_blueprint(user_bp, url_prefix='/api')\n",
        "\n",
        "@app.route('/')\n",
        "def home():\n",
        "    return \"Main App Running\"\n",
        "\n",
        "if __name__ == '__main__':\n",
        "    app.run(debug=True)\n"
      ],
      "metadata": {
        "id": "OWdLqunrk84Z"
      },
      "execution_count": null,
      "outputs": []
    },
    {
      "cell_type": "markdown",
      "source": [
        "**13.\tWhat is the purpose of Flask's request object?**\n",
        "\n",
        "- The Flask request object lets you access data sent by the client (like form inputs, JSON payloads, headers, cookies, and query parameters).\n",
        "\n",
        "- It’s used whenever a client sends data to your Flask app, especially with POST, PUT, or GET methods.\n",
        "\n",
        "- What Can You Access with request?\n",
        "\n",
        "| Feature          | Access Code             | Purpose                        |\n",
        "| ---------------- | ----------------------- | ------------------------------ |\n",
        "| Query Parameters | `request.args`          | URL params like `?name=Vishal` |\n",
        "| Form Data        | `request.form`          | Data from HTML forms (POST)    |\n",
        "| JSON Data        | `request.get_json()`    | JSON payloads (API calls)      |\n",
        "| Request Method   | `request.method`        | `GET`, `POST`, etc.            |\n",
        "| Headers          | `request.headers`       | Client headers                 |\n",
        "| Cookies          | `request.cookies`       | Browser cookies                |\n",
        "| Files (Upload)   | `request.files['file']` | Uploaded files                 |\n",
        "\n",
        "- Example:"
      ],
      "metadata": {
        "id": "3yVcl8RdlHqO"
      }
    },
    {
      "cell_type": "code",
      "source": [
        "from flask import Flask, request, jsonify\n",
        "\n",
        "app = Flask(__name__)\n",
        "\n",
        "# Handle query parameters (GET)\n",
        "@app.route('/greet', methods=['GET'])\n",
        "def greet():\n",
        "    name = request.args.get('name', 'Guest')\n",
        "    return f\"Hello, {name}!\"\n",
        "\n",
        "# Handle form data (POST)\n",
        "@app.route('/submit-form', methods=['POST'])\n",
        "def submit_form():\n",
        "    name = request.form.get('name')\n",
        "    return f\"Form received for {name}\"\n",
        "\n",
        "# Handle JSON data (POST)\n",
        "@app.route('/json-data', methods=['POST'])\n",
        "def json_data():\n",
        "    data = request.get_json()\n",
        "    name = data.get('name', 'Guest')\n",
        "    return jsonify({\"message\": f\"Received JSON for {name}\"}), 200\n",
        "\n",
        "@app.route('/')\n",
        "def home():\n",
        "    return '''\n",
        "    <h4>Try These Routes:</h4>\n",
        "    <ul>\n",
        "      <li>GET /greet?name=Vishal</li>\n",
        "      <li>POST /submit-form (form data: name)</li>\n",
        "      <li>POST /json-data (JSON: {\"name\": \"Vishal\"})</li>\n",
        "    </ul>\n",
        "    '''\n",
        "\n",
        "if __name__ == '__main__':\n",
        "    app.run(debug=True)\n"
      ],
      "metadata": {
        "colab": {
          "base_uri": "https://localhost:8080/"
        },
        "id": "QBBey0dtl-JY",
        "outputId": "5945c163-5255-4596-9ed1-9dc628e9f68c"
      },
      "execution_count": 20,
      "outputs": [
        {
          "output_type": "stream",
          "name": "stdout",
          "text": [
            " * Serving Flask app '__main__'\n",
            " * Debug mode: on\n"
          ]
        },
        {
          "output_type": "stream",
          "name": "stderr",
          "text": [
            "INFO:werkzeug:\u001b[31m\u001b[1mWARNING: This is a development server. Do not use it in a production deployment. Use a production WSGI server instead.\u001b[0m\n",
            " * Running on http://127.0.0.1:5000\n",
            "INFO:werkzeug:\u001b[33mPress CTRL+C to quit\u001b[0m\n",
            "INFO:werkzeug: * Restarting with stat\n",
            "ERROR:root:Unexpected exception finding object shape\n",
            "Traceback (most recent call last):\n",
            "  File \"/usr/local/lib/python3.11/dist-packages/google/colab/_debugpy_repr.py\", line 54, in get_shape\n",
            "    shape = getattr(obj, 'shape', None)\n",
            "            ^^^^^^^^^^^^^^^^^^^^^^^^^^^\n",
            "  File \"/usr/local/lib/python3.11/dist-packages/werkzeug/local.py\", line 318, in __get__\n",
            "    obj = instance._get_current_object()\n",
            "          ^^^^^^^^^^^^^^^^^^^^^^^^^^^^^^\n",
            "  File \"/usr/local/lib/python3.11/dist-packages/werkzeug/local.py\", line 519, in _get_current_object\n",
            "    raise RuntimeError(unbound_message) from None\n",
            "RuntimeError: Working outside of request context.\n",
            "\n",
            "This typically means that you attempted to use functionality that needed\n",
            "an active HTTP request. Consult the documentation on testing for\n",
            "information about how to avoid this problem.\n"
          ]
        }
      ]
    },
    {
      "cell_type": "markdown",
      "source": [
        "**14.\tHow do you create a RESTful API endpoint using Flask?**\n",
        "\n",
        "- A RESTful API endpoint in Flask is a route that performs an operation (like create, read, update, delete) on a resource (like Book, User, etc.) using HTTP methods (GET, POST, PUT, DELETE).\n",
        "\n",
        "- API Endpoints Overview:\n",
        "\n",
        "| HTTP Method | URL           | Action               |\n",
        "| ----------- | ------------- | -------------------- |\n",
        "| `GET`       | `/books`      | Get all books        |\n",
        "| `GET`       | `/books/<id>` | Get book by ID       |\n",
        "| `POST`      | `/books`      | Add a new book       |\n",
        "| `PUT`       | `/books/<id>` | Update existing book |\n",
        "| `DELETE`    | `/books/<id>` | Delete a book        |\n",
        "\n",
        "- Example:"
      ],
      "metadata": {
        "id": "j9C13HTbmDbn"
      }
    },
    {
      "cell_type": "code",
      "source": [
        "from flask import Flask, request, jsonify\n",
        "\n",
        "app = Flask(__name__)\n",
        "\n",
        "# Sample in-memory data\n",
        "books = [\n",
        "    {\"id\": 1, \"title\": \"Flask Basics\", \"author\": \"Alice\"},\n",
        "    {\"id\": 2, \"title\": \"RESTful APIs\", \"author\": \"Bob\"}\n",
        "]\n",
        "\n",
        "# GET /books — Get all books\n",
        "@app.route('/books', methods=['GET'])\n",
        "def get_books():\n",
        "    return jsonify(books), 200\n",
        "\n",
        "# GET /books/<id> — Get book by ID\n",
        "@app.route('/books/<int:id>', methods=['GET'])\n",
        "def get_book(id):\n",
        "    book = next((b for b in books if b['id'] == id), None)\n",
        "    if book:\n",
        "        return jsonify(book), 200\n",
        "    return jsonify({\"error\": \"Book not found\"}), 404\n",
        "\n",
        "# POST /books — Add new book\n",
        "@app.route('/books', methods=['POST'])\n",
        "def add_book():\n",
        "    data = request.get_json()\n",
        "    new_book = {\n",
        "        \"id\": len(books) + 1,\n",
        "        \"title\": data['title'],\n",
        "        \"author\": data['author']\n",
        "    }\n",
        "    books.append(new_book)\n",
        "    return jsonify(new_book), 201\n",
        "\n",
        "# PUT /books/<id> — Update book\n",
        "@app.route('/books/<int:id>', methods=['PUT'])\n",
        "def update_book(id):\n",
        "    data = request.get_json()\n",
        "    for book in books:\n",
        "        if book['id'] == id:\n",
        "            book['title'] = data.get('title', book['title'])\n",
        "            book['author'] = data.get('author', book['author'])\n",
        "            return jsonify(book), 200\n",
        "    return jsonify({\"error\": \"Book not found\"}), 404\n",
        "\n",
        "# DELETE /books/<id> — Delete book\n",
        "@app.route('/books/<int:id>', methods=['DELETE'])\n",
        "def delete_book(id):\n",
        "    global books\n",
        "    updated_books = [b for b in books if b['id'] != id]\n",
        "    if len(updated_books) != len(books):\n",
        "        books = updated_books\n",
        "        return jsonify({\"message\": \"Book deleted\"}), 200\n",
        "    return jsonify({\"error\": \"Book not found\"}), 404\n",
        "\n",
        "# Home route\n",
        "@app.route('/')\n",
        "def home():\n",
        "    return \"Book RESTful API is running!\"\n",
        "\n",
        "if __name__ == '__main__':\n",
        "    app.run(debug=True)\n"
      ],
      "metadata": {
        "colab": {
          "base_uri": "https://localhost:8080/"
        },
        "id": "AbKqiHQjmeDK",
        "outputId": "85c904b3-8f79-40a5-9bfc-b8816a6ab080"
      },
      "execution_count": 21,
      "outputs": [
        {
          "output_type": "stream",
          "name": "stdout",
          "text": [
            " * Serving Flask app '__main__'\n",
            " * Debug mode: on\n"
          ]
        },
        {
          "output_type": "stream",
          "name": "stderr",
          "text": [
            "INFO:werkzeug:\u001b[31m\u001b[1mWARNING: This is a development server. Do not use it in a production deployment. Use a production WSGI server instead.\u001b[0m\n",
            " * Running on http://127.0.0.1:5000\n",
            "INFO:werkzeug:\u001b[33mPress CTRL+C to quit\u001b[0m\n",
            "INFO:werkzeug: * Restarting with stat\n",
            "ERROR:root:Unexpected exception finding object shape\n",
            "Traceback (most recent call last):\n",
            "  File \"/usr/local/lib/python3.11/dist-packages/google/colab/_debugpy_repr.py\", line 54, in get_shape\n",
            "    shape = getattr(obj, 'shape', None)\n",
            "            ^^^^^^^^^^^^^^^^^^^^^^^^^^^\n",
            "  File \"/usr/local/lib/python3.11/dist-packages/werkzeug/local.py\", line 318, in __get__\n",
            "    obj = instance._get_current_object()\n",
            "          ^^^^^^^^^^^^^^^^^^^^^^^^^^^^^^\n",
            "  File \"/usr/local/lib/python3.11/dist-packages/werkzeug/local.py\", line 519, in _get_current_object\n",
            "    raise RuntimeError(unbound_message) from None\n",
            "RuntimeError: Working outside of request context.\n",
            "\n",
            "This typically means that you attempted to use functionality that needed\n",
            "an active HTTP request. Consult the documentation on testing for\n",
            "information about how to avoid this problem.\n"
          ]
        }
      ]
    },
    {
      "cell_type": "markdown",
      "source": [
        "**15.\tWhat is the purpose of Flask's jsonify() function?**\n",
        "\n",
        "- The jsonify() function in Flask converts Python data structures (like dict, list, etc.) into a JSON response, which is the standard format for APIs.\n",
        "\n",
        "- Why Use jsonify() Instead of return dict?\n",
        "\n",
        "| Feature                          | `jsonify()`                              |\n",
        "| -------------------------------- | ---------------------------------------- |\n",
        "| Returns valid `application/json` |  Yes                                    |\n",
        "| Automatically sets content-type  |  Yes (`Content-Type: application/json`) |\n",
        "| Handles UTF-8 & edge cases       |  Yes                                    |\n",
        "| Safer for production             |  Recommended by Flask                   |\n",
        "\n",
        "- Flask Example Using jsonify():"
      ],
      "metadata": {
        "id": "8LeQanzZmjB6"
      }
    },
    {
      "cell_type": "code",
      "source": [
        "from flask import Flask, jsonify\n",
        "\n",
        "app = Flask(__name__)\n",
        "\n",
        "# Route returning a single object as JSON\n",
        "@app.route('/user')\n",
        "def get_user():\n",
        "    user = {\"id\": 1, \"name\": \"Vishal\", \"role\": \"Developer\"}\n",
        "    return jsonify(user)\n",
        "\n",
        "# Route returning a list of objects as JSON\n",
        "@app.route('/users')\n",
        "def get_users():\n",
        "    users = [\n",
        "        {\"id\": 1, \"name\": \"Vishal\"},\n",
        "        {\"id\": 2, \"name\": \"Amit\"},\n",
        "        {\"id\": 3, \"name\": \"Sneha\"}\n",
        "    ]\n",
        "    return jsonify(users)\n",
        "\n",
        "# Root route\n",
        "@app.route('/')\n",
        "def home():\n",
        "    return \"Try /user or /users\"\n",
        "\n",
        "if __name__ == '__main__':\n",
        "    app.run(debug=True)\n"
      ],
      "metadata": {
        "colab": {
          "base_uri": "https://localhost:8080/"
        },
        "id": "urlHNb22nFHW",
        "outputId": "ad7ed9de-5ff9-42fe-8457-47977f7dfb22"
      },
      "execution_count": 22,
      "outputs": [
        {
          "output_type": "stream",
          "name": "stdout",
          "text": [
            " * Serving Flask app '__main__'\n",
            " * Debug mode: on\n"
          ]
        },
        {
          "output_type": "stream",
          "name": "stderr",
          "text": [
            "INFO:werkzeug:\u001b[31m\u001b[1mWARNING: This is a development server. Do not use it in a production deployment. Use a production WSGI server instead.\u001b[0m\n",
            " * Running on http://127.0.0.1:5000\n",
            "INFO:werkzeug:\u001b[33mPress CTRL+C to quit\u001b[0m\n",
            "INFO:werkzeug: * Restarting with stat\n",
            "ERROR:root:Unexpected exception finding object shape\n",
            "Traceback (most recent call last):\n",
            "  File \"/usr/local/lib/python3.11/dist-packages/google/colab/_debugpy_repr.py\", line 54, in get_shape\n",
            "    shape = getattr(obj, 'shape', None)\n",
            "            ^^^^^^^^^^^^^^^^^^^^^^^^^^^\n",
            "  File \"/usr/local/lib/python3.11/dist-packages/werkzeug/local.py\", line 318, in __get__\n",
            "    obj = instance._get_current_object()\n",
            "          ^^^^^^^^^^^^^^^^^^^^^^^^^^^^^^\n",
            "  File \"/usr/local/lib/python3.11/dist-packages/werkzeug/local.py\", line 519, in _get_current_object\n",
            "    raise RuntimeError(unbound_message) from None\n",
            "RuntimeError: Working outside of request context.\n",
            "\n",
            "This typically means that you attempted to use functionality that needed\n",
            "an active HTTP request. Consult the documentation on testing for\n",
            "information about how to avoid this problem.\n"
          ]
        }
      ]
    },
    {
      "cell_type": "markdown",
      "source": [
        "**16.\tExplain Flask’s url_for() function?**\n",
        "\n",
        "- The url_for() function generates dynamic URLs for Flask view functions by referencing the function name, not hardcoding the route path.\n",
        "\n",
        "- Why Is url_for() Useful?\n",
        "\n",
        "| Benefit                            | Explanation                                           |\n",
        "| ---------------------------------- | ----------------------------------------------------- |\n",
        "|  Avoid hardcoding URLs            | Updates automatically if route paths change           |\n",
        "|  Pass route parameters safely     | No string concatenation errors                        |\n",
        "|  Works with templates & redirects | Commonly used in `render_template()` and `redirect()` |\n",
        "\n",
        "- Example:"
      ],
      "metadata": {
        "id": "RCowIcq4nJom"
      }
    },
    {
      "cell_type": "code",
      "source": [
        "from flask import Flask, url_for, redirect\n",
        "\n",
        "app = Flask(__name__)\n",
        "\n",
        "@app.route('/')\n",
        "def home():\n",
        "    # Generate URL for hello() with name param\n",
        "    hello_url = url_for('hello', name='Vishal')\n",
        "    return f'Click <a href=\"{hello_url}\">here</a> to say hello.'\n",
        "\n",
        "@app.route('/hello/<name>')\n",
        "def hello(name):\n",
        "    return f\"Hello, {name}!\"\n",
        "\n",
        "# Example of redirect using url_for\n",
        "@app.route('/go-home')\n",
        "def go_home():\n",
        "    return redirect(url_for('home'))\n",
        "\n",
        "if __name__ == '__main__':\n",
        "    app.run(debug=True)\n"
      ],
      "metadata": {
        "colab": {
          "base_uri": "https://localhost:8080/"
        },
        "id": "zHEgeg3gnoZ3",
        "outputId": "4067ca92-4500-4287-b2bc-874249d7e062"
      },
      "execution_count": 23,
      "outputs": [
        {
          "output_type": "stream",
          "name": "stdout",
          "text": [
            " * Serving Flask app '__main__'\n",
            " * Debug mode: on\n"
          ]
        },
        {
          "output_type": "stream",
          "name": "stderr",
          "text": [
            "INFO:werkzeug:\u001b[31m\u001b[1mWARNING: This is a development server. Do not use it in a production deployment. Use a production WSGI server instead.\u001b[0m\n",
            " * Running on http://127.0.0.1:5000\n",
            "INFO:werkzeug:\u001b[33mPress CTRL+C to quit\u001b[0m\n",
            "INFO:werkzeug: * Restarting with stat\n"
          ]
        }
      ]
    },
    {
      "cell_type": "markdown",
      "source": [
        "**17.\tHow does Flask handle static files (CSS, JavaScript, etc.)**\n",
        "\n",
        "- In a web application, static files include:\n",
        "\n",
        " - CSS files (style.css) for styling\n",
        "\n",
        " - JavaScript files (script.js) for interactivity\n",
        "\n",
        " - Image files (.jpg, .png, .svg)\n",
        "\n",
        " - Other assets like fonts or icons\n",
        "\n",
        "- Flask has a built-in way to serve these static assets from a folder called static/.\n",
        "\n",
        "- Project Folder Structure\n",
        "\n",
        " - By default, Flask expects your static files to be placed in a folder named static in your project root.\n",
        "\n",
        " - Here’s what a basic Flask project looks like when handling static files:\n",
        "\n",
        "- my_flask_app/\n",
        "├── app.py\n",
        "├── static/\n",
        "│   ├── style.css\n",
        "│   └── script.js\n",
        "├── templates/\n",
        "│   └── index.html\n",
        "\n",
        "- Example:"
      ],
      "metadata": {
        "id": "2S0xI-M9nrYT"
      }
    },
    {
      "cell_type": "code",
      "source": [
        "from flask import Flask, render_template\n",
        "\n",
        "app = Flask(__name__)\n",
        "\n",
        "@app.route('/')\n",
        "def home():\n",
        "    return render_template('index.html')  # Loads HTML with CSS & JS\n",
        "\n",
        "if __name__ == '__main__':\n",
        "    app.run(debug=True)\n",
        "\n",
        "\n",
        "'''<!DOCTYPE html>\n",
        "<html>\n",
        "<head>\n",
        "    <title>Flask Static Files</title>\n",
        "    <!-- Load CSS file from static folder -->\n",
        "    <link rel=\"stylesheet\" href=\"{{ url_for('static', filename='style.css') }}\">\n",
        "    <!-- Load JS file from static folder -->\n",
        "    <script src=\"{{ url_for('static', filename='script.js') }}\"></script>\n",
        "</head>\n",
        "<body>\n",
        "    <h1>Hello Flask with CSS and JS!</h1>\n",
        "    <button onclick=\"showMessage()\">Click Me</button>\n",
        "</body>\n",
        "</html>'''\n",
        "\n",
        "\n",
        "'''body {\n",
        "    background-color: #f0f0f0;\n",
        "    font-family: sans-serif;\n",
        "    text-align: center;\n",
        "    padding-top: 50px;\n",
        "}\n",
        "\n",
        "h1 {\n",
        "    color: #007bff;\n",
        "}\n",
        "\n",
        "button {\n",
        "    background-color: #28a745;\n",
        "    color: white;\n",
        "    padding: 10px 20px;\n",
        "    border: none;\n",
        "    border-radius: 6px;\n",
        "    cursor: pointer;\n",
        "}'''\n",
        "\n",
        "'''function showMessage() {\n",
        "    alert(\"You clicked the button!\");\n",
        "}'''\n"
      ],
      "metadata": {
        "colab": {
          "base_uri": "https://localhost:8080/",
          "height": 400
        },
        "id": "NxFzqDIuollv",
        "outputId": "331f6fe9-a336-4c18-b057-ea4afe759074"
      },
      "execution_count": 24,
      "outputs": [
        {
          "output_type": "stream",
          "name": "stdout",
          "text": [
            " * Serving Flask app '__main__'\n",
            " * Debug mode: on\n"
          ]
        },
        {
          "output_type": "stream",
          "name": "stderr",
          "text": [
            "INFO:werkzeug:\u001b[31m\u001b[1mWARNING: This is a development server. Do not use it in a production deployment. Use a production WSGI server instead.\u001b[0m\n",
            " * Running on http://127.0.0.1:5000\n",
            "INFO:werkzeug:\u001b[33mPress CTRL+C to quit\u001b[0m\n",
            "INFO:werkzeug: * Restarting with stat\n",
            "ERROR:root:Unexpected exception finding object shape\n",
            "Traceback (most recent call last):\n",
            "  File \"/usr/local/lib/python3.11/dist-packages/google/colab/_debugpy_repr.py\", line 54, in get_shape\n",
            "    shape = getattr(obj, 'shape', None)\n",
            "            ^^^^^^^^^^^^^^^^^^^^^^^^^^^\n",
            "  File \"/usr/local/lib/python3.11/dist-packages/werkzeug/local.py\", line 318, in __get__\n",
            "    obj = instance._get_current_object()\n",
            "          ^^^^^^^^^^^^^^^^^^^^^^^^^^^^^^\n",
            "  File \"/usr/local/lib/python3.11/dist-packages/werkzeug/local.py\", line 519, in _get_current_object\n",
            "    raise RuntimeError(unbound_message) from None\n",
            "RuntimeError: Working outside of request context.\n",
            "\n",
            "This typically means that you attempted to use functionality that needed\n",
            "an active HTTP request. Consult the documentation on testing for\n",
            "information about how to avoid this problem.\n"
          ]
        },
        {
          "output_type": "execute_result",
          "data": {
            "text/plain": [
              "'function showMessage() {\\n    alert(\"You clicked the button!\");\\n}'"
            ],
            "application/vnd.google.colaboratory.intrinsic+json": {
              "type": "string"
            }
          },
          "metadata": {},
          "execution_count": 24
        }
      ]
    },
    {
      "cell_type": "markdown",
      "source": [
        "**18.\tWhat is an API specification, and how does it help in building a Flask API?**\n",
        "\n",
        "- What Is an API Specification?\n",
        "\n",
        " - An API specification is a formal, structured document that describes how an API behaves and how clients can interact with it.\n",
        "\n",
        "- It defines:\n",
        "\n",
        "| Component              | Description                                                        |\n",
        "| ---------------------- | ------------------------------------------------------------------ |\n",
        "| **Endpoints**          | Available URLs, e.g., `/users`, `/orders/<id>`                     |\n",
        "| **HTTP Methods**       | Allowed operations like `GET`, `POST`, `PUT`, `DELETE`             |\n",
        "| **Request Parameters** | Required query params, headers, or body payload                    |\n",
        "| **Responses**          | Expected outputs (status codes, content types, JSON structure)     |\n",
        "| **Authentication**     | Whether login tokens, API keys, or OAuth are required              |\n",
        "| **Error Handling**     | How errors are returned (e.g., `404 Not Found`, `400 Bad Request`) |\n",
        "\n",
        "- Why Is an API Specification Important?\n",
        "\n",
        "| Benefit                       | Explanation                                                                 |\n",
        "| ----------------------------- | --------------------------------------------------------------------------- |\n",
        "|  **Documentation**          | Frontend developers or 3rd-party users can know exactly how to use your API |\n",
        "|  **Testing**                | Helps QA/testers know what to test and expect                               |\n",
        "|  **Collaboration**          | Backend and frontend teams can work in parallel                             |\n",
        "|  **Code Generation**        | Tools like Swagger/OpenAPI can auto-generate code and docs                  |\n",
        "|  **Consistency & Security** | Makes it easier to follow uniform practices across endpoints                |\n",
        "\n",
        "- Example:"
      ],
      "metadata": {
        "id": "zFFy3dAPpDWY"
      }
    },
    {
      "cell_type": "code",
      "source": [
        "from flask import Flask, request, jsonify\n",
        "\n",
        "app = Flask(__name__)\n",
        "\n",
        "# In-memory book list\n",
        "books = []\n",
        "\n",
        "@app.route('/books', methods=['POST'])\n",
        "def add_book():\n",
        "    data = request.get_json()\n",
        "\n",
        "    if not data or 'title' not in data or 'author' not in data:\n",
        "        return jsonify({\"error\": \"Missing 'title' or 'author'\"}), 400\n",
        "\n",
        "    new_book = {\n",
        "        \"id\": len(books) + 1,\n",
        "        \"title\": data['title'],\n",
        "        \"author\": data['author']\n",
        "    }\n",
        "    books.append(new_book)\n",
        "    return jsonify(new_book), 201\n",
        "\n",
        "@app.route('/books', methods=['GET'])\n",
        "def get_books():\n",
        "    return jsonify(books), 200\n",
        "\n",
        "if __name__ == '__main__':\n",
        "    app.run(debug=True)\n"
      ],
      "metadata": {
        "colab": {
          "base_uri": "https://localhost:8080/"
        },
        "id": "WGl8n3XmqHKv",
        "outputId": "75d4616b-b882-4062-c3de-a78e584101d4"
      },
      "execution_count": 25,
      "outputs": [
        {
          "output_type": "stream",
          "name": "stdout",
          "text": [
            " * Serving Flask app '__main__'\n",
            " * Debug mode: on\n"
          ]
        },
        {
          "output_type": "stream",
          "name": "stderr",
          "text": [
            "INFO:werkzeug:\u001b[31m\u001b[1mWARNING: This is a development server. Do not use it in a production deployment. Use a production WSGI server instead.\u001b[0m\n",
            " * Running on http://127.0.0.1:5000\n",
            "INFO:werkzeug:\u001b[33mPress CTRL+C to quit\u001b[0m\n",
            "INFO:werkzeug: * Restarting with stat\n",
            "ERROR:root:Unexpected exception finding object shape\n",
            "Traceback (most recent call last):\n",
            "  File \"/usr/local/lib/python3.11/dist-packages/google/colab/_debugpy_repr.py\", line 54, in get_shape\n",
            "    shape = getattr(obj, 'shape', None)\n",
            "            ^^^^^^^^^^^^^^^^^^^^^^^^^^^\n",
            "  File \"/usr/local/lib/python3.11/dist-packages/werkzeug/local.py\", line 318, in __get__\n",
            "    obj = instance._get_current_object()\n",
            "          ^^^^^^^^^^^^^^^^^^^^^^^^^^^^^^\n",
            "  File \"/usr/local/lib/python3.11/dist-packages/werkzeug/local.py\", line 519, in _get_current_object\n",
            "    raise RuntimeError(unbound_message) from None\n",
            "RuntimeError: Working outside of request context.\n",
            "\n",
            "This typically means that you attempted to use functionality that needed\n",
            "an active HTTP request. Consult the documentation on testing for\n",
            "information about how to avoid this problem.\n"
          ]
        }
      ]
    },
    {
      "cell_type": "markdown",
      "source": [
        "**19.\tWhat are HTTP status codes, and why are they important in a Flask API?**\n",
        "\n",
        "- What Are HTTP Status Codes?\n",
        "\n",
        " - HTTP status codes are 3-digit numbers sent by a server in response to a client's request (like a browser, mobile app, or frontend).\n",
        "\n",
        " - They indicate what happened — success, error, or something in between.\n",
        "\n",
        "- In a Flask API, status codes are critical for telling the client if the operation was:\n",
        "\n",
        " - Successful (e.g., 200 OK)\n",
        "\n",
        " - Invalid request (e.g., 400 Bad Request)\n",
        "\n",
        " - Not found (e.g., 404 Not Found)\n",
        "\n",
        " - Unauthorized (e.g., 401 Unauthorized)\n",
        "\n",
        "- Why Are Status Codes Important in APIs?\n",
        "\n",
        "| Reason                  | Explanation                                                       |\n",
        "| ----------------------- | ----------------------------------------------------------------- |\n",
        "|  Communication Clarity | Tells the client what happened clearly (success/failure/redirect) |\n",
        "|  Easier Debugging      | Helps developers understand what went wrong                       |\n",
        "|  Standardization       | Follows HTTP protocol used by browsers, apps, tools               |\n",
        "|  Automation Friendly   | Frontend logic or test scripts can react based on status code     |\n",
        "\n",
        "- Example:"
      ],
      "metadata": {
        "id": "0OUV2gE3qTFg"
      }
    },
    {
      "cell_type": "code",
      "source": [
        "from flask import Flask, jsonify, request\n",
        "\n",
        "app = Flask(__name__)\n",
        "\n",
        "# Sample in-memory data\n",
        "users = [{\"id\": 1, \"name\": \"Alice\"}]\n",
        "\n",
        "@app.route('/users/<int:user_id>', methods=['GET'])\n",
        "def get_user(user_id):\n",
        "    user = next((u for u in users if u['id'] == user_id), None)\n",
        "\n",
        "    if user:\n",
        "        return jsonify(user), 200  # ✅ Success\n",
        "    else:\n",
        "        return jsonify({\"error\": \"User not found\"}), 404  #  Not Found\n",
        "\n",
        "@app.route('/users', methods=['POST'])\n",
        "def add_user():\n",
        "    data = request.get_json()\n",
        "    if not data or 'name' not in data:\n",
        "        return jsonify({\"error\": \"Missing name\"}), 400  #  Bad Request\n",
        "\n",
        "    new_user = {\"id\": len(users) + 1, \"name\": data['name']}\n",
        "    users.append(new_user)\n",
        "    return jsonify(new_user), 201  # ✅ Created\n",
        "\n",
        "@app.route('/')\n",
        "def home():\n",
        "    return \"Try GET /users/1 or POST /users\"\n",
        "\n",
        "if __name__ == '__main__':\n",
        "    app.run(debug=True)\n"
      ],
      "metadata": {
        "colab": {
          "base_uri": "https://localhost:8080/"
        },
        "id": "5Ob0rWagrLr5",
        "outputId": "40e407c3-9d42-42c8-fce9-3bcc8936aec0"
      },
      "execution_count": 26,
      "outputs": [
        {
          "output_type": "stream",
          "name": "stdout",
          "text": [
            " * Serving Flask app '__main__'\n",
            " * Debug mode: on\n"
          ]
        },
        {
          "output_type": "stream",
          "name": "stderr",
          "text": [
            "INFO:werkzeug:\u001b[31m\u001b[1mWARNING: This is a development server. Do not use it in a production deployment. Use a production WSGI server instead.\u001b[0m\n",
            " * Running on http://127.0.0.1:5000\n",
            "INFO:werkzeug:\u001b[33mPress CTRL+C to quit\u001b[0m\n",
            "INFO:werkzeug: * Restarting with stat\n",
            "ERROR:root:Unexpected exception finding object shape\n",
            "Traceback (most recent call last):\n",
            "  File \"/usr/local/lib/python3.11/dist-packages/google/colab/_debugpy_repr.py\", line 54, in get_shape\n",
            "    shape = getattr(obj, 'shape', None)\n",
            "            ^^^^^^^^^^^^^^^^^^^^^^^^^^^\n",
            "  File \"/usr/local/lib/python3.11/dist-packages/werkzeug/local.py\", line 318, in __get__\n",
            "    obj = instance._get_current_object()\n",
            "          ^^^^^^^^^^^^^^^^^^^^^^^^^^^^^^\n",
            "  File \"/usr/local/lib/python3.11/dist-packages/werkzeug/local.py\", line 519, in _get_current_object\n",
            "    raise RuntimeError(unbound_message) from None\n",
            "RuntimeError: Working outside of request context.\n",
            "\n",
            "This typically means that you attempted to use functionality that needed\n",
            "an active HTTP request. Consult the documentation on testing for\n",
            "information about how to avoid this problem.\n"
          ]
        }
      ]
    },
    {
      "cell_type": "markdown",
      "source": [
        "**20.\tHow do you handle POST requests in Flask?**\n",
        "\n",
        "- 🔍 What Is a POST Request?\n",
        "\n",
        "- In HTTP, a POST request is used to send data to the server, usually to create a new resource like:\n",
        "\n",
        " - Registering a user\n",
        "\n",
        " - Submitting a form\n",
        "\n",
        " - Creating a new record in a database\n",
        "\n",
        "- In Flask, you handle POST requests by:\n",
        "\n",
        " 1. Defining a route with methods=['POST']\n",
        "\n",
        " 2. Getting the data from the client using request.form, request.json, or request.get_json()\n",
        "\n",
        " 3. Processing or saving that data\n",
        "\n",
        " 4. Sending a response (usually with jsonify() and a status code)\n",
        "\n",
        "- Step-by-Step Breakdown:\n",
        "\n",
        "| Step                    | Code/Concept                             | Purpose                         |\n",
        "| ----------------------- | ---------------------------------------- | ------------------------------- |\n",
        "| Declare route with POST | `@app.route('/books', methods=['POST'])` | Listens for POST requests       |\n",
        "| Get client data         | `request.get_json()`                     | Parses JSON from request body   |\n",
        "| Validate input          | `if not data or 'title' not in data:`    | Checks if required fields exist |\n",
        "| Store/process data      | `books.append(...)`                      | Add to DB or in-memory list     |\n",
        "| Send response           | `return jsonify(...), 201`               | Confirm creation success        |\n",
        "\n",
        "- Example:\n"
      ],
      "metadata": {
        "id": "sCy0aIXCrSIO"
      }
    },
    {
      "cell_type": "code",
      "source": [
        "from flask import Flask, request, jsonify\n",
        "\n",
        "app = Flask(__name__)\n",
        "\n",
        "# In-memory data store\n",
        "books = []\n",
        "\n",
        "@app.route('/books', methods=['POST'])\n",
        "def create_book():\n",
        "    data = request.get_json()  # 👈 read JSON from client request\n",
        "\n",
        "    # Validate required fields\n",
        "    if not data or 'title' not in data or 'author' not in data:\n",
        "        return jsonify({'error': 'Missing title or author'}), 400\n",
        "\n",
        "    new_book = {\n",
        "        'id': len(books) + 1,\n",
        "        'title': data['title'],\n",
        "        'author': data['author']\n",
        "    }\n",
        "\n",
        "    books.append(new_book)  # Save in memory (or DB in real apps)\n",
        "    return jsonify(new_book), 201  # 201 = Created\n",
        "\n",
        "# Optional GET route to confirm\n",
        "@app.route('/books', methods=['GET'])\n",
        "def get_books():\n",
        "    return jsonify(books), 200\n",
        "\n",
        "@app.route('/')\n",
        "def home():\n",
        "    return \"POST to /books with JSON {title, author}\"\n",
        "\n",
        "if __name__ == '__main__':\n",
        "    app.run(debug=True)\n"
      ],
      "metadata": {
        "colab": {
          "base_uri": "https://localhost:8080/"
        },
        "id": "dxyAlaEosM0Q",
        "outputId": "9603e3f6-21d1-478e-be43-8180da87e9d7"
      },
      "execution_count": 27,
      "outputs": [
        {
          "output_type": "stream",
          "name": "stdout",
          "text": [
            " * Serving Flask app '__main__'\n",
            " * Debug mode: on\n"
          ]
        },
        {
          "output_type": "stream",
          "name": "stderr",
          "text": [
            "INFO:werkzeug:\u001b[31m\u001b[1mWARNING: This is a development server. Do not use it in a production deployment. Use a production WSGI server instead.\u001b[0m\n",
            " * Running on http://127.0.0.1:5000\n",
            "INFO:werkzeug:\u001b[33mPress CTRL+C to quit\u001b[0m\n",
            "INFO:werkzeug: * Restarting with stat\n"
          ]
        }
      ]
    },
    {
      "cell_type": "markdown",
      "source": [
        "**21.\tHow would you secure a Flask API?**\n",
        "\n",
        "- Securing a Flask API involves protecting it against unauthorized access, data tampering, and common web vulnerabilities like injection, CSRF, and more.\n",
        "\n",
        "- Let’s break this down step by step, with practical methods, code examples, and security best practices.\n",
        "\n",
        "1. Authentication (Who are you?)\n",
        "\n",
        "- Option A: API Key Authentication\n",
        "\n",
        " - Client sends a key in the header, and your Flask app checks if it’s valid.\n",
        "\n",
        "- Option B: Token-Based Authentication (JWT)\n",
        "\n",
        " - With JWT (JSON Web Token), the client logs in once and gets a token. Every future request includes the token in the headers.\n",
        "\n",
        "- Summary: Key Flask Security Measures\n",
        "\n",
        "| Feature            | How to Implement                        |\n",
        "| ------------------ | --------------------------------------- |\n",
        "| Authentication     | API keys or JWT tokens                  |\n",
        "| Authorization      | User roles, identity checks             |\n",
        "| HTTPS              | Enforce SSL with certificates           |\n",
        "| Input Validation   | Use Pydantic, Marshmallow, Flask-WTF    |\n",
        "| Rate Limiting      | Use `flask-limiter`                     |\n",
        "| Secure Headers     | Set CORS, Content-Type, X-Frame-Options |\n",
        "| Error Handling     | Never expose internal errors to clients |\n",
        "| Secrets Management | Use `.env` + `python-dotenv`            |\n",
        "\n",
        "- Example:"
      ],
      "metadata": {
        "id": "YFHXdUw4sQQF"
      }
    },
    {
      "cell_type": "code",
      "source": [
        "from flask import Flask, jsonify\n",
        "from flask_jwt_extended import JWTManager, create_access_token, jwt_required\n",
        "\n",
        "app = Flask(__name__)\n",
        "app.config[\"JWT_SECRET_KEY\"] = \"super-secret\"\n",
        "jwt = JWTManager(app)\n",
        "\n",
        "@app.route('/login', methods=['POST'])\n",
        "def login():\n",
        "    # Hardcoded credentials for demo\n",
        "    access_token = create_access_token(identity={\"username\": \"admin\"})\n",
        "    return jsonify(access_token=access_token)\n",
        "\n",
        "@app.route('/dashboard')\n",
        "@jwt_required()\n",
        "def dashboard():\n",
        "    return jsonify(message=\"Welcome to your secure dashboard!\")\n",
        "\n",
        "if __name__ == '__main__':\n",
        "    app.run(debug=True)\n"
      ],
      "metadata": {
        "id": "-JTR-jMRtHpr"
      },
      "execution_count": null,
      "outputs": []
    },
    {
      "cell_type": "markdown",
      "source": [
        "**22.\tWhat is the significance of the Flask-RESTful extension?**\n",
        "\n",
        "- What Is Flask-RESTful?\n",
        "\n",
        " - Flask-RESTful is a Flask extension that helps you build RESTful APIs faster and more cleanly.\n",
        "\n",
        " - It provides a class-based approach to define endpoints and comes with features like:\n",
        "\n",
        " - Request parsing and validation\n",
        "\n",
        " - Auto-generated HTTP status codes\n",
        "\n",
        " - Clean separation of logic via Resource classes\n",
        "\n",
        " - Better organization for large APIs\n",
        "\n",
        "- Why Use Flask-RESTful Instead of Vanilla Flask?\n",
        "\n",
        "| Feature                      | Vanilla Flask                    | Flask-RESTful                       |\n",
        "| ---------------------------- | -------------------------------- | ----------------------------------- |\n",
        "| Route Definition             | `@app.route()`                   | `api.add_resource()`                |\n",
        "| Logic Organization           | Functions                        | Classes (`Resource`)                |\n",
        "| Request Validation           | Manual with `request.get_json()` | Automatic with `reqparse`           |\n",
        "| Standardized Response Format | Manual                           | `marshal_with`, `fields` (optional) |\n",
        "\n",
        "- Benefits of Flask-RESTful\n",
        "\n",
        "| Feature                   | Benefit                                                  |\n",
        "| ------------------------- | -------------------------------------------------------- |\n",
        "|  Class-Based Views      | Separate logic per endpoint (cleaner code)               |\n",
        "|  Request Validation     | Built-in request parsing and required fields             |\n",
        "|  JSON Response Handling | Automatic conversion to `application/json`               |\n",
        "|  Consistency            | Promotes RESTful best practices (one class per resource) |\n",
        "\n",
        "- Example:"
      ],
      "metadata": {
        "id": "HJvrT1dCtUji"
      }
    },
    {
      "cell_type": "code",
      "source": [
        "from flask import Flask, request\n",
        "from flask_restful import Resource, Api, reqparse\n",
        "\n",
        "app = Flask(__name__)\n",
        "api = Api(app)  # 🔗 Create a Flask-RESTful API instance\n",
        "\n",
        "books = [\n",
        "    {'id': 1, 'title': 'Flask 101', 'author': 'Alice'},\n",
        "    {'id': 2, 'title': 'RESTful APIs', 'author': 'Bob'}\n",
        "]\n",
        "\n",
        "# Request parser for POST and PUT\n",
        "book_parser = reqparse.RequestParser()\n",
        "book_parser.add_argument('title', type=str, required=True, help=\"Title is required\")\n",
        "book_parser.add_argument('author', type=str, required=True, help=\"Author is required\")\n",
        "\n",
        "# Resource for all books\n",
        "class BookList(Resource):\n",
        "    def get(self):\n",
        "        return books, 200\n",
        "\n",
        "    def post(self):\n",
        "        args = book_parser.parse_args()\n",
        "        new_book = {\n",
        "            'id': len(books) + 1,\n",
        "            'title': args['title'],\n",
        "            'author': args['author']\n",
        "        }\n",
        "        books.append(new_book)\n",
        "        return new_book, 201\n",
        "\n",
        "# Resource for single book\n",
        "class Book(Resource):\n",
        "    def get(self, id):\n",
        "        book = next((b for b in books if b['id'] == id), None)\n",
        "        if book:\n",
        "            return book, 200\n",
        "        return {'error': 'Book not found'}, 404\n",
        "\n",
        "    def put(self, id):\n",
        "        args = book_parser.parse_args()\n",
        "        for book in books:\n",
        "            if book['id'] == id:\n",
        "                book['title'] = args['title']\n",
        "                book['author'] = args['author']\n",
        "                return book, 200\n",
        "        return {'error': 'Book not found'}, 404\n",
        "\n",
        "    def delete(self, id):\n",
        "        global books\n",
        "        books = [b for b in books if b['id'] != id]\n",
        "        return {'message': 'Book deleted'}, 200\n",
        "\n",
        "# Register resources with endpoints\n",
        "api.add_resource(BookList, '/books')        # Handles GET/POST\n",
        "api.add_resource(Book, '/books/<int:id>')   # Handles GET/PUT/DELETE\n",
        "\n",
        "@app.route('/')\n",
        "def home():\n",
        "    return \"Flask-RESTful API Running! Try /books\"\n",
        "\n",
        "if __name__ == '__main__':\n",
        "    app.run(debug=True)\n"
      ],
      "metadata": {
        "id": "i1HouhunuMvK"
      },
      "execution_count": null,
      "outputs": []
    },
    {
      "cell_type": "markdown",
      "source": [
        "**23.\tWhat is the role of Flask’s session object?**\n",
        "\n",
        "- What Is session in Flask?\n",
        "\n",
        "- The session object in Flask is used to store data across multiple requests for a specific user — like a temporary memory that lives between page loads or API calls.\n",
        "\n",
        "- Flask sessions:\n",
        "\n",
        " - Are unique to each user (identified via a secure cookie)\n",
        "\n",
        " - Store small pieces of data like login info, preferences, cart items, etc.\n",
        "\n",
        " - Are stored on the client-side, but signed and encrypted so they can't be tampered with\n",
        "\n",
        "- Why Use session?\n",
        "\n",
        "| Use Case                    | Example                          |\n",
        "| --------------------------- | -------------------------------- |\n",
        "|  User Authentication       | Store `user_id` after login      |\n",
        "|  Shopping Cart             | Save items added before checkout |\n",
        "|  Remember User Preferences | Theme, language, dark mode, etc. |\n",
        "\n",
        "- Example:"
      ],
      "metadata": {
        "id": "pZ-aHnHHuT6H"
      }
    },
    {
      "cell_type": "code",
      "source": [
        "from flask import Flask, session, redirect, url_for, request, jsonify\n",
        "\n",
        "app = Flask(__name__)\n",
        "app.secret_key = 'supersecretkey'  # Required to encrypt session cookies\n",
        "\n",
        "@app.route('/')\n",
        "def home():\n",
        "    if 'username' in session:\n",
        "        return f\"Welcome back, {session['username']}!\"\n",
        "    return \"You are not logged in.\"\n",
        "\n",
        "@app.route('/login', methods=['POST'])\n",
        "def login():\n",
        "    data = request.get_json()\n",
        "    username = data.get('username')\n",
        "\n",
        "    if username:\n",
        "        session['username'] = username  # ✅ Store username in session\n",
        "        return jsonify(message=f\"{username} logged in\"), 200\n",
        "    return jsonify(error=\"Username required\"), 400\n",
        "\n",
        "@app.route('/logout')\n",
        "def logout():\n",
        "    session.pop('username', None)  # ✅ Remove user from session\n",
        "    return \"Logged out\"\n",
        "\n",
        "@app.route('/session-data')\n",
        "def session_data():\n",
        "    return jsonify(session=dict(session))  # 🔍 Show what's in session\n",
        "\n",
        "if __name__ == '__main__':\n",
        "    app.run(debug=True)\n"
      ],
      "metadata": {
        "colab": {
          "base_uri": "https://localhost:8080/"
        },
        "id": "iiygbdFOu4ot",
        "outputId": "8a55b2c3-c2c1-4534-abe0-a49c94ac004f"
      },
      "execution_count": 31,
      "outputs": [
        {
          "output_type": "stream",
          "name": "stdout",
          "text": [
            " * Serving Flask app '__main__'\n",
            " * Debug mode: on\n"
          ]
        },
        {
          "output_type": "stream",
          "name": "stderr",
          "text": [
            "INFO:werkzeug:\u001b[31m\u001b[1mWARNING: This is a development server. Do not use it in a production deployment. Use a production WSGI server instead.\u001b[0m\n",
            " * Running on http://127.0.0.1:5000\n",
            "INFO:werkzeug:\u001b[33mPress CTRL+C to quit\u001b[0m\n",
            "INFO:werkzeug: * Restarting with stat\n",
            "ERROR:root:Unexpected exception finding object shape\n",
            "Traceback (most recent call last):\n",
            "  File \"/usr/local/lib/python3.11/dist-packages/google/colab/_debugpy_repr.py\", line 54, in get_shape\n",
            "    shape = getattr(obj, 'shape', None)\n",
            "            ^^^^^^^^^^^^^^^^^^^^^^^^^^^\n",
            "  File \"/usr/local/lib/python3.11/dist-packages/werkzeug/local.py\", line 318, in __get__\n",
            "    obj = instance._get_current_object()\n",
            "          ^^^^^^^^^^^^^^^^^^^^^^^^^^^^^^\n",
            "  File \"/usr/local/lib/python3.11/dist-packages/werkzeug/local.py\", line 519, in _get_current_object\n",
            "    raise RuntimeError(unbound_message) from None\n",
            "RuntimeError: Working outside of request context.\n",
            "\n",
            "This typically means that you attempted to use functionality that needed\n",
            "an active HTTP request. Consult the documentation on testing for\n",
            "information about how to avoid this problem.\n",
            "ERROR:root:Unexpected exception finding object shape\n",
            "Traceback (most recent call last):\n",
            "  File \"/usr/local/lib/python3.11/dist-packages/google/colab/_debugpy_repr.py\", line 54, in get_shape\n",
            "    shape = getattr(obj, 'shape', None)\n",
            "            ^^^^^^^^^^^^^^^^^^^^^^^^^^^\n",
            "  File \"/usr/local/lib/python3.11/dist-packages/werkzeug/local.py\", line 318, in __get__\n",
            "    obj = instance._get_current_object()\n",
            "          ^^^^^^^^^^^^^^^^^^^^^^^^^^^^^^\n",
            "  File \"/usr/local/lib/python3.11/dist-packages/werkzeug/local.py\", line 519, in _get_current_object\n",
            "    raise RuntimeError(unbound_message) from None\n",
            "RuntimeError: Working outside of request context.\n",
            "\n",
            "This typically means that you attempted to use functionality that needed\n",
            "an active HTTP request. Consult the documentation on testing for\n",
            "information about how to avoid this problem.\n"
          ]
        }
      ]
    },
    {
      "cell_type": "markdown",
      "source": [
        "# **Practical Questions**"
      ],
      "metadata": {
        "id": "xv7cJW3vvGOt"
      }
    },
    {
      "cell_type": "markdown",
      "source": [
        "**1.\tHow do you create a basic Flask application?**"
      ],
      "metadata": {
        "id": "N-8YzcvDvSj-"
      }
    },
    {
      "cell_type": "code",
      "source": [
        "from flask import Flask\n",
        "\n",
        "# Create a Flask app instance\n",
        "app = Flask(__name__)\n",
        "\n",
        "# Define a route for the homepage\n",
        "@app.route('/')\n",
        "def home():\n",
        "    return \"Hello, Flask! Welcome to your first web app.\"\n",
        "\n",
        "# Start the development server\n",
        "if __name__ == '__main__':\n",
        "    app.run(debug=True)\n"
      ],
      "metadata": {
        "colab": {
          "base_uri": "https://localhost:8080/"
        },
        "id": "8-dwMdEHwD4l",
        "outputId": "6ad46dcf-ca1a-4b05-e23a-816b1a1d5d37"
      },
      "execution_count": 32,
      "outputs": [
        {
          "output_type": "stream",
          "name": "stdout",
          "text": [
            " * Serving Flask app '__main__'\n",
            " * Debug mode: on\n"
          ]
        },
        {
          "output_type": "stream",
          "name": "stderr",
          "text": [
            "INFO:werkzeug:\u001b[31m\u001b[1mWARNING: This is a development server. Do not use it in a production deployment. Use a production WSGI server instead.\u001b[0m\n",
            " * Running on http://127.0.0.1:5000\n",
            "INFO:werkzeug:\u001b[33mPress CTRL+C to quit\u001b[0m\n",
            "INFO:werkzeug: * Restarting with stat\n",
            "ERROR:root:Unexpected exception finding object shape\n",
            "Traceback (most recent call last):\n",
            "  File \"/usr/local/lib/python3.11/dist-packages/google/colab/_debugpy_repr.py\", line 54, in get_shape\n",
            "    shape = getattr(obj, 'shape', None)\n",
            "            ^^^^^^^^^^^^^^^^^^^^^^^^^^^\n",
            "  File \"/usr/local/lib/python3.11/dist-packages/werkzeug/local.py\", line 318, in __get__\n",
            "    obj = instance._get_current_object()\n",
            "          ^^^^^^^^^^^^^^^^^^^^^^^^^^^^^^\n",
            "  File \"/usr/local/lib/python3.11/dist-packages/werkzeug/local.py\", line 519, in _get_current_object\n",
            "    raise RuntimeError(unbound_message) from None\n",
            "RuntimeError: Working outside of request context.\n",
            "\n",
            "This typically means that you attempted to use functionality that needed\n",
            "an active HTTP request. Consult the documentation on testing for\n",
            "information about how to avoid this problem.\n",
            "ERROR:root:Unexpected exception finding object shape\n",
            "Traceback (most recent call last):\n",
            "  File \"/usr/local/lib/python3.11/dist-packages/google/colab/_debugpy_repr.py\", line 54, in get_shape\n",
            "    shape = getattr(obj, 'shape', None)\n",
            "            ^^^^^^^^^^^^^^^^^^^^^^^^^^^\n",
            "  File \"/usr/local/lib/python3.11/dist-packages/werkzeug/local.py\", line 318, in __get__\n",
            "    obj = instance._get_current_object()\n",
            "          ^^^^^^^^^^^^^^^^^^^^^^^^^^^^^^\n",
            "  File \"/usr/local/lib/python3.11/dist-packages/werkzeug/local.py\", line 519, in _get_current_object\n",
            "    raise RuntimeError(unbound_message) from None\n",
            "RuntimeError: Working outside of request context.\n",
            "\n",
            "This typically means that you attempted to use functionality that needed\n",
            "an active HTTP request. Consult the documentation on testing for\n",
            "information about how to avoid this problem.\n"
          ]
        }
      ]
    },
    {
      "cell_type": "markdown",
      "source": [
        "**2.\tHow do you serve static files like images or CSS in Flask?**"
      ],
      "metadata": {
        "id": "dmH9BbUywPXU"
      }
    },
    {
      "cell_type": "code",
      "source": [
        "from flask import Flask, render_template\n",
        "import os\n",
        "\n",
        "app = Flask(__name__)\n",
        "\n",
        "@app.route('/')\n",
        "def home():\n",
        "    return render_template(\"index.html\")\n",
        "\n",
        "if __name__ == '__main__':\n",
        "    # Ensure folders exist\n",
        "    os.makedirs(\"static\", exist_ok=True)\n",
        "    os.makedirs(\"templates\", exist_ok=True)\n",
        "\n",
        "    # Auto-generate static/style.css if it doesn't exist\n",
        "    if not os.path.exists(\"static/style.css\"):\n",
        "        with open(\"static/style.css\", \"w\") as f:\n",
        "            f.write(\"\"\"\n",
        "body {\n",
        "    background-color: #f2f2f2;\n",
        "    font-family: Arial, sans-serif;\n",
        "    text-align: center;\n",
        "    padding-top: 50px;\n",
        "}\n",
        "\n",
        "h1 {\n",
        "    color: #007BFF;\n",
        "}\n",
        "\"\"\")\n",
        "\n",
        "    # Auto-generate templates/index.html if it doesn't exist\n",
        "    if not os.path.exists(\"templates/index.html\"):\n",
        "        with open(\"templates/index.html\", \"w\") as f:\n",
        "            f.write(\"\"\"\n",
        "<!DOCTYPE html>\n",
        "<html>\n",
        "<head>\n",
        "    <title>Static Files in Flask</title>\n",
        "    <link rel=\"stylesheet\" href=\"{{ url_for('static', filename='style.css') }}\">\n",
        "</head>\n",
        "<body>\n",
        "    <h1>Welcome to Flask Static Example</h1>\n",
        "    <p>This is styled with static CSS.</p>\n",
        "    <img src=\"{{ url_for('static', filename='logo.png') }}\" alt=\"Logo\" width=\"200\">\n",
        "</body>\n",
        "</html>\n",
        "\"\"\")\n",
        "\n",
        "    print(\"📁 Add a file named 'logo.png' in the 'static/' folder before running.\")\n",
        "    app.run(debug=True)\n"
      ],
      "metadata": {
        "colab": {
          "base_uri": "https://localhost:8080/"
        },
        "id": "uoCKIXBHwTBi",
        "outputId": "8629337a-7c3d-4ac1-c5e2-59261ba2e22f"
      },
      "execution_count": 33,
      "outputs": [
        {
          "output_type": "stream",
          "name": "stdout",
          "text": [
            "📁 Add a file named 'logo.png' in the 'static/' folder before running.\n",
            " * Serving Flask app '__main__'\n",
            " * Debug mode: on\n"
          ]
        },
        {
          "output_type": "stream",
          "name": "stderr",
          "text": [
            "INFO:werkzeug:\u001b[31m\u001b[1mWARNING: This is a development server. Do not use it in a production deployment. Use a production WSGI server instead.\u001b[0m\n",
            " * Running on http://127.0.0.1:5000\n",
            "INFO:werkzeug:\u001b[33mPress CTRL+C to quit\u001b[0m\n",
            "INFO:werkzeug: * Restarting with stat\n",
            "ERROR:root:Unexpected exception finding object shape\n",
            "Traceback (most recent call last):\n",
            "  File \"/usr/local/lib/python3.11/dist-packages/google/colab/_debugpy_repr.py\", line 54, in get_shape\n",
            "    shape = getattr(obj, 'shape', None)\n",
            "            ^^^^^^^^^^^^^^^^^^^^^^^^^^^\n",
            "  File \"/usr/local/lib/python3.11/dist-packages/werkzeug/local.py\", line 318, in __get__\n",
            "    obj = instance._get_current_object()\n",
            "          ^^^^^^^^^^^^^^^^^^^^^^^^^^^^^^\n",
            "  File \"/usr/local/lib/python3.11/dist-packages/werkzeug/local.py\", line 519, in _get_current_object\n",
            "    raise RuntimeError(unbound_message) from None\n",
            "RuntimeError: Working outside of request context.\n",
            "\n",
            "This typically means that you attempted to use functionality that needed\n",
            "an active HTTP request. Consult the documentation on testing for\n",
            "information about how to avoid this problem.\n",
            "ERROR:root:Unexpected exception finding object shape\n",
            "Traceback (most recent call last):\n",
            "  File \"/usr/local/lib/python3.11/dist-packages/google/colab/_debugpy_repr.py\", line 54, in get_shape\n",
            "    shape = getattr(obj, 'shape', None)\n",
            "            ^^^^^^^^^^^^^^^^^^^^^^^^^^^\n",
            "  File \"/usr/local/lib/python3.11/dist-packages/werkzeug/local.py\", line 318, in __get__\n",
            "    obj = instance._get_current_object()\n",
            "          ^^^^^^^^^^^^^^^^^^^^^^^^^^^^^^\n",
            "  File \"/usr/local/lib/python3.11/dist-packages/werkzeug/local.py\", line 519, in _get_current_object\n",
            "    raise RuntimeError(unbound_message) from None\n",
            "RuntimeError: Working outside of request context.\n",
            "\n",
            "This typically means that you attempted to use functionality that needed\n",
            "an active HTTP request. Consult the documentation on testing for\n",
            "information about how to avoid this problem.\n"
          ]
        }
      ]
    },
    {
      "cell_type": "markdown",
      "source": [
        "**3.\tHow do you define different routes with different HTTP methods in Flask?**"
      ],
      "metadata": {
        "id": "4XiQFmoCwokh"
      }
    },
    {
      "cell_type": "code",
      "source": [
        "from flask import Flask, request, jsonify\n",
        "\n",
        "app = Flask(__name__)\n",
        "\n",
        "# Sample in-memory data\n",
        "books = [\n",
        "    {\"id\": 1, \"title\": \"Flask Basics\"},\n",
        "    {\"id\": 2, \"title\": \"RESTful APIs\"}\n",
        "]\n",
        "\n",
        "# 🔹 Route: Handle GET and POST on /books\n",
        "@app.route('/books', methods=['GET', 'POST'])\n",
        "def books_handler():\n",
        "    if request.method == 'GET':\n",
        "        return jsonify(books), 200  #  List all books\n",
        "\n",
        "    elif request.method == 'POST':\n",
        "        data = request.get_json()\n",
        "        if not data or 'title' not in data:\n",
        "            return jsonify({\"error\": \"Missing 'title'\"}), 400\n",
        "        new_book = {\n",
        "            \"id\": len(books) + 1,\n",
        "            \"title\": data['title']\n",
        "        }\n",
        "        books.append(new_book)\n",
        "        return jsonify(new_book), 201  # ✅ Created\n",
        "\n",
        "# 🔹 Route: Handle GET, PUT, DELETE on /books/<int:id>\n",
        "@app.route('/books/<int:id>', methods=['GET', 'PUT', 'DELETE'])\n",
        "def book_handler(id):\n",
        "    book = next((b for b in books if b['id'] == id), None)\n",
        "    if not book:\n",
        "        return jsonify({\"error\": \"Book not found\"}), 404\n",
        "\n",
        "    if request.method == 'GET':\n",
        "        return jsonify(book), 200\n",
        "\n",
        "    elif request.method == 'PUT':\n",
        "        data = request.get_json()\n",
        "        book['title'] = data.get('title', book['title'])\n",
        "        return jsonify(book), 200\n",
        "\n",
        "    elif request.method == 'DELETE':\n",
        "        books.remove(book)\n",
        "        return jsonify({\"message\": \"Book deleted\"}), 200\n",
        "\n",
        "@app.route('/')\n",
        "def home():\n",
        "    return \"Try GET/POST /books or GET/PUT/DELETE /books/<id>\"\n",
        "\n",
        "if __name__ == '__main__':\n",
        "    app.run(debug=True)\n"
      ],
      "metadata": {
        "colab": {
          "base_uri": "https://localhost:8080/"
        },
        "id": "L74htfYxwww1",
        "outputId": "fe29c9c9-7b80-4aff-8c67-e98429fba8ba"
      },
      "execution_count": 34,
      "outputs": [
        {
          "output_type": "stream",
          "name": "stdout",
          "text": [
            " * Serving Flask app '__main__'\n",
            " * Debug mode: on\n"
          ]
        },
        {
          "output_type": "stream",
          "name": "stderr",
          "text": [
            "INFO:werkzeug:\u001b[31m\u001b[1mWARNING: This is a development server. Do not use it in a production deployment. Use a production WSGI server instead.\u001b[0m\n",
            " * Running on http://127.0.0.1:5000\n",
            "INFO:werkzeug:\u001b[33mPress CTRL+C to quit\u001b[0m\n",
            "INFO:werkzeug: * Restarting with stat\n",
            "ERROR:root:Unexpected exception finding object shape\n",
            "Traceback (most recent call last):\n",
            "  File \"/usr/local/lib/python3.11/dist-packages/google/colab/_debugpy_repr.py\", line 54, in get_shape\n",
            "    shape = getattr(obj, 'shape', None)\n",
            "            ^^^^^^^^^^^^^^^^^^^^^^^^^^^\n",
            "  File \"/usr/local/lib/python3.11/dist-packages/werkzeug/local.py\", line 318, in __get__\n",
            "    obj = instance._get_current_object()\n",
            "          ^^^^^^^^^^^^^^^^^^^^^^^^^^^^^^\n",
            "  File \"/usr/local/lib/python3.11/dist-packages/werkzeug/local.py\", line 519, in _get_current_object\n",
            "    raise RuntimeError(unbound_message) from None\n",
            "RuntimeError: Working outside of request context.\n",
            "\n",
            "This typically means that you attempted to use functionality that needed\n",
            "an active HTTP request. Consult the documentation on testing for\n",
            "information about how to avoid this problem.\n",
            "ERROR:root:Unexpected exception finding object shape\n",
            "Traceback (most recent call last):\n",
            "  File \"/usr/local/lib/python3.11/dist-packages/google/colab/_debugpy_repr.py\", line 54, in get_shape\n",
            "    shape = getattr(obj, 'shape', None)\n",
            "            ^^^^^^^^^^^^^^^^^^^^^^^^^^^\n",
            "  File \"/usr/local/lib/python3.11/dist-packages/werkzeug/local.py\", line 318, in __get__\n",
            "    obj = instance._get_current_object()\n",
            "          ^^^^^^^^^^^^^^^^^^^^^^^^^^^^^^\n",
            "  File \"/usr/local/lib/python3.11/dist-packages/werkzeug/local.py\", line 519, in _get_current_object\n",
            "    raise RuntimeError(unbound_message) from None\n",
            "RuntimeError: Working outside of request context.\n",
            "\n",
            "This typically means that you attempted to use functionality that needed\n",
            "an active HTTP request. Consult the documentation on testing for\n",
            "information about how to avoid this problem.\n"
          ]
        }
      ]
    },
    {
      "cell_type": "markdown",
      "source": [
        "**4.\tHow do you render HTML templates in Flask?**\n"
      ],
      "metadata": {
        "id": "67_fSmgww-YO"
      }
    },
    {
      "cell_type": "code",
      "source": [
        "from flask import Flask, render_template\n",
        "\n",
        "app = Flask(__name__)\n",
        "\n",
        "@app.route('/')\n",
        "def home():\n",
        "    user = {\n",
        "        'name': 'Vishal Jadhav',\n",
        "        'role': 'Developer',\n",
        "        'skills': ['Python', 'Flask', 'React']\n",
        "    }\n",
        "    return render_template('home.html', user=user)\n",
        "\n",
        "if __name__ == '__main__':\n",
        "    app.run(debug=True)\n",
        "\n",
        "\n",
        "'''\n",
        "<!DOCTYPE html>\n",
        "<html>\n",
        "<head>\n",
        "    <title>Welcome {{ user.name }}</title>\n",
        "</head>\n",
        "<body>\n",
        "    <h1>Hello, {{ user.name }}!</h1>\n",
        "    <p>Your role: {{ user.role }}</p>\n",
        "\n",
        "    <h3>Skills:</h3>\n",
        "    <ul>\n",
        "        {% for skill in user.skills %}\n",
        "        <li>{{ skill }}</li>\n",
        "        {% endfor %}\n",
        "    </ul>\n",
        "</body>\n",
        "</html>\n",
        "'''"
      ],
      "metadata": {
        "colab": {
          "base_uri": "https://localhost:8080/",
          "height": 695
        },
        "id": "ELU8g8uuxG7B",
        "outputId": "9efde75d-2c94-4f40-eb83-9f60729c4563"
      },
      "execution_count": 35,
      "outputs": [
        {
          "output_type": "stream",
          "name": "stdout",
          "text": [
            " * Serving Flask app '__main__'\n",
            " * Debug mode: on\n"
          ]
        },
        {
          "output_type": "stream",
          "name": "stderr",
          "text": [
            "INFO:werkzeug:\u001b[31m\u001b[1mWARNING: This is a development server. Do not use it in a production deployment. Use a production WSGI server instead.\u001b[0m\n",
            " * Running on http://127.0.0.1:5000\n",
            "INFO:werkzeug:\u001b[33mPress CTRL+C to quit\u001b[0m\n",
            "INFO:werkzeug: * Restarting with stat\n",
            "ERROR:root:Unexpected exception finding object shape\n",
            "Traceback (most recent call last):\n",
            "  File \"/usr/local/lib/python3.11/dist-packages/google/colab/_debugpy_repr.py\", line 54, in get_shape\n",
            "    shape = getattr(obj, 'shape', None)\n",
            "            ^^^^^^^^^^^^^^^^^^^^^^^^^^^\n",
            "  File \"/usr/local/lib/python3.11/dist-packages/werkzeug/local.py\", line 318, in __get__\n",
            "    obj = instance._get_current_object()\n",
            "          ^^^^^^^^^^^^^^^^^^^^^^^^^^^^^^\n",
            "  File \"/usr/local/lib/python3.11/dist-packages/werkzeug/local.py\", line 519, in _get_current_object\n",
            "    raise RuntimeError(unbound_message) from None\n",
            "RuntimeError: Working outside of request context.\n",
            "\n",
            "This typically means that you attempted to use functionality that needed\n",
            "an active HTTP request. Consult the documentation on testing for\n",
            "information about how to avoid this problem.\n",
            "ERROR:root:Unexpected exception finding object shape\n",
            "Traceback (most recent call last):\n",
            "  File \"/usr/local/lib/python3.11/dist-packages/google/colab/_debugpy_repr.py\", line 54, in get_shape\n",
            "    shape = getattr(obj, 'shape', None)\n",
            "            ^^^^^^^^^^^^^^^^^^^^^^^^^^^\n",
            "  File \"/usr/local/lib/python3.11/dist-packages/werkzeug/local.py\", line 318, in __get__\n",
            "    obj = instance._get_current_object()\n",
            "          ^^^^^^^^^^^^^^^^^^^^^^^^^^^^^^\n",
            "  File \"/usr/local/lib/python3.11/dist-packages/werkzeug/local.py\", line 519, in _get_current_object\n",
            "    raise RuntimeError(unbound_message) from None\n",
            "RuntimeError: Working outside of request context.\n",
            "\n",
            "This typically means that you attempted to use functionality that needed\n",
            "an active HTTP request. Consult the documentation on testing for\n",
            "information about how to avoid this problem.\n"
          ]
        },
        {
          "output_type": "execute_result",
          "data": {
            "text/plain": [
              "'\\n<!DOCTYPE html>\\n<html>\\n<head>\\n    <title>Welcome {{ user.name }}</title>\\n</head>\\n<body>\\n    <h1>Hello, {{ user.name }}!</h1>\\n    <p>Your role: {{ user.role }}</p>\\n\\n    <h3>Skills:</h3>\\n    <ul>\\n        {% for skill in user.skills %}\\n        <li>{{ skill }}</li>\\n        {% endfor %}\\n    </ul>\\n</body>\\n</html>\\n'"
            ],
            "application/vnd.google.colaboratory.intrinsic+json": {
              "type": "string"
            }
          },
          "metadata": {},
          "execution_count": 35
        }
      ]
    },
    {
      "cell_type": "markdown",
      "source": [
        "**5.\tHow can you generate URLs for routes in Flask using url_for?**"
      ],
      "metadata": {
        "id": "mHH4imWOxcWz"
      }
    },
    {
      "cell_type": "code",
      "source": [
        "from flask import Flask, render_template, url_for\n",
        "\n",
        "app = Flask(__name__)\n",
        "\n",
        "@app.route('/')\n",
        "def home():\n",
        "    return render_template('home.html')\n",
        "\n",
        "@app.route('/about')\n",
        "def about():\n",
        "    return \"This is the About Page.\"\n",
        "\n",
        "@app.route('/user/<username>')\n",
        "def profile(username):\n",
        "    return f\"Hello, {username}! This is your profile.\"\n",
        "\n",
        "if __name__ == '__main__':\n",
        "    app.run(debug=True)\n",
        "\n",
        "\n",
        "'''\n",
        "<!DOCTYPE html>\n",
        "<html>\n",
        "<head>\n",
        "    <title>URL For Demo</title>\n",
        "</head>\n",
        "<body>\n",
        "    <h1>Home Page</h1>\n",
        "\n",
        "    <!-- Generate URL for the about page -->\n",
        "    <a href=\"{{ url_for('about') }}\">About Page</a><br>\n",
        "\n",
        "    <!-- Generate URL for the profile page with a parameter -->\n",
        "    <a href=\"{{ url_for('profile', username='vishal') }}\">Visit Vishal's Profile</a><br>\n",
        "\n",
        "    <!-- You can also use url_for in form actions -->\n",
        "    <form action=\"{{ url_for('profile', username='guest') }}\" method=\"get\">\n",
        "        <button type=\"submit\">Go to Guest Profile</button>\n",
        "    </form>\n",
        "</body>\n",
        "</html>\n",
        "'''"
      ],
      "metadata": {
        "colab": {
          "base_uri": "https://localhost:8080/",
          "height": 712
        },
        "id": "0KZjST7vxgdI",
        "outputId": "1f098a56-1158-4d16-c621-8476e1ec1173"
      },
      "execution_count": 36,
      "outputs": [
        {
          "output_type": "stream",
          "name": "stdout",
          "text": [
            " * Serving Flask app '__main__'\n",
            " * Debug mode: on\n"
          ]
        },
        {
          "output_type": "stream",
          "name": "stderr",
          "text": [
            "INFO:werkzeug:\u001b[31m\u001b[1mWARNING: This is a development server. Do not use it in a production deployment. Use a production WSGI server instead.\u001b[0m\n",
            " * Running on http://127.0.0.1:5000\n",
            "INFO:werkzeug:\u001b[33mPress CTRL+C to quit\u001b[0m\n",
            "INFO:werkzeug: * Restarting with stat\n",
            "ERROR:root:Unexpected exception finding object shape\n",
            "Traceback (most recent call last):\n",
            "  File \"/usr/local/lib/python3.11/dist-packages/google/colab/_debugpy_repr.py\", line 54, in get_shape\n",
            "    shape = getattr(obj, 'shape', None)\n",
            "            ^^^^^^^^^^^^^^^^^^^^^^^^^^^\n",
            "  File \"/usr/local/lib/python3.11/dist-packages/werkzeug/local.py\", line 318, in __get__\n",
            "    obj = instance._get_current_object()\n",
            "          ^^^^^^^^^^^^^^^^^^^^^^^^^^^^^^\n",
            "  File \"/usr/local/lib/python3.11/dist-packages/werkzeug/local.py\", line 519, in _get_current_object\n",
            "    raise RuntimeError(unbound_message) from None\n",
            "RuntimeError: Working outside of request context.\n",
            "\n",
            "This typically means that you attempted to use functionality that needed\n",
            "an active HTTP request. Consult the documentation on testing for\n",
            "information about how to avoid this problem.\n",
            "ERROR:root:Unexpected exception finding object shape\n",
            "Traceback (most recent call last):\n",
            "  File \"/usr/local/lib/python3.11/dist-packages/google/colab/_debugpy_repr.py\", line 54, in get_shape\n",
            "    shape = getattr(obj, 'shape', None)\n",
            "            ^^^^^^^^^^^^^^^^^^^^^^^^^^^\n",
            "  File \"/usr/local/lib/python3.11/dist-packages/werkzeug/local.py\", line 318, in __get__\n",
            "    obj = instance._get_current_object()\n",
            "          ^^^^^^^^^^^^^^^^^^^^^^^^^^^^^^\n",
            "  File \"/usr/local/lib/python3.11/dist-packages/werkzeug/local.py\", line 519, in _get_current_object\n",
            "    raise RuntimeError(unbound_message) from None\n",
            "RuntimeError: Working outside of request context.\n",
            "\n",
            "This typically means that you attempted to use functionality that needed\n",
            "an active HTTP request. Consult the documentation on testing for\n",
            "information about how to avoid this problem.\n"
          ]
        },
        {
          "output_type": "execute_result",
          "data": {
            "text/plain": [
              "'\\n<!DOCTYPE html>\\n<html>\\n<head>\\n    <title>URL For Demo</title>\\n</head>\\n<body>\\n    <h1>Home Page</h1>\\n\\n    <!-- Generate URL for the about page -->\\n    <a href=\"{{ url_for(\\'about\\') }}\">About Page</a><br>\\n\\n    <!-- Generate URL for the profile page with a parameter -->\\n    <a href=\"{{ url_for(\\'profile\\', username=\\'vishal\\') }}\">Visit Vishal\\'s Profile</a><br>\\n\\n    <!-- You can also use url_for in form actions -->\\n    <form action=\"{{ url_for(\\'profile\\', username=\\'guest\\') }}\" method=\"get\">\\n        <button type=\"submit\">Go to Guest Profile</button>\\n    </form>\\n</body>\\n</html>\\n'"
            ],
            "application/vnd.google.colaboratory.intrinsic+json": {
              "type": "string"
            }
          },
          "metadata": {},
          "execution_count": 36
        }
      ]
    },
    {
      "cell_type": "markdown",
      "source": [
        "**6.\tHow do you handle forms in Flask?**"
      ],
      "metadata": {
        "id": "-qYmD0pNx0eu"
      }
    },
    {
      "cell_type": "code",
      "source": [
        "from flask import Flask, render_template, request\n",
        "\n",
        "app = Flask(__name__)\n",
        "\n",
        "@app.route('/')\n",
        "def index():\n",
        "    return render_template(\"form.html\")\n",
        "\n",
        "@app.route('/submit', methods=['POST'])\n",
        "def submit():\n",
        "    name = request.form.get('name')\n",
        "    if not name:\n",
        "        return \"Name is required\", 400\n",
        "    return render_template(\"welcome.html\", name=name)\n",
        "\n",
        "if __name__ == '__main__':\n",
        "    app.run(debug=True)\n",
        "\n",
        "\n",
        "'''\n",
        "<!DOCTYPE html>\n",
        "<html>\n",
        "<head>\n",
        "    <title>Submit Form</title>\n",
        "</head>\n",
        "<body>\n",
        "    <h2>Enter your name</h2>\n",
        "    <form method=\"POST\" action=\"{{ url_for('submit') }}\">\n",
        "        <input type=\"text\" name=\"name\" placeholder=\"Your name\">\n",
        "        <button type=\"submit\">Submit</button>\n",
        "    </form>\n",
        "</body>\n",
        "</html>\n",
        "\n",
        "'''\n",
        "\n",
        "'''\n",
        "<!DOCTYPE html>\n",
        "<html>\n",
        "<head>\n",
        "    <title>Welcome</title>\n",
        "</head>\n",
        "<body>\n",
        "    <h1>Hello, {{ name }}! 👋</h1>\n",
        "    <p>Thanks for submitting the form.</p>\n",
        "</body>\n",
        "</html>\n",
        "\n",
        "'''"
      ],
      "metadata": {
        "colab": {
          "base_uri": "https://localhost:8080/",
          "height": 678
        },
        "id": "QatYltXvyD_j",
        "outputId": "cac9aacb-7cf0-455a-9034-0c832d385be5"
      },
      "execution_count": 37,
      "outputs": [
        {
          "output_type": "stream",
          "name": "stdout",
          "text": [
            " * Serving Flask app '__main__'\n",
            " * Debug mode: on\n"
          ]
        },
        {
          "output_type": "stream",
          "name": "stderr",
          "text": [
            "INFO:werkzeug:\u001b[31m\u001b[1mWARNING: This is a development server. Do not use it in a production deployment. Use a production WSGI server instead.\u001b[0m\n",
            " * Running on http://127.0.0.1:5000\n",
            "INFO:werkzeug:\u001b[33mPress CTRL+C to quit\u001b[0m\n",
            "INFO:werkzeug: * Restarting with stat\n",
            "ERROR:root:Unexpected exception finding object shape\n",
            "Traceback (most recent call last):\n",
            "  File \"/usr/local/lib/python3.11/dist-packages/google/colab/_debugpy_repr.py\", line 54, in get_shape\n",
            "    shape = getattr(obj, 'shape', None)\n",
            "            ^^^^^^^^^^^^^^^^^^^^^^^^^^^\n",
            "  File \"/usr/local/lib/python3.11/dist-packages/werkzeug/local.py\", line 318, in __get__\n",
            "    obj = instance._get_current_object()\n",
            "          ^^^^^^^^^^^^^^^^^^^^^^^^^^^^^^\n",
            "  File \"/usr/local/lib/python3.11/dist-packages/werkzeug/local.py\", line 519, in _get_current_object\n",
            "    raise RuntimeError(unbound_message) from None\n",
            "RuntimeError: Working outside of request context.\n",
            "\n",
            "This typically means that you attempted to use functionality that needed\n",
            "an active HTTP request. Consult the documentation on testing for\n",
            "information about how to avoid this problem.\n",
            "ERROR:root:Unexpected exception finding object shape\n",
            "Traceback (most recent call last):\n",
            "  File \"/usr/local/lib/python3.11/dist-packages/google/colab/_debugpy_repr.py\", line 54, in get_shape\n",
            "    shape = getattr(obj, 'shape', None)\n",
            "            ^^^^^^^^^^^^^^^^^^^^^^^^^^^\n",
            "  File \"/usr/local/lib/python3.11/dist-packages/werkzeug/local.py\", line 318, in __get__\n",
            "    obj = instance._get_current_object()\n",
            "          ^^^^^^^^^^^^^^^^^^^^^^^^^^^^^^\n",
            "  File \"/usr/local/lib/python3.11/dist-packages/werkzeug/local.py\", line 519, in _get_current_object\n",
            "    raise RuntimeError(unbound_message) from None\n",
            "RuntimeError: Working outside of request context.\n",
            "\n",
            "This typically means that you attempted to use functionality that needed\n",
            "an active HTTP request. Consult the documentation on testing for\n",
            "information about how to avoid this problem.\n"
          ]
        },
        {
          "output_type": "execute_result",
          "data": {
            "text/plain": [
              "'\\n<!DOCTYPE html>\\n<html>\\n<head>\\n    <title>Welcome</title>\\n</head>\\n<body>\\n    <h1>Hello, {{ name }}! 👋</h1>\\n    <p>Thanks for submitting the form.</p>\\n</body>\\n</html>\\n\\n'"
            ],
            "application/vnd.google.colaboratory.intrinsic+json": {
              "type": "string"
            }
          },
          "metadata": {},
          "execution_count": 37
        }
      ]
    },
    {
      "cell_type": "markdown",
      "source": [
        "**7.\tHow can you validate form data in Flask?**"
      ],
      "metadata": {
        "id": "tAH2wwYlycC8"
      }
    },
    {
      "cell_type": "code",
      "source": [
        "from flask import Flask, render_template_string\n",
        "from flask_wtf import FlaskForm\n",
        "from wtforms import StringField, SubmitField\n",
        "from wtforms.validators import DataRequired, Length\n",
        "\n",
        "# Step 1: Flask app setup\n",
        "app = Flask(__name__)\n",
        "app.secret_key = 'supersecretkey'  # Required for Flask-WTF CSRF\n",
        "\n",
        "# Step 2: Define the form\n",
        "class NameForm(FlaskForm):\n",
        "    name = StringField('Your Name', validators=[\n",
        "        DataRequired(message=\"Name is required\"),\n",
        "        Length(min=3, message=\"Name must be at least 3 characters\")\n",
        "    ])\n",
        "    submit = SubmitField('Submit')\n",
        "\n",
        "# Step 3: Route with form rendering + validation\n",
        "@app.route('/', methods=['GET', 'POST'])\n",
        "def home():\n",
        "    form = NameForm()\n",
        "    if form.validate_on_submit():\n",
        "        return f\"<h2>Hello, {form.name.data}!</h2><p>Form submitted successfully!</p>\"\n",
        "\n",
        "    # Step 4: Render form with template string (no external file)\n",
        "    return render_template_string('''\n",
        "        <!DOCTYPE html>\n",
        "        <html>\n",
        "        <head><title>Flask Form Validation</title></head>\n",
        "        <body>\n",
        "            <h1>Enter Your Name</h1>\n",
        "            <form method=\"POST\">\n",
        "                {{ form.hidden_tag() }}\n",
        "                {{ form.name.label }}<br>\n",
        "                {{ form.name(size=30) }}<br>\n",
        "                {% for error in form.name.errors %}\n",
        "                    <p style=\"color:red;\">{{ error }}</p>\n",
        "                {% endfor %}\n",
        "                <br>\n",
        "                {{ form.submit() }}\n",
        "            </form>\n",
        "        </body>\n",
        "        </html>\n",
        "    ''', form=form)\n",
        "\n",
        "if __name__ == '__main__':\n",
        "    app.run(debug=True)\n"
      ],
      "metadata": {
        "colab": {
          "base_uri": "https://localhost:8080/"
        },
        "id": "i4YP0_Doym6F",
        "outputId": "4456fc9b-182d-4755-e38d-0c9e85719e6f"
      },
      "execution_count": 41,
      "outputs": [
        {
          "output_type": "stream",
          "name": "stdout",
          "text": [
            " * Serving Flask app '__main__'\n",
            " * Debug mode: on\n"
          ]
        },
        {
          "output_type": "stream",
          "name": "stderr",
          "text": [
            "INFO:werkzeug:\u001b[31m\u001b[1mWARNING: This is a development server. Do not use it in a production deployment. Use a production WSGI server instead.\u001b[0m\n",
            " * Running on http://127.0.0.1:5000\n",
            "INFO:werkzeug:\u001b[33mPress CTRL+C to quit\u001b[0m\n",
            "INFO:werkzeug: * Restarting with stat\n",
            "ERROR:root:Unexpected exception finding object shape\n",
            "Traceback (most recent call last):\n",
            "  File \"/usr/local/lib/python3.11/dist-packages/google/colab/_debugpy_repr.py\", line 54, in get_shape\n",
            "    shape = getattr(obj, 'shape', None)\n",
            "            ^^^^^^^^^^^^^^^^^^^^^^^^^^^\n",
            "  File \"/usr/local/lib/python3.11/dist-packages/werkzeug/local.py\", line 318, in __get__\n",
            "    obj = instance._get_current_object()\n",
            "          ^^^^^^^^^^^^^^^^^^^^^^^^^^^^^^\n",
            "  File \"/usr/local/lib/python3.11/dist-packages/werkzeug/local.py\", line 519, in _get_current_object\n",
            "    raise RuntimeError(unbound_message) from None\n",
            "RuntimeError: Working outside of request context.\n",
            "\n",
            "This typically means that you attempted to use functionality that needed\n",
            "an active HTTP request. Consult the documentation on testing for\n",
            "information about how to avoid this problem.\n",
            "ERROR:root:Unexpected exception finding object shape\n",
            "Traceback (most recent call last):\n",
            "  File \"/usr/local/lib/python3.11/dist-packages/google/colab/_debugpy_repr.py\", line 54, in get_shape\n",
            "    shape = getattr(obj, 'shape', None)\n",
            "            ^^^^^^^^^^^^^^^^^^^^^^^^^^^\n",
            "  File \"/usr/local/lib/python3.11/dist-packages/werkzeug/local.py\", line 318, in __get__\n",
            "    obj = instance._get_current_object()\n",
            "          ^^^^^^^^^^^^^^^^^^^^^^^^^^^^^^\n",
            "  File \"/usr/local/lib/python3.11/dist-packages/werkzeug/local.py\", line 519, in _get_current_object\n",
            "    raise RuntimeError(unbound_message) from None\n",
            "RuntimeError: Working outside of request context.\n",
            "\n",
            "This typically means that you attempted to use functionality that needed\n",
            "an active HTTP request. Consult the documentation on testing for\n",
            "information about how to avoid this problem.\n"
          ]
        }
      ]
    },
    {
      "cell_type": "markdown",
      "source": [
        "**8.\tHow do you manage sessions in Flask?**"
      ],
      "metadata": {
        "id": "q8Q2yQ3OzH1L"
      }
    },
    {
      "cell_type": "code",
      "source": [
        "from flask import Flask, session, redirect, url_for, request, render_template_string\n",
        "\n",
        "app = Flask(__name__)\n",
        "app.secret_key = 'supersecretkey'  # Required to use sessions\n",
        "\n",
        "# Template using render_template_string for simplicity\n",
        "TEMPLATE = '''\n",
        "<!DOCTYPE html>\n",
        "<html>\n",
        "<head><title>Flask Session Example</title></head>\n",
        "<body>\n",
        "    {% if 'username' in session %}\n",
        "        <h2>Welcome, {{ session['username'] }}!</h2>\n",
        "        <p><a href=\"{{ url_for('logout') }}\">Logout</a></p>\n",
        "    {% else %}\n",
        "        <h2>You are not logged in</h2>\n",
        "        <form method=\"POST\" action=\"{{ url_for('login') }}\">\n",
        "            <input type=\"text\" name=\"username\" placeholder=\"Enter username\">\n",
        "            <button type=\"submit\">Login</button>\n",
        "        </form>\n",
        "    {% endif %}\n",
        "</body>\n",
        "</html>\n",
        "'''\n",
        "\n",
        "@app.route('/')\n",
        "def index():\n",
        "    return render_template_string(TEMPLATE)\n",
        "\n",
        "@app.route('/login', methods=['POST'])\n",
        "def login():\n",
        "    username = request.form.get('username')\n",
        "    if not username:\n",
        "        return \"Username is required\", 400\n",
        "    session['username'] = username  # ✅ Store in session\n",
        "    return redirect(url_for('index'))\n",
        "\n",
        "@app.route('/logout')\n",
        "def logout():\n",
        "    session.pop('username', None)  # ✅ Remove from session\n",
        "    return redirect(url_for('index'))\n",
        "\n",
        "if __name__ == '__main__':\n",
        "    app.run(debug=True)\n"
      ],
      "metadata": {
        "colab": {
          "base_uri": "https://localhost:8080/"
        },
        "id": "gpriF1gNzMKE",
        "outputId": "271ddcd5-b32f-43ef-8a24-cec7b93ff0f9"
      },
      "execution_count": 42,
      "outputs": [
        {
          "output_type": "stream",
          "name": "stdout",
          "text": [
            " * Serving Flask app '__main__'\n",
            " * Debug mode: on\n"
          ]
        },
        {
          "output_type": "stream",
          "name": "stderr",
          "text": [
            "INFO:werkzeug:\u001b[31m\u001b[1mWARNING: This is a development server. Do not use it in a production deployment. Use a production WSGI server instead.\u001b[0m\n",
            " * Running on http://127.0.0.1:5000\n",
            "INFO:werkzeug:\u001b[33mPress CTRL+C to quit\u001b[0m\n",
            "INFO:werkzeug: * Restarting with stat\n"
          ]
        }
      ]
    },
    {
      "cell_type": "markdown",
      "source": [
        "**9.\tHow do you redirect to a different route in Flask?**"
      ],
      "metadata": {
        "id": "eh4YGrsdzYhO"
      }
    },
    {
      "cell_type": "code",
      "source": [
        "from flask import Flask, request, redirect, url_for, session, render_template_string\n",
        "\n",
        "app = Flask(__name__)\n",
        "app.secret_key = 'supersecretkey'\n",
        "\n",
        "# ✅ HTML Template\n",
        "TEMPLATE = '''\n",
        "<!DOCTYPE html>\n",
        "<html>\n",
        "<head><title>Flask Redirect Example</title></head>\n",
        "<body>\n",
        "    {% if 'user' in session %}\n",
        "        <h2>Hello, {{ session['user'] }}!</h2>\n",
        "        <a href=\"{{ url_for('logout') }}\">Logout</a>\n",
        "    {% else %}\n",
        "        <h2>Login Page</h2>\n",
        "        <form method=\"POST\" action=\"{{ url_for('login') }}\">\n",
        "            <input type=\"text\" name=\"username\" placeholder=\"Enter name\">\n",
        "            <button type=\"submit\">Login</button>\n",
        "        </form>\n",
        "    {% endif %}\n",
        "</body>\n",
        "</html>\n",
        "'''\n",
        "\n",
        "@app.route('/')\n",
        "def home():\n",
        "    return render_template_string(TEMPLATE)\n",
        "\n",
        "@app.route('/login', methods=['POST'])\n",
        "def login():\n",
        "    username = request.form.get('username')\n",
        "    if username:\n",
        "        session['user'] = username\n",
        "        return redirect(url_for('home'))  # ✅ Redirect to homepage\n",
        "    return \"Please enter a name\", 400\n",
        "\n",
        "@app.route('/logout')\n",
        "def logout():\n",
        "    session.pop('user', None)\n",
        "    return redirect(url_for('home'))  # ✅ Redirect to homepage\n",
        "\n",
        "if __name__ == '__main__':\n",
        "    app.run(debug=True)\n"
      ],
      "metadata": {
        "colab": {
          "base_uri": "https://localhost:8080/"
        },
        "id": "1vtOiUa_zb37",
        "outputId": "d767dd1f-b198-4587-8e48-f297ee60bfea"
      },
      "execution_count": 43,
      "outputs": [
        {
          "output_type": "stream",
          "name": "stdout",
          "text": [
            " * Serving Flask app '__main__'\n",
            " * Debug mode: on\n"
          ]
        },
        {
          "output_type": "stream",
          "name": "stderr",
          "text": [
            "INFO:werkzeug:\u001b[31m\u001b[1mWARNING: This is a development server. Do not use it in a production deployment. Use a production WSGI server instead.\u001b[0m\n",
            " * Running on http://127.0.0.1:5000\n",
            "INFO:werkzeug:\u001b[33mPress CTRL+C to quit\u001b[0m\n",
            "INFO:werkzeug: * Restarting with stat\n",
            "ERROR:root:Unexpected exception finding object shape\n",
            "Traceback (most recent call last):\n",
            "  File \"/usr/local/lib/python3.11/dist-packages/google/colab/_debugpy_repr.py\", line 54, in get_shape\n",
            "    shape = getattr(obj, 'shape', None)\n",
            "            ^^^^^^^^^^^^^^^^^^^^^^^^^^^\n",
            "  File \"/usr/local/lib/python3.11/dist-packages/werkzeug/local.py\", line 318, in __get__\n",
            "    obj = instance._get_current_object()\n",
            "          ^^^^^^^^^^^^^^^^^^^^^^^^^^^^^^\n",
            "  File \"/usr/local/lib/python3.11/dist-packages/werkzeug/local.py\", line 519, in _get_current_object\n",
            "    raise RuntimeError(unbound_message) from None\n",
            "RuntimeError: Working outside of request context.\n",
            "\n",
            "This typically means that you attempted to use functionality that needed\n",
            "an active HTTP request. Consult the documentation on testing for\n",
            "information about how to avoid this problem.\n",
            "ERROR:root:Unexpected exception finding object shape\n",
            "Traceback (most recent call last):\n",
            "  File \"/usr/local/lib/python3.11/dist-packages/google/colab/_debugpy_repr.py\", line 54, in get_shape\n",
            "    shape = getattr(obj, 'shape', None)\n",
            "            ^^^^^^^^^^^^^^^^^^^^^^^^^^^\n",
            "  File \"/usr/local/lib/python3.11/dist-packages/werkzeug/local.py\", line 318, in __get__\n",
            "    obj = instance._get_current_object()\n",
            "          ^^^^^^^^^^^^^^^^^^^^^^^^^^^^^^\n",
            "  File \"/usr/local/lib/python3.11/dist-packages/werkzeug/local.py\", line 519, in _get_current_object\n",
            "    raise RuntimeError(unbound_message) from None\n",
            "RuntimeError: Working outside of request context.\n",
            "\n",
            "This typically means that you attempted to use functionality that needed\n",
            "an active HTTP request. Consult the documentation on testing for\n",
            "information about how to avoid this problem.\n",
            "ERROR:root:Unexpected exception finding object shape\n",
            "Traceback (most recent call last):\n",
            "  File \"/usr/local/lib/python3.11/dist-packages/google/colab/_debugpy_repr.py\", line 54, in get_shape\n",
            "    shape = getattr(obj, 'shape', None)\n",
            "            ^^^^^^^^^^^^^^^^^^^^^^^^^^^\n",
            "  File \"/usr/local/lib/python3.11/dist-packages/werkzeug/local.py\", line 318, in __get__\n",
            "    obj = instance._get_current_object()\n",
            "          ^^^^^^^^^^^^^^^^^^^^^^^^^^^^^^\n",
            "  File \"/usr/local/lib/python3.11/dist-packages/werkzeug/local.py\", line 519, in _get_current_object\n",
            "    raise RuntimeError(unbound_message) from None\n",
            "RuntimeError: Working outside of request context.\n",
            "\n",
            "This typically means that you attempted to use functionality that needed\n",
            "an active HTTP request. Consult the documentation on testing for\n",
            "information about how to avoid this problem.\n",
            "ERROR:root:Unexpected exception finding object shape\n",
            "Traceback (most recent call last):\n",
            "  File \"/usr/local/lib/python3.11/dist-packages/google/colab/_debugpy_repr.py\", line 54, in get_shape\n",
            "    shape = getattr(obj, 'shape', None)\n",
            "            ^^^^^^^^^^^^^^^^^^^^^^^^^^^\n",
            "  File \"/usr/local/lib/python3.11/dist-packages/werkzeug/local.py\", line 318, in __get__\n",
            "    obj = instance._get_current_object()\n",
            "          ^^^^^^^^^^^^^^^^^^^^^^^^^^^^^^\n",
            "  File \"/usr/local/lib/python3.11/dist-packages/werkzeug/local.py\", line 519, in _get_current_object\n",
            "    raise RuntimeError(unbound_message) from None\n",
            "RuntimeError: Working outside of request context.\n",
            "\n",
            "This typically means that you attempted to use functionality that needed\n",
            "an active HTTP request. Consult the documentation on testing for\n",
            "information about how to avoid this problem.\n"
          ]
        }
      ]
    },
    {
      "cell_type": "markdown",
      "source": [
        "**10.\tHow do you handle errors in Flask (e.g., 404)?**"
      ],
      "metadata": {
        "id": "Gto_6y__zo6y"
      }
    },
    {
      "cell_type": "code",
      "source": [
        "from flask import Flask, render_template_string, abort\n",
        "\n",
        "app = Flask(__name__)\n",
        "\n",
        "@app.route('/')\n",
        "def home():\n",
        "    return \"<h2>Welcome to the homepage!</h2><p>Try <a href='/missing'>/missing</a></p>\"\n",
        "\n",
        "@app.route('/error')\n",
        "def trigger_error():\n",
        "    raise Exception(\"Simulated server error\")  # Triggers 500\n",
        "\n",
        "#  Custom 404 Error Page\n",
        "@app.errorhandler(404)\n",
        "def page_not_found(e):\n",
        "    return render_template_string('''\n",
        "        <h1>404 - Page Not Found</h1>\n",
        "        <p>The page you are looking for does not exist.</p>\n",
        "        <a href=\"/\">Go back home</a>\n",
        "    '''), 404\n",
        "\n",
        "#  Custom 500 Error Page\n",
        "@app.errorhandler(500)\n",
        "def internal_error(e):\n",
        "    return render_template_string('''\n",
        "        <h1>500 - Server Error</h1>\n",
        "        <p>Something went wrong on our end.</p>\n",
        "        <a href=\"/\">Go back home</a>\n",
        "    '''), 500\n",
        "\n",
        "if __name__ == '__main__':\n",
        "    app.run(debug=True)\n"
      ],
      "metadata": {
        "colab": {
          "base_uri": "https://localhost:8080/"
        },
        "id": "wBdT7Ds0zssy",
        "outputId": "b99ca9af-c434-4fae-e5ea-78ad6a7c35b0"
      },
      "execution_count": 44,
      "outputs": [
        {
          "output_type": "stream",
          "name": "stdout",
          "text": [
            " * Serving Flask app '__main__'\n",
            " * Debug mode: on\n"
          ]
        },
        {
          "output_type": "stream",
          "name": "stderr",
          "text": [
            "INFO:werkzeug:\u001b[31m\u001b[1mWARNING: This is a development server. Do not use it in a production deployment. Use a production WSGI server instead.\u001b[0m\n",
            " * Running on http://127.0.0.1:5000\n",
            "INFO:werkzeug:\u001b[33mPress CTRL+C to quit\u001b[0m\n",
            "INFO:werkzeug: * Restarting with stat\n",
            "ERROR:root:Unexpected exception finding object shape\n",
            "Traceback (most recent call last):\n",
            "  File \"/usr/local/lib/python3.11/dist-packages/google/colab/_debugpy_repr.py\", line 54, in get_shape\n",
            "    shape = getattr(obj, 'shape', None)\n",
            "            ^^^^^^^^^^^^^^^^^^^^^^^^^^^\n",
            "  File \"/usr/local/lib/python3.11/dist-packages/werkzeug/local.py\", line 318, in __get__\n",
            "    obj = instance._get_current_object()\n",
            "          ^^^^^^^^^^^^^^^^^^^^^^^^^^^^^^\n",
            "  File \"/usr/local/lib/python3.11/dist-packages/werkzeug/local.py\", line 519, in _get_current_object\n",
            "    raise RuntimeError(unbound_message) from None\n",
            "RuntimeError: Working outside of request context.\n",
            "\n",
            "This typically means that you attempted to use functionality that needed\n",
            "an active HTTP request. Consult the documentation on testing for\n",
            "information about how to avoid this problem.\n",
            "ERROR:root:Unexpected exception finding object shape\n",
            "Traceback (most recent call last):\n",
            "  File \"/usr/local/lib/python3.11/dist-packages/google/colab/_debugpy_repr.py\", line 54, in get_shape\n",
            "    shape = getattr(obj, 'shape', None)\n",
            "            ^^^^^^^^^^^^^^^^^^^^^^^^^^^\n",
            "  File \"/usr/local/lib/python3.11/dist-packages/werkzeug/local.py\", line 318, in __get__\n",
            "    obj = instance._get_current_object()\n",
            "          ^^^^^^^^^^^^^^^^^^^^^^^^^^^^^^\n",
            "  File \"/usr/local/lib/python3.11/dist-packages/werkzeug/local.py\", line 519, in _get_current_object\n",
            "    raise RuntimeError(unbound_message) from None\n",
            "RuntimeError: Working outside of request context.\n",
            "\n",
            "This typically means that you attempted to use functionality that needed\n",
            "an active HTTP request. Consult the documentation on testing for\n",
            "information about how to avoid this problem.\n"
          ]
        }
      ]
    },
    {
      "cell_type": "markdown",
      "source": [
        "**11.\tHow do you structure a Flask app using Blueprints?**"
      ],
      "metadata": {
        "id": "1dGCUOgVz59-"
      }
    },
    {
      "cell_type": "code",
      "source": [
        "from flask import Flask\n",
        "from blueprints.blog import blog_bp\n",
        "\n",
        "app = Flask(__name__)\n",
        "app.register_blueprint(blog_bp, url_prefix='/blog')  # Prefix all routes\n",
        "\n",
        "@app.route('/')\n",
        "def home():\n",
        "    return \"<h2>Home Page</h2><a href='/blog/hello'>Go to Blog</a>\"\n",
        "\n",
        "if __name__ == '__main__':\n",
        "    app.run(debug=True)\n"
      ],
      "metadata": {
        "id": "cZ4bjW1Zz9W6"
      },
      "execution_count": null,
      "outputs": []
    },
    {
      "cell_type": "code",
      "source": [
        "from flask import Blueprint\n",
        "\n",
        "# Create the blueprint\n",
        "blog_bp = Blueprint('blog', __name__)\n",
        "\n",
        "# Define routes in blueprint\n",
        "@blog_bp.route('/hello')\n",
        "def hello_blog():\n",
        "    return \"<h3>Hello from the blog blueprint!</h3>\"\n",
        "\n",
        "@blog_bp.route('/post/<int:post_id>')\n",
        "def post(post_id):\n",
        "    return f\"<p>Viewing Blog Post #{post_id}</p>\"\n"
      ],
      "metadata": {
        "id": "u3L-5KN30P22"
      },
      "execution_count": null,
      "outputs": []
    },
    {
      "cell_type": "markdown",
      "source": [
        "**12.\tHow do you define a custom Jinja filter in Flask?**"
      ],
      "metadata": {
        "id": "rptFItt70R7J"
      }
    },
    {
      "cell_type": "code",
      "source": [
        "from flask import Flask, render_template_string\n",
        "\n",
        "app = Flask(__name__)\n",
        "\n",
        "#  Define a custom Jinja filter\n",
        "def reverse_str(s):\n",
        "    return s[::-1]\n",
        "\n",
        "#  Register the filter with Flask's Jinja environment\n",
        "app.jinja_env.filters['reverse'] = reverse_str\n",
        "\n",
        "@app.route('/')\n",
        "def home():\n",
        "    name = \"Vishal\"\n",
        "    return render_template_string('''\n",
        "        <h1>Using Custom Jinja Filter</h1>\n",
        "        <p>Original: {{ name }}</p>\n",
        "        <p>Reversed: {{ name | reverse }}</p>\n",
        "    ''', name=name)\n",
        "\n",
        "if __name__ == '__main__':\n",
        "    app.run(debug=True)\n"
      ],
      "metadata": {
        "colab": {
          "base_uri": "https://localhost:8080/"
        },
        "id": "lG3qQjYW0VPi",
        "outputId": "33a878d4-faf6-473f-cf62-b126cfd547ee"
      },
      "execution_count": 46,
      "outputs": [
        {
          "output_type": "stream",
          "name": "stdout",
          "text": [
            " * Serving Flask app '__main__'\n",
            " * Debug mode: on\n"
          ]
        },
        {
          "output_type": "stream",
          "name": "stderr",
          "text": [
            "INFO:werkzeug:\u001b[31m\u001b[1mWARNING: This is a development server. Do not use it in a production deployment. Use a production WSGI server instead.\u001b[0m\n",
            " * Running on http://127.0.0.1:5000\n",
            "INFO:werkzeug:\u001b[33mPress CTRL+C to quit\u001b[0m\n",
            "INFO:werkzeug: * Restarting with stat\n"
          ]
        }
      ]
    },
    {
      "cell_type": "markdown",
      "source": [
        "**13.\tHow can you redirect with query parameters in Flask?**"
      ],
      "metadata": {
        "id": "t5u5aR770jh-"
      }
    },
    {
      "cell_type": "code",
      "source": [
        "from flask import Flask, request, redirect, url_for, render_template_string\n",
        "\n",
        "app = Flask(__name__)\n",
        "\n",
        "@app.route('/')\n",
        "def home():\n",
        "    return '''\n",
        "        <form method=\"POST\" action=\"/go\">\n",
        "            <input name=\"username\" placeholder=\"Enter username\">\n",
        "            <button type=\"submit\">Go</button>\n",
        "        </form>\n",
        "    '''\n",
        "\n",
        "@app.route('/go', methods=['POST'])\n",
        "def go():\n",
        "    username = request.form.get('username')\n",
        "    #  Redirect with query param like ?name=username\n",
        "    return redirect(url_for('greet', name=username))\n",
        "\n",
        "@app.route('/greet')\n",
        "def greet():\n",
        "    name = request.args.get('name', 'Guest')\n",
        "    return render_template_string(f'''\n",
        "        <h2>Hello, {name}!</h2>\n",
        "        <p><a href=\"/\">Go Back</a></p>\n",
        "    ''')\n",
        "\n",
        "if __name__ == '__main__':\n",
        "    app.run(debug=True)\n"
      ],
      "metadata": {
        "colab": {
          "base_uri": "https://localhost:8080/"
        },
        "id": "0qWXvmNT0nNM",
        "outputId": "a900ed5d-6e1f-4589-a071-0f0b470cd16b"
      },
      "execution_count": 47,
      "outputs": [
        {
          "output_type": "stream",
          "name": "stdout",
          "text": [
            " * Serving Flask app '__main__'\n",
            " * Debug mode: on\n"
          ]
        },
        {
          "output_type": "stream",
          "name": "stderr",
          "text": [
            "INFO:werkzeug:\u001b[31m\u001b[1mWARNING: This is a development server. Do not use it in a production deployment. Use a production WSGI server instead.\u001b[0m\n",
            " * Running on http://127.0.0.1:5000\n",
            "INFO:werkzeug:\u001b[33mPress CTRL+C to quit\u001b[0m\n",
            "INFO:werkzeug: * Restarting with stat\n",
            "ERROR:root:Unexpected exception finding object shape\n",
            "Traceback (most recent call last):\n",
            "  File \"/usr/local/lib/python3.11/dist-packages/google/colab/_debugpy_repr.py\", line 54, in get_shape\n",
            "    shape = getattr(obj, 'shape', None)\n",
            "            ^^^^^^^^^^^^^^^^^^^^^^^^^^^\n",
            "  File \"/usr/local/lib/python3.11/dist-packages/werkzeug/local.py\", line 318, in __get__\n",
            "    obj = instance._get_current_object()\n",
            "          ^^^^^^^^^^^^^^^^^^^^^^^^^^^^^^\n",
            "  File \"/usr/local/lib/python3.11/dist-packages/werkzeug/local.py\", line 519, in _get_current_object\n",
            "    raise RuntimeError(unbound_message) from None\n",
            "RuntimeError: Working outside of request context.\n",
            "\n",
            "This typically means that you attempted to use functionality that needed\n",
            "an active HTTP request. Consult the documentation on testing for\n",
            "information about how to avoid this problem.\n",
            "ERROR:root:Unexpected exception finding object shape\n",
            "Traceback (most recent call last):\n",
            "  File \"/usr/local/lib/python3.11/dist-packages/google/colab/_debugpy_repr.py\", line 54, in get_shape\n",
            "    shape = getattr(obj, 'shape', None)\n",
            "            ^^^^^^^^^^^^^^^^^^^^^^^^^^^\n",
            "  File \"/usr/local/lib/python3.11/dist-packages/werkzeug/local.py\", line 318, in __get__\n",
            "    obj = instance._get_current_object()\n",
            "          ^^^^^^^^^^^^^^^^^^^^^^^^^^^^^^\n",
            "  File \"/usr/local/lib/python3.11/dist-packages/werkzeug/local.py\", line 519, in _get_current_object\n",
            "    raise RuntimeError(unbound_message) from None\n",
            "RuntimeError: Working outside of request context.\n",
            "\n",
            "This typically means that you attempted to use functionality that needed\n",
            "an active HTTP request. Consult the documentation on testing for\n",
            "information about how to avoid this problem.\n",
            "ERROR:root:Unexpected exception finding object shape\n",
            "Traceback (most recent call last):\n",
            "  File \"/usr/local/lib/python3.11/dist-packages/google/colab/_debugpy_repr.py\", line 54, in get_shape\n",
            "    shape = getattr(obj, 'shape', None)\n",
            "            ^^^^^^^^^^^^^^^^^^^^^^^^^^^\n",
            "  File \"/usr/local/lib/python3.11/dist-packages/werkzeug/local.py\", line 318, in __get__\n",
            "    obj = instance._get_current_object()\n",
            "          ^^^^^^^^^^^^^^^^^^^^^^^^^^^^^^\n",
            "  File \"/usr/local/lib/python3.11/dist-packages/werkzeug/local.py\", line 519, in _get_current_object\n",
            "    raise RuntimeError(unbound_message) from None\n",
            "RuntimeError: Working outside of request context.\n",
            "\n",
            "This typically means that you attempted to use functionality that needed\n",
            "an active HTTP request. Consult the documentation on testing for\n",
            "information about how to avoid this problem.\n",
            "ERROR:root:Unexpected exception finding object shape\n",
            "Traceback (most recent call last):\n",
            "  File \"/usr/local/lib/python3.11/dist-packages/google/colab/_debugpy_repr.py\", line 54, in get_shape\n",
            "    shape = getattr(obj, 'shape', None)\n",
            "            ^^^^^^^^^^^^^^^^^^^^^^^^^^^\n",
            "  File \"/usr/local/lib/python3.11/dist-packages/werkzeug/local.py\", line 318, in __get__\n",
            "    obj = instance._get_current_object()\n",
            "          ^^^^^^^^^^^^^^^^^^^^^^^^^^^^^^\n",
            "  File \"/usr/local/lib/python3.11/dist-packages/werkzeug/local.py\", line 519, in _get_current_object\n",
            "    raise RuntimeError(unbound_message) from None\n",
            "RuntimeError: Working outside of request context.\n",
            "\n",
            "This typically means that you attempted to use functionality that needed\n",
            "an active HTTP request. Consult the documentation on testing for\n",
            "information about how to avoid this problem.\n"
          ]
        }
      ]
    },
    {
      "cell_type": "markdown",
      "source": [
        "**14.\tHow do you return JSON responses in Flask?**"
      ],
      "metadata": {
        "id": "ezy28ss-0yE6"
      }
    },
    {
      "cell_type": "code",
      "source": [
        "from flask import Flask, jsonify, request\n",
        "\n",
        "app = Flask(__name__)\n",
        "\n",
        "#  Basic JSON response\n",
        "@app.route('/api/status')\n",
        "def status():\n",
        "    return jsonify({\"status\": \"ok\", \"message\": \"API is running\"})\n",
        "\n",
        "#  JSON response with dynamic input\n",
        "@app.route('/api/user', methods=['POST'])\n",
        "def create_user():\n",
        "    data = request.get_json()  # Read JSON body\n",
        "    username = data.get('username', 'guest')\n",
        "    return jsonify({\n",
        "        \"success\": True,\n",
        "        \"message\": f\"User {username} created\",\n",
        "        \"data\": data\n",
        "    }), 201  # 201 = Created\n",
        "\n",
        "if __name__ == '__main__':\n",
        "    app.run(debug=True)\n"
      ],
      "metadata": {
        "colab": {
          "base_uri": "https://localhost:8080/"
        },
        "id": "MOBf1PdV01Q-",
        "outputId": "93a182b8-dee3-44fe-aac0-f5bc959bc3af"
      },
      "execution_count": 48,
      "outputs": [
        {
          "output_type": "stream",
          "name": "stdout",
          "text": [
            " * Serving Flask app '__main__'\n",
            " * Debug mode: on\n"
          ]
        },
        {
          "output_type": "stream",
          "name": "stderr",
          "text": [
            "INFO:werkzeug:\u001b[31m\u001b[1mWARNING: This is a development server. Do not use it in a production deployment. Use a production WSGI server instead.\u001b[0m\n",
            " * Running on http://127.0.0.1:5000\n",
            "INFO:werkzeug:\u001b[33mPress CTRL+C to quit\u001b[0m\n",
            "INFO:werkzeug: * Restarting with stat\n"
          ]
        }
      ]
    },
    {
      "cell_type": "markdown",
      "source": [
        "**15.\tHow do you capture URL parameters in Flask?**"
      ],
      "metadata": {
        "id": "GrRr7nzB1CKJ"
      }
    },
    {
      "cell_type": "code",
      "source": [
        "from flask import Flask\n",
        "\n",
        "app = Flask(__name__)\n",
        "\n",
        "#  Capture string parameter from the URL\n",
        "@app.route('/hello/<username>')\n",
        "def greet_user(username):\n",
        "    return f\"<h2>Hello, {username.capitalize()}!</h2>\"\n",
        "\n",
        "#  Capture integer parameter from the URL\n",
        "@app.route('/square/<int:number>')\n",
        "def square_number(number):\n",
        "    return f\"<p>The square of {number} is {number ** 2}</p>\"\n",
        "\n",
        "#  Capture multiple parameters\n",
        "@app.route('/post/<int:year>/<string:title>')\n",
        "def show_post(year, title):\n",
        "    return f\"<p>Post '{title}' was published in {year}.</p>\"\n",
        "\n",
        "if __name__ == '__main__':\n",
        "    app.run(debug=True)\n"
      ],
      "metadata": {
        "colab": {
          "base_uri": "https://localhost:8080/"
        },
        "id": "c8PRz5tD1Fkg",
        "outputId": "24ca9f5e-7a23-4d4d-fbc8-4a70de7b9164"
      },
      "execution_count": 49,
      "outputs": [
        {
          "output_type": "stream",
          "name": "stdout",
          "text": [
            " * Serving Flask app '__main__'\n",
            " * Debug mode: on\n"
          ]
        },
        {
          "output_type": "stream",
          "name": "stderr",
          "text": [
            "INFO:werkzeug:\u001b[31m\u001b[1mWARNING: This is a development server. Do not use it in a production deployment. Use a production WSGI server instead.\u001b[0m\n",
            " * Running on http://127.0.0.1:5000\n",
            "INFO:werkzeug:\u001b[33mPress CTRL+C to quit\u001b[0m\n",
            "INFO:werkzeug: * Restarting with stat\n",
            "ERROR:root:Unexpected exception finding object shape\n",
            "Traceback (most recent call last):\n",
            "  File \"/usr/local/lib/python3.11/dist-packages/google/colab/_debugpy_repr.py\", line 54, in get_shape\n",
            "    shape = getattr(obj, 'shape', None)\n",
            "            ^^^^^^^^^^^^^^^^^^^^^^^^^^^\n",
            "  File \"/usr/local/lib/python3.11/dist-packages/werkzeug/local.py\", line 318, in __get__\n",
            "    obj = instance._get_current_object()\n",
            "          ^^^^^^^^^^^^^^^^^^^^^^^^^^^^^^\n",
            "  File \"/usr/local/lib/python3.11/dist-packages/werkzeug/local.py\", line 519, in _get_current_object\n",
            "    raise RuntimeError(unbound_message) from None\n",
            "RuntimeError: Working outside of request context.\n",
            "\n",
            "This typically means that you attempted to use functionality that needed\n",
            "an active HTTP request. Consult the documentation on testing for\n",
            "information about how to avoid this problem.\n",
            "ERROR:root:Unexpected exception finding object shape\n",
            "Traceback (most recent call last):\n",
            "  File \"/usr/local/lib/python3.11/dist-packages/google/colab/_debugpy_repr.py\", line 54, in get_shape\n",
            "    shape = getattr(obj, 'shape', None)\n",
            "            ^^^^^^^^^^^^^^^^^^^^^^^^^^^\n",
            "  File \"/usr/local/lib/python3.11/dist-packages/werkzeug/local.py\", line 318, in __get__\n",
            "    obj = instance._get_current_object()\n",
            "          ^^^^^^^^^^^^^^^^^^^^^^^^^^^^^^\n",
            "  File \"/usr/local/lib/python3.11/dist-packages/werkzeug/local.py\", line 519, in _get_current_object\n",
            "    raise RuntimeError(unbound_message) from None\n",
            "RuntimeError: Working outside of request context.\n",
            "\n",
            "This typically means that you attempted to use functionality that needed\n",
            "an active HTTP request. Consult the documentation on testing for\n",
            "information about how to avoid this problem.\n"
          ]
        }
      ]
    }
  ]
}